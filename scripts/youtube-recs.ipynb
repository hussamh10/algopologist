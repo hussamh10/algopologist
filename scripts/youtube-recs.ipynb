{
 "cells": [
  {
   "cell_type": "code",
   "execution_count": 1,
   "metadata": {},
   "outputs": [],
   "source": []
  },
  {
   "cell_type": "code",
   "execution_count": 2,
   "metadata": {},
   "outputs": [],
   "source": [
    "import sys\n",
    "import os\n",
    "sys.path.append(os.path.join('C:/', 'Users', 'hussa', 'Desktop', 'algopologist'))\n",
    "\n",
    "from core.browser.Selenium import BrowserFactory\n",
    "from core.account_creation.GoogleWorkspace import GoogleWorkspace\n",
    "from core.utils.util import wait, bigWait\n",
    "from core.utils.log import debug, error, logging"
   ]
  },
  {
   "cell_type": "code",
   "execution_count": 3,
   "metadata": {},
   "outputs": [],
   "source": [
    "email = 'xp0nba0@spartaaceap.com'\n",
    "password = 'hehehahahoho'"
   ]
  },
  {
   "cell_type": "code",
   "execution_count": 9,
   "metadata": {},
   "outputs": [],
   "source": [
    "youtube_video = 'https://www.youtube.com/watch?v='\n",
    "video_id = 'dmFwB0WEEDY'"
   ]
  },
  {
   "cell_type": "code",
   "execution_count": 5,
   "metadata": {},
   "outputs": [
    {
     "data": {
      "text/plain": [
       "<core.browser.Selenium.BrowserFactory at 0x11c24fa86d0>"
      ]
     },
     "execution_count": 5,
     "metadata": {},
     "output_type": "execute_result"
    }
   ],
   "source": [
    "from core.users.User import User\n",
    "from core.platforms.Youtube import Youtube\n",
    "BrowserFactory('uc_single')"
   ]
  },
  {
   "cell_type": "code",
   "execution_count": null,
   "metadata": {},
   "outputs": [],
   "source": [
    "g = GoogleWorkspace()\n",
    "g.initiateUser(email)"
   ]
  },
  {
   "cell_type": "code",
   "execution_count": 6,
   "metadata": {},
   "outputs": [
    {
     "name": "stdout",
     "output_type": "stream",
     "text": [
      "\u001b[33mturnOnHistory:\u001b[37m\t Turning on history\n",
      "\u001b[33mturnOnHistory:\u001b[37m\t Already turned on history\n",
      "\u001b[33mchromeSignUp:\u001b[37m\t Email: None\n",
      "C:\\Users\\hussa\\Desktop\\algopologist\\data\\screenshots yt-recs xp0nba0 Youtube create 5bd5d82a\n",
      "\u001b[33mscreenshot:\u001b[37m\t Taking screenshot\n",
      "\u001b[33mscreenshot:\u001b[37m\t Screenshot saved: C:\\Users\\hussa\\Desktop\\algopologist\\data\\screenshots\\yt-recs\\xp0nba0\\Youtube\\create-5bd5d82a.png\n",
      "\u001b[33maddSignal:\u001b[37m\t Signal added: create\n"
     ]
    }
   ],
   "source": [
    "user = User(Youtube, 'xp0nba0', 'yt-recs')\n",
    "user.chromeSignUp()"
   ]
  },
  {
   "cell_type": "code",
   "execution_count": 10,
   "metadata": {},
   "outputs": [],
   "source": [
    "user.platform.addToHistory(video_id)"
   ]
  },
  {
   "cell_type": "code",
   "execution_count": 11,
   "metadata": {},
   "outputs": [],
   "source": [
    "id = '08DSMeEpQyY'"
   ]
  },
  {
   "cell_type": "code",
   "execution_count": 14,
   "metadata": {},
   "outputs": [],
   "source": [
    "yt = user.platform"
   ]
  },
  {
   "cell_type": "code",
   "execution_count": 16,
   "metadata": {},
   "outputs": [],
   "source": [
    "from selenium.webdriver.common.by import By"
   ]
  },
  {
   "cell_type": "code",
   "execution_count": 15,
   "metadata": {},
   "outputs": [
    {
     "ename": "NameError",
     "evalue": "name 'By' is not defined",
     "output_type": "error",
     "traceback": [
      "\u001b[1;31m---------------------------------------------------------------------------\u001b[0m",
      "\u001b[1;31mNameError\u001b[0m                                 Traceback (most recent call last)",
      "Cell \u001b[1;32mIn[15], line 9\u001b[0m\n\u001b[0;32m      5\u001b[0m     yt\u001b[38;5;241m.\u001b[39m_handleAd()\n\u001b[0;32m      7\u001b[0m wait(\u001b[38;5;241m30\u001b[39m)\n\u001b[1;32m----> 9\u001b[0m recommendations \u001b[38;5;241m=\u001b[39m yt\u001b[38;5;241m.\u001b[39mdriver\u001b[38;5;241m.\u001b[39mfind_elements(\u001b[43mBy\u001b[49m\u001b[38;5;241m.\u001b[39mXPATH, \u001b[38;5;124m'\u001b[39m\u001b[38;5;124m//a[@class=\u001b[39m\u001b[38;5;124m\"\u001b[39m\u001b[38;5;124myt-simple-endpoint style-scope ytd-compact-video-renderer\u001b[39m\u001b[38;5;124m\"\u001b[39m\u001b[38;5;124m]\u001b[39m\u001b[38;5;124m'\u001b[39m)\n\u001b[0;32m     10\u001b[0m r \u001b[38;5;241m=\u001b[39m [recommendation\u001b[38;5;241m.\u001b[39mget_attribute(\u001b[38;5;124m'\u001b[39m\u001b[38;5;124mhref\u001b[39m\u001b[38;5;124m'\u001b[39m)\u001b[38;5;241m.\u001b[39msplit(\u001b[38;5;124m'\u001b[39m\u001b[38;5;124m?v=\u001b[39m\u001b[38;5;124m'\u001b[39m)[\u001b[38;5;241m1\u001b[39m] \u001b[38;5;28;01mfor\u001b[39;00m recommendation \u001b[38;5;129;01min\u001b[39;00m recommendations \u001b[38;5;28;01mif\u001b[39;00m recommendation\u001b[38;5;241m.\u001b[39mget_attribute(\u001b[38;5;124m'\u001b[39m\u001b[38;5;124mhref\u001b[39m\u001b[38;5;124m'\u001b[39m)]\n",
      "\u001b[1;31mNameError\u001b[0m: name 'By' is not defined"
     ]
    }
   ],
   "source": [
    "video_link = f\"https://www.youtube.com/watch?v={id}\"\n",
    "yt.loadPage(video_link)\n",
    "wait(4)\n",
    "if yt.isAd():\n",
    "    yt._handleAd()\n",
    "\n",
    "wait(4)\n",
    "\n",
    "recommendations = yt.driver.find_elements(By.XPATH, '//a[@class=\"yt-simple-endpoint style-scope ytd-compact-video-renderer\"]')\n",
    "r = [recommendation.get_attribute('href').split('?v=')[1] for recommendation in recommendations if recommendation.get_attribute('href')]"
   ]
  },
  {
   "cell_type": "code",
   "execution_count": 17,
   "metadata": {},
   "outputs": [],
   "source": [
    "recommendations = yt.driver.find_elements(By.XPATH, '//a[@class=\"yt-simple-endpoint style-scope ytd-compact-video-renderer\"]')\n",
    "r = [recommendation.get_attribute('href').split('?v=')[1] for recommendation in recommendations if recommendation.get_attribute('href')]"
   ]
  },
  {
   "cell_type": "code",
   "execution_count": 21,
   "metadata": {},
   "outputs": [
    {
     "name": "stdout",
     "output_type": "stream",
     "text": [
      "\u001b[33m<module>:\u001b[37m\t Turning of history\n"
     ]
    }
   ],
   "source": [
    "debug('Turning off history')\n",
    "yt.driver.get('https://www.youtube.com/feed/history')\n",
    "wait(2)\n",
    "try:\n",
    "    button = yt.driver.find_element(By.XPATH, '//button[@aria-label=\"Pause watch history\"]')\n",
    "    button.click()\n",
    "    wait(1)\n",
    "    button = yt.driver.find_element(By.XPATH, '//button[@aria-label=\"Pause\"]')\n",
    "    button.click()\n",
    "    wait(1)\n",
    "except Exception as e:\n",
    "    debug('Already turned off history')\n",
    "    pass"
   ]
  },
  {
   "cell_type": "code",
   "execution_count": 22,
   "metadata": {},
   "outputs": [],
   "source": [
    "yt.getHomePage()"
   ]
  },
  {
   "cell_type": "code",
   "execution_count": 23,
   "metadata": {},
   "outputs": [
    {
     "name": "stdout",
     "output_type": "stream",
     "text": [
      "\u001b[32mgetVideoInfo:\u001b[31m\t InnerTube error\n",
      "\u001b[32mgetVideoInfo:\u001b[31m\t 'videoDetails': SyXfJi2KZ-A&list=RDCLAK5uy_k5n4srrEB1wgvIjPNTXS9G1ufE9WQxhnA\n",
      "\u001b[32mgetVideoInfo:\u001b[31m\t InnerTube error\n",
      "\u001b[32mgetVideoInfo:\u001b[31m\t 'videoDetails': rDG-6Ue_Qbw&list=RDCLAK5uy_k5n4srrEB1wgvIjPNTXS9G1ufE9WQxhnA\n",
      "\u001b[32mgetVideoInfo:\u001b[31m\t InnerTube error\n",
      "\u001b[32mgetVideoInfo:\u001b[31m\t 'videoDetails': tJkPh2vluFQ&list=RDCLAK5uy_k5n4srrEB1wgvIjPNTXS9G1ufE9WQxhnA\n",
      "\u001b[32mgetVideoInfo:\u001b[31m\t InnerTube error\n",
      "\u001b[32mgetVideoInfo:\u001b[31m\t 'videoDetails': CLl9FZ4WizE&list=RDCLAK5uy_k5n4srrEB1wgvIjPNTXS9G1ufE9WQxhnA\n",
      "\u001b[32mgetVideoInfo:\u001b[31m\t InnerTube error\n",
      "\u001b[32mgetVideoInfo:\u001b[31m\t 'videoDetails': ROhlsgTOsgc&list=RDCLAK5uy_k5n4srrEB1wgvIjPNTXS9G1ufE9WQxhnA\n",
      "\u001b[32mgetVideoInfo:\u001b[31m\t InnerTube error\n",
      "\u001b[32mgetVideoInfo:\u001b[31m\t 'videoDetails': Izo45cvolkM&list=RDCLAK5uy_k5n4srrEB1wgvIjPNTXS9G1ufE9WQxhnA\n",
      "\u001b[32mgetVideoInfo:\u001b[31m\t InnerTube error\n",
      "\u001b[32mgetVideoInfo:\u001b[31m\t 'videoDetails': m3tksl4nxPo&list=RDCLAK5uy_k5n4srrEB1wgvIjPNTXS9G1ufE9WQxhnA\n",
      "\u001b[32mgetVideoInfo:\u001b[31m\t InnerTube error\n",
      "\u001b[32mgetVideoInfo:\u001b[31m\t 'videoDetails': 11rpGprITo0&list=RDCLAK5uy_k5n4srrEB1wgvIjPNTXS9G1ufE9WQxhnA\n",
      "\u001b[32mgetVideoInfo:\u001b[31m\t InnerTube error\n",
      "\u001b[32mgetVideoInfo:\u001b[31m\t 'videoDetails': a5i-KdUQ47o&list=RDCLAK5uy_k5n4srrEB1wgvIjPNTXS9G1ufE9WQxhnA\n",
      "\u001b[32mgetVideoInfo:\u001b[31m\t InnerTube error\n",
      "\u001b[32mgetVideoInfo:\u001b[31m\t 'videoDetails': ctb0QmHRpRE&list=RDCLAK5uy_k5n4srrEB1wgvIjPNTXS9G1ufE9WQxhnA\n",
      "\u001b[32mgetVideoInfo:\u001b[31m\t InnerTube error\n",
      "\u001b[32mgetVideoInfo:\u001b[31m\t 'videoDetails': XKR3SfC6DdQ&list=RDCLAK5uy_k5n4srrEB1wgvIjPNTXS9G1ufE9WQxhnA\n"
     ]
    }
   ],
   "source": [
    "a = yt.getPagePosts()"
   ]
  },
  {
   "cell_type": "code",
   "execution_count": 25,
   "metadata": {},
   "outputs": [
    {
     "data": {
      "text/plain": [
       "32"
      ]
     },
     "execution_count": 25,
     "metadata": {},
     "output_type": "execute_result"
    }
   ],
   "source": [
    "len(a)"
   ]
  },
  {
   "cell_type": "code",
   "execution_count": 12,
   "metadata": {},
   "outputs": [
    {
     "ename": "TypeError",
     "evalue": "string indices must be integers, not 'str'",
     "output_type": "error",
     "traceback": [
      "\u001b[1;31m---------------------------------------------------------------------------\u001b[0m",
      "\u001b[1;31mTypeError\u001b[0m                                 Traceback (most recent call last)",
      "Cell \u001b[1;32mIn[12], line 1\u001b[0m\n\u001b[1;32m----> 1\u001b[0m \u001b[43muser\u001b[49m\u001b[38;5;241;43m.\u001b[39;49m\u001b[43mplatform\u001b[49m\u001b[38;5;241;43m.\u001b[39;49m\u001b[43mgetRecommendations\u001b[49m\u001b[43m(\u001b[49m\u001b[38;5;28;43mid\u001b[39;49m\u001b[43m)\u001b[49m\n",
      "File \u001b[1;32m~\\Desktop\\algopologist\\core\\platforms\\Youtube.py:128\u001b[0m, in \u001b[0;36mYoutube.getRecommendations\u001b[1;34m(self, post)\u001b[0m\n\u001b[0;32m    127\u001b[0m \u001b[38;5;28;01mdef\u001b[39;00m \u001b[38;5;21mgetRecommendations\u001b[39m(\u001b[38;5;28mself\u001b[39m, post):\n\u001b[1;32m--> 128\u001b[0m     video_link \u001b[38;5;241m=\u001b[39m \u001b[38;5;124mf\u001b[39m\u001b[38;5;124m\"\u001b[39m\u001b[38;5;124mhttps://www.youtube.com/watch?v=\u001b[39m\u001b[38;5;132;01m{\u001b[39;00m\u001b[43mpost\u001b[49m\u001b[43m[\u001b[49m\u001b[38;5;124;43m'\u001b[39;49m\u001b[38;5;124;43mid\u001b[39;49m\u001b[38;5;124;43m'\u001b[39;49m\u001b[43m]\u001b[49m\u001b[38;5;132;01m}\u001b[39;00m\u001b[38;5;124m\"\u001b[39m\n\u001b[0;32m    129\u001b[0m     \u001b[38;5;28mself\u001b[39m\u001b[38;5;241m.\u001b[39mloadPage(video_link)\n\u001b[0;32m    130\u001b[0m     wait(\u001b[38;5;241m30\u001b[39m)\n",
      "\u001b[1;31mTypeError\u001b[0m: string indices must be integers, not 'str'"
     ]
    }
   ],
   "source": [
    "user.platform.getRecommendations(id)"
   ]
  },
  {
   "cell_type": "code",
   "execution_count": 1,
   "metadata": {},
   "outputs": [
    {
     "ename": "NameError",
     "evalue": "name 'BrowserFactory' is not defined",
     "output_type": "error",
     "traceback": [
      "\u001b[1;31m---------------------------------------------------------------------------\u001b[0m",
      "\u001b[1;31mNameError\u001b[0m                                 Traceback (most recent call last)",
      "Cell \u001b[1;32mIn[1], line 1\u001b[0m\n\u001b[1;32m----> 1\u001b[0m \u001b[43mBrowserFactory\u001b[49m()\u001b[38;5;241m.\u001b[39mgetBrowser(\u001b[38;5;124m'\u001b[39m\u001b[38;5;124msee\u001b[39m\u001b[38;5;124m'\u001b[39m)\u001b[38;5;241m.\u001b[39mforceCloseDriver()\n",
      "\u001b[1;31mNameError\u001b[0m: name 'BrowserFactory' is not defined"
     ]
    }
   ],
   "source": [
    "BrowserFactory().getBrowser('see').forceCloseDriver()"
   ]
  },
  {
   "cell_type": "code",
   "execution_count": null,
   "metadata": {},
   "outputs": [],
   "source": [
    "# train\n",
    "videos = [youtube_video]\n",
    "yt = user.Platform\n",
    "\n",
    "yt.get"
   ]
  },
  {
   "cell_type": "code",
   "execution_count": null,
   "metadata": {},
   "outputs": [
    {
     "data": {
      "text/plain": [
       "['TcMBFSGVi1c',\n",
       " 'QwievZ1Tx-8',\n",
       " 'ThgmWpXkKMI',\n",
       " 'er3h_STlp-k',\n",
       " 'StIyBuss5J8',\n",
       " 'i1nN8vYjZQA',\n",
       " '_aSS66X30Ag',\n",
       " 'sGbxmsDFVnE',\n",
       " 'NWepvH6LnEw',\n",
       " 'gonAaBYuB-g',\n",
       " '0jNvJU52LvU',\n",
       " 'uJMCNJP2ipI',\n",
       " 'ivT0cjLSkPk',\n",
       " 'fe23qEYoVy4',\n",
       " '8Qn_spdM5Zg',\n",
       " 'GV9AEEIeHrQ',\n",
       " 'TWB31WFomz4',\n",
       " 'FkTybqcX-Yo',\n",
       " 'Lb2wwEx6DVw',\n",
       " 'h5_uli_U7Fg']"
      ]
     },
     "execution_count": 7,
     "metadata": {},
     "output_type": "execute_result"
    }
   ],
   "source": [
    "user.platform.dxpr0a0@s"
   ]
  },
  {
   "cell_type": "code",
   "execution_count": null,
   "metadata": {},
   "outputs": [],
   "source": [
    "driver.quit()"
   ]
  },
  {
   "cell_type": "code",
   "execution_count": null,
   "metadata": {},
   "outputs": [],
   "source": [
    "recs = [r1, r2, r4]"
   ]
  },
  {
   "cell_type": "code",
   "execution_count": null,
   "metadata": {},
   "outputs": [
    {
     "name": "stdout",
     "output_type": "stream",
     "text": [
      "orMtwOz6Db0\n",
      "JXZpac6TREw\n",
      "DxL2HoqLbyA\n",
      "lFlu60qs7_4\n",
      "E7oEq6CE78g\n",
      "6Mp84uZjPD0\n",
      "RsBc0Yuodq0\n",
      "_IkaetPoBZM\n",
      "Zrv1EDIqHkY\n",
      "s6sdy20_QMM\n",
      "d6iQrh2TK98\n",
      "A5w-dEgIU1M\n",
      "XnhkiF4GXxM\n",
      "-wg9YMOsyBE\n",
      "sZ41zgWHs_I\n",
      "CKJuC5CUMgU\n",
      "cUzklzVXJwo\n",
      "nkh2KkJPy2g\n",
      "vFNgd3pitAI\n",
      "nr4BAnV3E54\n",
      "\n",
      "orMtwOz6Db0\n",
      "JXZpac6TREw\n",
      "DxL2HoqLbyA\n",
      "lFlu60qs7_4\n",
      "nhGwJLXzHs8\n",
      "iWwY6K5Vjyo\n",
      "6Mp84uZjPD0\n",
      "RsBc0Yuodq0\n",
      "Zrv1EDIqHkY\n",
      "s6sdy20_QMM\n",
      "d6iQrh2TK98\n",
      "nkh2KkJPy2g\n",
      "XnhkiF4GXxM\n",
      "-wg9YMOsyBE\n",
      "A5w-dEgIU1M\n",
      "Unzc731iCUY\n",
      "nr4BAnV3E54\n",
      "rbfFt2uNEyQ\n",
      "leoBccWOZfo\n",
      "sZ41zgWHs_I\n",
      "\n",
      "JXZpac6TREw\n",
      "orMtwOz6Db0\n",
      "DxL2HoqLbyA\n",
      "lFlu60qs7_4\n",
      "yPVQtvbiS4Y\n",
      "6Mp84uZjPD0\n",
      "iWwY6K5Vjyo\n",
      "lkLxH2lSJnM\n",
      "RsBc0Yuodq0\n",
      "s6sdy20_QMM\n",
      "A5w-dEgIU1M\n",
      "Zrv1EDIqHkY\n",
      "XnhkiF4GXxM\n",
      "rGn1zHhXUWY\n",
      "nr4BAnV3E54\n",
      "068rdc75mHM\n",
      "leoBccWOZfo\n",
      "QB5xgOhLLVw\n",
      "d6iQrh2TK98\n",
      "nkh2KkJPy2g\n",
      "\n"
     ]
    }
   ],
   "source": [
    "recs = [r1, r2, r4]\n",
    "\n",
    "for r in recs:\n",
    "    for i in r[:20]:\n",
    "        print(i.split('&t=')[0])\n",
    "    print('')"
   ]
  },
  {
   "cell_type": "code",
   "execution_count": 26,
   "metadata": {},
   "outputs": [],
   "source": [
    "youtube_emails = [f'inner{i}@spartaaceap.com' for i in range(0, 10)]\n",
    "innertube_emails = [f'inner{i}@spartaaceap.com' for i in range(10, 20)]\n",
    "\n",
    "password = 'password'\n",
    "\n",
    "conservatives = ['Egvs7zJrW2U',\n",
    " 'X5OJRxZoMI8',\n",
    " 'LW0PuRIErkU',\n",
    " 'xF2lFGyADtM',\n",
    " 'FKTIM5lbvqE',\n",
    " '9frDNHLvqHY',\n",
    " 'JmBM_1x7Qps',\n",
    " 'tJoAYpurA6k',\n",
    " '2P6erCTIC6Y',\n",
    " 'PbNYOyPRpgg',\n",
    " 'cUMX18F-ERI',\n",
    " 'TOwvr-YpU1g',\n",
    " 'XdsLeeQ4s_Q',\n",
    " '6aRHTwwFGlc',\n",
    " 'K8M_wNf-jJI',\n",
    " 'TN0yZSyDvxs',\n",
    " 'd-PLgGkB3dc',\n",
    " 'Bo_LLAczCf8',\n",
    " '5p1ITmmJH9E',\n",
    " 'shW554zecmA',\n",
    " 'VVnuCsMP7fI',\n",
    " 'j9z0FNGKng4',\n",
    " 'r4U0ebe1v9A']\n",
    "\n",
    "liberals = ['LXhuqBOSVTY',\n",
    " 'p4QGOHahiVM',\n",
    " 'Jymyhwc6_p0',\n",
    " 'Jfo3s-JOZmQ',\n",
    " 'oENI8NnTx0w',\n",
    " 'LyC855KdBKo',\n",
    " 'bqloPw5wp48',\n",
    " 'xCIZd-BjgoI',\n",
    " '2wHX9OMP3RE',\n",
    " 'CaPgDQkmqqM',\n",
    " 'bKxqkwHefiw',\n",
    " 'RskvZgc_s9g',\n",
    " 'FhuFWoN1nb0',\n",
    " '4dOZIcFcH_Y',\n",
    " 'aPhrTOg1RUk',\n",
    " 'AaU6tI2pb3M',\n",
    " 'AWjhFuAqaiw',\n",
    " 'pi_O1Zr3XpA',\n",
    " 'M-YDLjll83c',\n",
    " 'rBbhZWZf0gM',\n",
    " 'sE63HmOYGps',\n",
    " '7OeeHz0uNdM',\n",
    " 'QlaeirHJpns']\n",
    "\n",
    "seeds = ['yZYQpge1W5s', 'tYrdMjVXyNg', 'bEh0Q94Gjss', '6BsXLnLn9ok', 'Qe5WT22-AO8']\n"
   ]
  },
  {
   "cell_type": "code",
   "execution_count": 32,
   "metadata": {},
   "outputs": [],
   "source": [
    "data = dict()\n",
    "data['conservatives'] = conservatives\n",
    "data['liberals'] = liberals\n",
    "data['seeds'] = seeds\n",
    "\n",
    "data['youtube_emails'] = youtube_emails\n",
    "for i in range(0, 5):\n",
    "    data[i] = 'conservatives'\n",
    "\n",
    "for i in range(5, 10):\n",
    "    data[i] = 'liberals'\n",
    "\n",
    "import json\n",
    "\n",
    "json.dump(data, open('config.json', 'w'))"
   ]
  },
  {
   "cell_type": "code",
   "execution_count": null,
   "metadata": {},
   "outputs": [],
   "source": [
    "import pyautogui as gui\n",
    "sleep(4)\n",
    "gui.moveTo(1140, 726)"
   ]
  },
  {
   "cell_type": "code",
   "execution_count": null,
   "metadata": {},
   "outputs": [
    {
     "ename": "SyntaxError",
     "evalue": "'return' outside function (606186253.py, line 10)",
     "output_type": "error",
     "traceback": [
      "\u001b[1;36m  Cell \u001b[1;32mIn[19], line 10\u001b[1;36m\u001b[0m\n\u001b[1;33m    return\u001b[0m\n\u001b[1;37m    ^\u001b[0m\n\u001b[1;31mSyntaxError\u001b[0m\u001b[1;31m:\u001b[0m 'return' outside function\n"
     ]
    }
   ],
   "source": [
    "sleep(4)\n",
    "monkey.GotIt()\n",
    "sleep(2)\n",
    "monkey.GotIt()\n",
    "sleep(1)\n",
    "monkey.remindMeLater()\n",
    "sleep(3)\n",
    "gui.hotkey('win', 'up')\n",
    "sleep(5)\n",
    "return "
   ]
  },
  {
   "cell_type": "code",
   "execution_count": null,
   "metadata": {},
   "outputs": [],
   "source": [
    "driver.quit()"
   ]
  },
  {
   "cell_type": "code",
   "execution_count": 4,
   "metadata": {},
   "outputs": [],
   "source": [
    "neutral = [\"BYqZet63wYQ\",\n",
    "\"rlyVBMRXUtc\",\n",
    "\"hLUdF8cjzyA\",\n",
    "\"aSqLS8s2B4c\",\n",
    "\"rksKvZoUCPQ\",\n",
    "\"hFL6qRIJZ_Y\",\n",
    "\"Zh-AcF_4Hao\",\n",
    "\"zhwdBWLZzss\",\n",
    "\"uZ4MplSD9Rg\",\n",
    "\"WjuUmsoF57I\",\n",
    "\"7vBb4-E-4Qc\",\n",
    "\"jSoXp6wHNk8\",\n",
    "\"jIeyVA45TF4\",\n",
    "\"V9uHZ2uQ8YI\",\n",
    "\"JYqfVE-fykk\",\n",
    "\"OaKGoGXzNvs\",\n",
    "\"W1XcZS5Ci6M\",\n",
    "\"TkYuR6M0FsA\",\n",
    "\"CWDok7d4gY8\",\n",
    "\"quI772XuCpo\",\n",
    "\"mZWM0S2PGoc\",\n",
    "\"TPBq1khnb-w\"]"
   ]
  },
  {
   "cell_type": "code",
   "execution_count": 6,
   "metadata": {},
   "outputs": [
    {
     "data": {
      "text/plain": [
       "['BYqZet63wYQ',\n",
       " 'rlyVBMRXUtc',\n",
       " 'hLUdF8cjzyA',\n",
       " 'aSqLS8s2B4c',\n",
       " 'rksKvZoUCPQ',\n",
       " 'hFL6qRIJZ_Y',\n",
       " 'Zh-AcF_4Hao',\n",
       " 'zhwdBWLZzss',\n",
       " 'uZ4MplSD9Rg',\n",
       " 'WjuUmsoF57I',\n",
       " '7vBb4-E-4Qc',\n",
       " 'jSoXp6wHNk8',\n",
       " 'jIeyVA45TF4',\n",
       " 'V9uHZ2uQ8YI',\n",
       " 'JYqfVE-fykk',\n",
       " 'OaKGoGXzNvs',\n",
       " 'W1XcZS5Ci6M',\n",
       " 'TkYuR6M0FsA',\n",
       " 'CWDok7d4gY8',\n",
       " 'quI772XuCpo',\n",
       " 'mZWM0S2PGoc',\n",
       " 'TPBq1khnb-w']"
      ]
     },
     "execution_count": 6,
     "metadata": {},
     "output_type": "execute_result"
    }
   ],
   "source": [
    "neutral"
   ]
  },
  {
   "cell_type": "code",
   "execution_count": null,
   "metadata": {},
   "outputs": [],
   "source": []
  }
 ],
 "metadata": {
  "kernelspec": {
   "display_name": "Python 3",
   "language": "python",
   "name": "python3"
  },
  "language_info": {
   "codemirror_mode": {
    "name": "ipython",
    "version": 3
   },
   "file_extension": ".py",
   "mimetype": "text/x-python",
   "name": "python",
   "nbconvert_exporter": "python",
   "pygments_lexer": "ipython3",
   "version": "3.11.8"
  }
 },
 "nbformat": 4,
 "nbformat_minor": 2
}
