{
 "cells": [
  {
   "cell_type": "code",
   "execution_count": 1,
   "metadata": {},
   "outputs": [],
   "source": [
    "import sys\n",
    "import os\n",
    "sys.path.append(os.path.join('Users', 'hussam', 'Desktop', 'Projects', 'Platform behavior' ))\n",
    "sys.path.append('../')\n",
    "\n",
    "import os\n",
    "import pyautogui as gui\n",
    "from selenium import webdriver\n",
    "from selenium.webdriver.chrome.service import Service\n",
    "from selenium.webdriver.chrome.options import Options\n",
    "from webdriver_manager.chrome import ChromeDriverManager\n",
    "import undetected_chromedriver as uc\n",
    "from seleniumwire import undetected_chromedriver as seleniumwire_uc\n",
    "from time import sleep\n",
    "import pickle as pkl\n",
    "\n",
    "\n",
    "# session = 'xp1nba1'\n",
    "# path = os.path.join(constants.SESSIONS_PATH, session)\n",
    "# options = uc.ChromeOptions()\n",
    "# options.add_argument(\"--disable-notifications\")\n",
    "# options.add_argument('--no-sandbox')\n",
    "# options.add_argument(\"--disable-infobars\")\n",
    "\n",
    "# ip = IPManager.get_ip(session)\n",
    "\n",
    "# sw_options = {\n",
    "#     'proxy': {\n",
    "#         'https': f'https://{ip}'\n",
    "#     }\n",
    "# }"
   ]
  },
  {
   "cell_type": "code",
   "execution_count": 2,
   "metadata": {},
   "outputs": [],
   "source": [
    "from selenium.webdriver.common.by import By"
   ]
  },
  {
   "cell_type": "code",
   "execution_count": 3,
   "metadata": {},
   "outputs": [
    {
     "name": "stdout",
     "output_type": "stream",
     "text": [
      "LAB 317...\n",
      "BASE_DIR: /Users/hussam/Desktop/Projects/algopologist\n"
     ]
    },
    {
     "data": {
      "text/plain": [
       "<core.browser.Selenium.BrowserFactory at 0x107209300>"
      ]
     },
     "execution_count": 3,
     "metadata": {},
     "output_type": "execute_result"
    }
   ],
   "source": [
    "from core.browser.Selenium import BrowserFactory\n",
    "BrowserFactory('uc_single')"
   ]
  },
  {
   "cell_type": "code",
   "execution_count": 4,
   "metadata": {},
   "outputs": [],
   "source": [
    "from core.users.User import User\n",
    "from core.platforms.Reddit import Reddit\n",
    "from core.platforms.TikTok import TikTok\n",
    "platform = TikTok\n",
    "userid = 'inner1'\n",
    "experiment_id = 'local'\n",
    "\n",
    "user = User(platform, userid, experiment_id)"
   ]
  },
  {
   "cell_type": "code",
   "execution_count": 5,
   "metadata": {},
   "outputs": [],
   "source": [
    "p = user.Platform('ahmed')"
   ]
  },
  {
   "cell_type": "code",
   "execution_count": 6,
   "metadata": {},
   "outputs": [
    {
     "data": {
      "text/plain": [
       "<undetected_chromedriver.Chrome (session=\"a3dac02eee1dbb113409832534a57554\")>"
      ]
     },
     "execution_count": 6,
     "metadata": {},
     "output_type": "execute_result"
    }
   ],
   "source": [
    "p.loadBrowser()"
   ]
  },
  {
   "cell_type": "code",
   "execution_count": 7,
   "metadata": {},
   "outputs": [
    {
     "name": "stdout",
     "output_type": "stream",
     "text": [
      "['F91FC2B4E14AA42F190DC1A2301780CF']\n"
     ]
    },
    {
     "ename": "NoSuchElementException",
     "evalue": "Message: no such element: Unable to locate element: {\"method\":\"xpath\",\"selector\":\"//div[contains(@data-identifier, 'spartaaceap.com')]\"}\n  (Session info: chrome=124.0.6367.62); For documentation on this error, please visit: https://www.selenium.dev/documentation/webdriver/troubleshooting/errors#no-such-element-exception\nStacktrace:\n0   undetected_chromedriver             0x0000000102928cf8 undetected_chromedriver + 5188856\n1   undetected_chromedriver             0x0000000102920863 undetected_chromedriver + 5154915\n2   undetected_chromedriver             0x0000000102499047 undetected_chromedriver + 405575\n3   undetected_chromedriver             0x00000001024e47d2 undetected_chromedriver + 714706\n4   undetected_chromedriver             0x00000001024e4961 undetected_chromedriver + 715105\n5   undetected_chromedriver             0x00000001025289b4 undetected_chromedriver + 993716\n6   undetected_chromedriver             0x0000000102506edd undetected_chromedriver + 855773\n7   undetected_chromedriver             0x0000000102525e96 undetected_chromedriver + 982678\n8   undetected_chromedriver             0x0000000102506c53 undetected_chromedriver + 855123\n9   undetected_chromedriver             0x00000001024d7953 undetected_chromedriver + 661843\n10  undetected_chromedriver             0x00000001024d829e undetected_chromedriver + 664222\n11  undetected_chromedriver             0x00000001028e70c0 undetected_chromedriver + 4919488\n12  undetected_chromedriver             0x00000001028ed175 undetected_chromedriver + 4944245\n13  undetected_chromedriver             0x00000001028c7f8e undetected_chromedriver + 4792206\n14  undetected_chromedriver             0x00000001028edc99 undetected_chromedriver + 4947097\n15  undetected_chromedriver             0x00000001028b85e4 undetected_chromedriver + 4728292\n16  undetected_chromedriver             0x000000010290fd08 undetected_chromedriver + 5086472\n17  undetected_chromedriver             0x000000010290fec7 undetected_chromedriver + 5086919\n18  undetected_chromedriver             0x0000000102920483 undetected_chromedriver + 5153923\n19  libsystem_pthread.dylib             0x00007ff81567b202 _pthread_start + 99\n20  libsystem_pthread.dylib             0x00007ff815676bab thread_start + 15\n",
     "output_type": "error",
     "traceback": [
      "\u001b[0;31m---------------------------------------------------------------------------\u001b[0m",
      "\u001b[0;31mNoSuchElementException\u001b[0m                    Traceback (most recent call last)",
      "Cell \u001b[0;32mIn[7], line 1\u001b[0m\n\u001b[0;32m----> 1\u001b[0m \u001b[43mp\u001b[49m\u001b[38;5;241;43m.\u001b[39;49m\u001b[43mchromeLogin\u001b[49m\u001b[43m(\u001b[49m\u001b[43m)\u001b[49m\n",
      "File \u001b[0;32m~/Desktop/Projects/algopologist/scripts/../core/platforms/TikTok.py:70\u001b[0m, in \u001b[0;36mTikTok.chromeLogin\u001b[0;34m(self)\u001b[0m\n\u001b[1;32m     67\u001b[0m     \u001b[38;5;28;01mif\u001b[39;00m window \u001b[38;5;241m!=\u001b[39m main_window:\n\u001b[1;32m     68\u001b[0m         driver\u001b[38;5;241m.\u001b[39mswitch_to\u001b[38;5;241m.\u001b[39mwindow(window)\n\u001b[0;32m---> 70\u001b[0m btn \u001b[38;5;241m=\u001b[39m \u001b[43mdriver\u001b[49m\u001b[38;5;241;43m.\u001b[39;49m\u001b[43mfind_element\u001b[49m\u001b[43m(\u001b[49m\u001b[43mBy\u001b[49m\u001b[38;5;241;43m.\u001b[39;49m\u001b[43mXPATH\u001b[49m\u001b[43m,\u001b[49m\u001b[43m \u001b[49m\u001b[38;5;124;43m\"\u001b[39;49m\u001b[38;5;124;43m//div[contains(@data-identifier, \u001b[39;49m\u001b[38;5;124;43m'\u001b[39;49m\u001b[38;5;124;43mspartaaceap.com\u001b[39;49m\u001b[38;5;124;43m'\u001b[39;49m\u001b[38;5;124;43m)]\u001b[39;49m\u001b[38;5;124;43m\"\u001b[39;49m\u001b[43m)\u001b[49m\n\u001b[1;32m     71\u001b[0m btn\u001b[38;5;241m.\u001b[39mclick()\n\u001b[1;32m     72\u001b[0m sleep(\u001b[38;5;241m2\u001b[39m)\n",
      "File \u001b[0;32m/Library/Frameworks/Python.framework/Versions/3.10/lib/python3.10/site-packages/selenium/webdriver/remote/webdriver.py:741\u001b[0m, in \u001b[0;36mWebDriver.find_element\u001b[0;34m(self, by, value)\u001b[0m\n\u001b[1;32m    738\u001b[0m     by \u001b[38;5;241m=\u001b[39m By\u001b[38;5;241m.\u001b[39mCSS_SELECTOR\n\u001b[1;32m    739\u001b[0m     value \u001b[38;5;241m=\u001b[39m \u001b[38;5;124mf\u001b[39m\u001b[38;5;124m'\u001b[39m\u001b[38;5;124m[name=\u001b[39m\u001b[38;5;124m\"\u001b[39m\u001b[38;5;132;01m{\u001b[39;00mvalue\u001b[38;5;132;01m}\u001b[39;00m\u001b[38;5;124m\"\u001b[39m\u001b[38;5;124m]\u001b[39m\u001b[38;5;124m'\u001b[39m\n\u001b[0;32m--> 741\u001b[0m \u001b[38;5;28;01mreturn\u001b[39;00m \u001b[38;5;28;43mself\u001b[39;49m\u001b[38;5;241;43m.\u001b[39;49m\u001b[43mexecute\u001b[49m\u001b[43m(\u001b[49m\u001b[43mCommand\u001b[49m\u001b[38;5;241;43m.\u001b[39;49m\u001b[43mFIND_ELEMENT\u001b[49m\u001b[43m,\u001b[49m\u001b[43m \u001b[49m\u001b[43m{\u001b[49m\u001b[38;5;124;43m\"\u001b[39;49m\u001b[38;5;124;43musing\u001b[39;49m\u001b[38;5;124;43m\"\u001b[39;49m\u001b[43m:\u001b[49m\u001b[43m \u001b[49m\u001b[43mby\u001b[49m\u001b[43m,\u001b[49m\u001b[43m \u001b[49m\u001b[38;5;124;43m\"\u001b[39;49m\u001b[38;5;124;43mvalue\u001b[39;49m\u001b[38;5;124;43m\"\u001b[39;49m\u001b[43m:\u001b[49m\u001b[43m \u001b[49m\u001b[43mvalue\u001b[49m\u001b[43m}\u001b[49m\u001b[43m)\u001b[49m[\u001b[38;5;124m\"\u001b[39m\u001b[38;5;124mvalue\u001b[39m\u001b[38;5;124m\"\u001b[39m]\n",
      "File \u001b[0;32m/Library/Frameworks/Python.framework/Versions/3.10/lib/python3.10/site-packages/selenium/webdriver/remote/webdriver.py:347\u001b[0m, in \u001b[0;36mWebDriver.execute\u001b[0;34m(self, driver_command, params)\u001b[0m\n\u001b[1;32m    345\u001b[0m response \u001b[38;5;241m=\u001b[39m \u001b[38;5;28mself\u001b[39m\u001b[38;5;241m.\u001b[39mcommand_executor\u001b[38;5;241m.\u001b[39mexecute(driver_command, params)\n\u001b[1;32m    346\u001b[0m \u001b[38;5;28;01mif\u001b[39;00m response:\n\u001b[0;32m--> 347\u001b[0m     \u001b[38;5;28;43mself\u001b[39;49m\u001b[38;5;241;43m.\u001b[39;49m\u001b[43merror_handler\u001b[49m\u001b[38;5;241;43m.\u001b[39;49m\u001b[43mcheck_response\u001b[49m\u001b[43m(\u001b[49m\u001b[43mresponse\u001b[49m\u001b[43m)\u001b[49m\n\u001b[1;32m    348\u001b[0m     response[\u001b[38;5;124m\"\u001b[39m\u001b[38;5;124mvalue\u001b[39m\u001b[38;5;124m\"\u001b[39m] \u001b[38;5;241m=\u001b[39m \u001b[38;5;28mself\u001b[39m\u001b[38;5;241m.\u001b[39m_unwrap_value(response\u001b[38;5;241m.\u001b[39mget(\u001b[38;5;124m\"\u001b[39m\u001b[38;5;124mvalue\u001b[39m\u001b[38;5;124m\"\u001b[39m, \u001b[38;5;28;01mNone\u001b[39;00m))\n\u001b[1;32m    349\u001b[0m     \u001b[38;5;28;01mreturn\u001b[39;00m response\n",
      "File \u001b[0;32m/Library/Frameworks/Python.framework/Versions/3.10/lib/python3.10/site-packages/selenium/webdriver/remote/errorhandler.py:229\u001b[0m, in \u001b[0;36mErrorHandler.check_response\u001b[0;34m(self, response)\u001b[0m\n\u001b[1;32m    227\u001b[0m         alert_text \u001b[38;5;241m=\u001b[39m value[\u001b[38;5;124m\"\u001b[39m\u001b[38;5;124malert\u001b[39m\u001b[38;5;124m\"\u001b[39m]\u001b[38;5;241m.\u001b[39mget(\u001b[38;5;124m\"\u001b[39m\u001b[38;5;124mtext\u001b[39m\u001b[38;5;124m\"\u001b[39m)\n\u001b[1;32m    228\u001b[0m     \u001b[38;5;28;01mraise\u001b[39;00m exception_class(message, screen, stacktrace, alert_text)  \u001b[38;5;66;03m# type: ignore[call-arg]  # mypy is not smart enough here\u001b[39;00m\n\u001b[0;32m--> 229\u001b[0m \u001b[38;5;28;01mraise\u001b[39;00m exception_class(message, screen, stacktrace)\n",
      "\u001b[0;31mNoSuchElementException\u001b[0m: Message: no such element: Unable to locate element: {\"method\":\"xpath\",\"selector\":\"//div[contains(@data-identifier, 'spartaaceap.com')]\"}\n  (Session info: chrome=124.0.6367.62); For documentation on this error, please visit: https://www.selenium.dev/documentation/webdriver/troubleshooting/errors#no-such-element-exception\nStacktrace:\n0   undetected_chromedriver             0x0000000102928cf8 undetected_chromedriver + 5188856\n1   undetected_chromedriver             0x0000000102920863 undetected_chromedriver + 5154915\n2   undetected_chromedriver             0x0000000102499047 undetected_chromedriver + 405575\n3   undetected_chromedriver             0x00000001024e47d2 undetected_chromedriver + 714706\n4   undetected_chromedriver             0x00000001024e4961 undetected_chromedriver + 715105\n5   undetected_chromedriver             0x00000001025289b4 undetected_chromedriver + 993716\n6   undetected_chromedriver             0x0000000102506edd undetected_chromedriver + 855773\n7   undetected_chromedriver             0x0000000102525e96 undetected_chromedriver + 982678\n8   undetected_chromedriver             0x0000000102506c53 undetected_chromedriver + 855123\n9   undetected_chromedriver             0x00000001024d7953 undetected_chromedriver + 661843\n10  undetected_chromedriver             0x00000001024d829e undetected_chromedriver + 664222\n11  undetected_chromedriver             0x00000001028e70c0 undetected_chromedriver + 4919488\n12  undetected_chromedriver             0x00000001028ed175 undetected_chromedriver + 4944245\n13  undetected_chromedriver             0x00000001028c7f8e undetected_chromedriver + 4792206\n14  undetected_chromedriver             0x00000001028edc99 undetected_chromedriver + 4947097\n15  undetected_chromedriver             0x00000001028b85e4 undetected_chromedriver + 4728292\n16  undetected_chromedriver             0x000000010290fd08 undetected_chromedriver + 5086472\n17  undetected_chromedriver             0x000000010290fec7 undetected_chromedriver + 5086919\n18  undetected_chromedriver             0x0000000102920483 undetected_chromedriver + 5153923\n19  libsystem_pthread.dylib             0x00007ff81567b202 _pthread_start + 99\n20  libsystem_pthread.dylib             0x00007ff815676bab thread_start + 15\n"
     ]
    }
   ],
   "source": [
    "p.chromeLogin()"
   ]
  },
  {
   "cell_type": "code",
   "execution_count": 50,
   "metadata": {},
   "outputs": [],
   "source": [
    "# get current url\n",
    "url = p.driver.current_url\n",
    "driver = p.driver"
   ]
  },
  {
   "cell_type": "code",
   "execution_count": 59,
   "metadata": {},
   "outputs": [],
   "source": [
    "def likePost(driver):\n",
    "    tab = driver.find_element(By.ID, \"tabs-0-tab-search_video\")\n",
    "    tab.click()\n",
    "    sleep(4)\n",
    "    results = driver.find_element(By.XPATH, '//*[@data-e2e=\"search_video-item-list\"]')\n",
    "    result = results.find_elements(By.TAG_NAME, 'div')[0]\n",
    "    caption = result.find_element(By.XPATH, '//*[@data-e2e=\"search-card-video-caption\"]').get_attribute('innerText')\n",
    "    userlink = result.find_element(By.XPATH, '//*[@data-e2e=\"search-card-user-link\"]').get_attribute('href')\n",
    "    name = result.find_element(By.XPATH, '//*[@data-e2e=\"search-card-user-unique-id\"]').text\n",
    "    result.click()\n",
    "    sleep(10)\n",
    "    driver.find_element(By.TAG_NAME, 'body').send_keys('l')\n",
    "    sleep(4)\n",
    "    post = {\n",
    "        'caption': caption,\n",
    "        'userlink': userlink,\n",
    "        'name': name\n",
    "    }\n",
    "    return post"
   ]
  },
  {
   "cell_type": "code",
   "execution_count": null,
   "metadata": {},
   "outputs": [],
   "source": [
    "# def followUser():"
   ]
  },
  {
   "cell_type": "code",
   "execution_count": 61,
   "metadata": {},
   "outputs": [],
   "source": []
  },
  {
   "cell_type": "code",
   "execution_count": 67,
   "metadata": {},
   "outputs": [
    {
     "ename": "IndexError",
     "evalue": "list index out of range",
     "output_type": "error",
     "traceback": [
      "\u001b[0;31m---------------------------------------------------------------------------\u001b[0m",
      "\u001b[0;31mIndexError\u001b[0m                                Traceback (most recent call last)",
      "Cell \u001b[0;32mIn[67], line 3\u001b[0m\n\u001b[1;32m      1\u001b[0m \u001b[38;5;66;03m# data-e2e=\"search-user-container\"\u001b[39;00m\n\u001b[1;32m      2\u001b[0m users \u001b[38;5;241m=\u001b[39m driver\u001b[38;5;241m.\u001b[39mfind_elements(By\u001b[38;5;241m.\u001b[39mXPATH, \u001b[38;5;124m'\u001b[39m\u001b[38;5;124m//*[@data-e2e=\u001b[39m\u001b[38;5;124m\"\u001b[39m\u001b[38;5;124msearch-user-container\u001b[39m\u001b[38;5;124m\"\u001b[39m\u001b[38;5;124m]\u001b[39m\u001b[38;5;124m'\u001b[39m)\n\u001b[0;32m----> 3\u001b[0m user \u001b[38;5;241m=\u001b[39m \u001b[43musers\u001b[49m\u001b[43m[\u001b[49m\u001b[38;5;241;43m0\u001b[39;49m\u001b[43m]\u001b[49m\n\u001b[1;32m      4\u001b[0m user\u001b[38;5;241m.\u001b[39mclick()\n",
      "\u001b[0;31mIndexError\u001b[0m: list index out of range"
     ]
    }
   ],
   "source": []
  },
  {
   "cell_type": "code",
   "execution_count": 69,
   "metadata": {},
   "outputs": [],
   "source": [
    "# aria-label=\"Follow NBA\""
   ]
  },
  {
   "cell_type": "code",
   "execution_count": null,
   "metadata": {},
   "outputs": [],
   "source": [
    "sleep(4)\n",
    "results = driver.find_element(By.XPATH, '//*[@data-e2e=\"search_video-item-list\"]')\n",
    "result = results.find_elements(By.TAG_NAME, 'div')[0]\n",
    "caption = result.find_element(By.XPATH, '//*[@data-e2e=\"search-card-video-caption\"]').get_attribute('innerText')\n",
    "userlink = result.find_element(By.XPATH, '//*[@data-e2e=\"search-card-user-link\"]').get_attribute('href')\n",
    "name = result.find_element(By.XPATH, '//*[@data-e2e=\"search-card-user-unique-id\"]').text\n",
    "result.click()\n",
    "sleep(10)\n",
    "driver.find_element(By.TAG_NAME, 'body').send_keys('l')\n",
    "sleep(4)\n",
    "post = {\n",
    "    'caption': caption,\n",
    "    'userlink': userlink,\n",
    "    'name': name\n",
    "}"
   ]
  },
  {
   "cell_type": "code",
   "execution_count": 60,
   "metadata": {},
   "outputs": [
    {
     "data": {
      "text/plain": [
       "{'caption': 'A day in the life of a red devil 👹 #manutdacademy #manutd #reddevils #footballacademy',\n",
       " 'userlink': 'https://www.tiktok.com/@traineffectiveofficial',\n",
       " 'name': 'traineffectiveofficial'}"
      ]
     },
     "execution_count": 60,
     "metadata": {},
     "output_type": "execute_result"
    }
   ],
   "source": [
    "likePost(driver)"
   ]
  },
  {
   "cell_type": "code",
   "execution_count": 53,
   "metadata": {},
   "outputs": [],
   "source": []
  },
  {
   "cell_type": "code",
   "execution_count": 55,
   "metadata": {},
   "outputs": [],
   "source": [
    "# press the l key to like the post "
   ]
  },
  {
   "cell_type": "code",
   "execution_count": 41,
   "metadata": {},
   "outputs": [],
   "source": [
    "desc.click()"
   ]
  },
  {
   "cell_type": "code",
   "execution_count": null,
   "metadata": {},
   "outputs": [],
   "source": [
    "        wait(2)\n",
    "        self.goHome()\n",
    "        wait(2)\n",
    "        self.search(topic)\n",
    "        info('Term searched: %s' % topic)\n",
    "        post, opened = self.platform.likePost()\n",
    "\n",
    "        if post == None:\n",
    "            error('No post found to like')\n",
    "            raise Exception('No post found to like')\n",
    "\n",
    "        # for open in opened:\n",
    "        #     self.takeScreenshot()\n",
    "        #     self.addSignal('open', open, 'post', info=f'searched-{topic}')\n",
    "\n",
    "        if post != None:\n",
    "            signal = self.addSignal('like', post, 'post', info=f'searched-{topic}')\n",
    "\n",
    "        return signal"
   ]
  },
  {
   "cell_type": "code",
   "execution_count": 20,
   "metadata": {},
   "outputs": [],
   "source": [
    "sleep(2)\n",
    "btn[0].click()"
   ]
  },
  {
   "cell_type": "code",
   "execution_count": 12,
   "metadata": {},
   "outputs": [
    {
     "data": {
      "text/plain": [
       "'https://www.tiktok.com/foryou?lang=en'"
      ]
     },
     "execution_count": 12,
     "metadata": {},
     "output_type": "execute_result"
    }
   ],
   "source": [
    "url"
   ]
  },
  {
   "cell_type": "code",
   "execution_count": 16,
   "metadata": {},
   "outputs": [],
   "source": [
    "btn.click()"
   ]
  },
  {
   "cell_type": "code",
   "execution_count": 8,
   "metadata": {},
   "outputs": [
    {
     "ename": "NoSuchWindowException",
     "evalue": "Message: no such window: target window already closed\nfrom unknown error: web view not found\n  (Session info: chrome=124.0.6367.62)\nStacktrace:\n0   undetected_chromedriver             0x0000000102c8bcf8 undetected_chromedriver + 5188856\n1   undetected_chromedriver             0x0000000102c83863 undetected_chromedriver + 5154915\n2   undetected_chromedriver             0x00000001027fc047 undetected_chromedriver + 405575\n3   undetected_chromedriver             0x00000001027d254e undetected_chromedriver + 234830\n4   undetected_chromedriver             0x00000001028727ed undetected_chromedriver + 890861\n5   undetected_chromedriver             0x0000000102888818 undetected_chromedriver + 981016\n6   undetected_chromedriver             0x0000000102869c53 undetected_chromedriver + 855123\n7   undetected_chromedriver             0x000000010283a953 undetected_chromedriver + 661843\n8   undetected_chromedriver             0x000000010283b29e undetected_chromedriver + 664222\n9   undetected_chromedriver             0x0000000102c4a0c0 undetected_chromedriver + 4919488\n10  undetected_chromedriver             0x0000000102c50175 undetected_chromedriver + 4944245\n11  undetected_chromedriver             0x0000000102c2af8e undetected_chromedriver + 4792206\n12  undetected_chromedriver             0x0000000102c50c99 undetected_chromedriver + 4947097\n13  undetected_chromedriver             0x0000000102c1b5e4 undetected_chromedriver + 4728292\n14  undetected_chromedriver             0x0000000102c72d08 undetected_chromedriver + 5086472\n15  undetected_chromedriver             0x0000000102c72ec7 undetected_chromedriver + 5086919\n16  undetected_chromedriver             0x0000000102c83483 undetected_chromedriver + 5153923\n17  libsystem_pthread.dylib             0x00007ff81567b202 _pthread_start + 99\n18  libsystem_pthread.dylib             0x00007ff815676bab thread_start + 15\n",
     "output_type": "error",
     "traceback": [
      "\u001b[0;31m---------------------------------------------------------------------------\u001b[0m",
      "\u001b[0;31mNoSuchWindowException\u001b[0m                     Traceback (most recent call last)",
      "Cell \u001b[0;32mIn[8], line 2\u001b[0m\n\u001b[1;32m      1\u001b[0m \u001b[38;5;66;03m# get page url\u001b[39;00m\n\u001b[0;32m----> 2\u001b[0m \u001b[43mp\u001b[49m\u001b[38;5;241;43m.\u001b[39;49m\u001b[43mdriver\u001b[49m\u001b[38;5;241;43m.\u001b[39;49m\u001b[43mcurrent_url\u001b[49m\n",
      "File \u001b[0;32m/Library/Frameworks/Python.framework/Versions/3.10/lib/python3.10/site-packages/undetected_chromedriver/__init__.py:806\u001b[0m, in \u001b[0;36mChrome.__getattribute__\u001b[0;34m(self, item)\u001b[0m\n\u001b[1;32m    804\u001b[0m \u001b[38;5;28;01mdef\u001b[39;00m \u001b[38;5;21m__getattribute__\u001b[39m(\u001b[38;5;28mself\u001b[39m, item):\n\u001b[1;32m    805\u001b[0m     \u001b[38;5;28;01mif\u001b[39;00m \u001b[38;5;129;01mnot\u001b[39;00m \u001b[38;5;28msuper\u001b[39m()\u001b[38;5;241m.\u001b[39m\u001b[38;5;21m__getattribute__\u001b[39m(\u001b[38;5;124m\"\u001b[39m\u001b[38;5;124mdebug\u001b[39m\u001b[38;5;124m\"\u001b[39m):\n\u001b[0;32m--> 806\u001b[0m         \u001b[38;5;28;01mreturn\u001b[39;00m \u001b[38;5;28;43msuper\u001b[39;49m\u001b[43m(\u001b[49m\u001b[43m)\u001b[49m\u001b[38;5;241;43m.\u001b[39;49m\u001b[38;5;21;43m__getattribute__\u001b[39;49m\u001b[43m(\u001b[49m\u001b[43mitem\u001b[49m\u001b[43m)\u001b[49m\n\u001b[1;32m    807\u001b[0m     \u001b[38;5;28;01melse\u001b[39;00m:\n\u001b[1;32m    808\u001b[0m         \u001b[38;5;28;01mimport\u001b[39;00m \u001b[38;5;21;01minspect\u001b[39;00m\n",
      "File \u001b[0;32m/Library/Frameworks/Python.framework/Versions/3.10/lib/python3.10/site-packages/selenium/webdriver/remote/webdriver.py:437\u001b[0m, in \u001b[0;36mWebDriver.current_url\u001b[0;34m(self)\u001b[0m\n\u001b[1;32m    428\u001b[0m \u001b[38;5;129m@property\u001b[39m\n\u001b[1;32m    429\u001b[0m \u001b[38;5;28;01mdef\u001b[39;00m \u001b[38;5;21mcurrent_url\u001b[39m(\u001b[38;5;28mself\u001b[39m) \u001b[38;5;241m-\u001b[39m\u001b[38;5;241m>\u001b[39m \u001b[38;5;28mstr\u001b[39m:\n\u001b[1;32m    430\u001b[0m \u001b[38;5;250m    \u001b[39m\u001b[38;5;124;03m\"\"\"Gets the URL of the current page.\u001b[39;00m\n\u001b[1;32m    431\u001b[0m \n\u001b[1;32m    432\u001b[0m \u001b[38;5;124;03m    :Usage:\u001b[39;00m\n\u001b[0;32m   (...)\u001b[0m\n\u001b[1;32m    435\u001b[0m \u001b[38;5;124;03m            driver.current_url\u001b[39;00m\n\u001b[1;32m    436\u001b[0m \u001b[38;5;124;03m    \"\"\"\u001b[39;00m\n\u001b[0;32m--> 437\u001b[0m     \u001b[38;5;28;01mreturn\u001b[39;00m \u001b[38;5;28;43mself\u001b[39;49m\u001b[38;5;241;43m.\u001b[39;49m\u001b[43mexecute\u001b[49m\u001b[43m(\u001b[49m\u001b[43mCommand\u001b[49m\u001b[38;5;241;43m.\u001b[39;49m\u001b[43mGET_CURRENT_URL\u001b[49m\u001b[43m)\u001b[49m[\u001b[38;5;124m\"\u001b[39m\u001b[38;5;124mvalue\u001b[39m\u001b[38;5;124m\"\u001b[39m]\n",
      "File \u001b[0;32m/Library/Frameworks/Python.framework/Versions/3.10/lib/python3.10/site-packages/selenium/webdriver/remote/webdriver.py:347\u001b[0m, in \u001b[0;36mWebDriver.execute\u001b[0;34m(self, driver_command, params)\u001b[0m\n\u001b[1;32m    345\u001b[0m response \u001b[38;5;241m=\u001b[39m \u001b[38;5;28mself\u001b[39m\u001b[38;5;241m.\u001b[39mcommand_executor\u001b[38;5;241m.\u001b[39mexecute(driver_command, params)\n\u001b[1;32m    346\u001b[0m \u001b[38;5;28;01mif\u001b[39;00m response:\n\u001b[0;32m--> 347\u001b[0m     \u001b[38;5;28;43mself\u001b[39;49m\u001b[38;5;241;43m.\u001b[39;49m\u001b[43merror_handler\u001b[49m\u001b[38;5;241;43m.\u001b[39;49m\u001b[43mcheck_response\u001b[49m\u001b[43m(\u001b[49m\u001b[43mresponse\u001b[49m\u001b[43m)\u001b[49m\n\u001b[1;32m    348\u001b[0m     response[\u001b[38;5;124m\"\u001b[39m\u001b[38;5;124mvalue\u001b[39m\u001b[38;5;124m\"\u001b[39m] \u001b[38;5;241m=\u001b[39m \u001b[38;5;28mself\u001b[39m\u001b[38;5;241m.\u001b[39m_unwrap_value(response\u001b[38;5;241m.\u001b[39mget(\u001b[38;5;124m\"\u001b[39m\u001b[38;5;124mvalue\u001b[39m\u001b[38;5;124m\"\u001b[39m, \u001b[38;5;28;01mNone\u001b[39;00m))\n\u001b[1;32m    349\u001b[0m     \u001b[38;5;28;01mreturn\u001b[39;00m response\n",
      "File \u001b[0;32m/Library/Frameworks/Python.framework/Versions/3.10/lib/python3.10/site-packages/selenium/webdriver/remote/errorhandler.py:229\u001b[0m, in \u001b[0;36mErrorHandler.check_response\u001b[0;34m(self, response)\u001b[0m\n\u001b[1;32m    227\u001b[0m         alert_text \u001b[38;5;241m=\u001b[39m value[\u001b[38;5;124m\"\u001b[39m\u001b[38;5;124malert\u001b[39m\u001b[38;5;124m\"\u001b[39m]\u001b[38;5;241m.\u001b[39mget(\u001b[38;5;124m\"\u001b[39m\u001b[38;5;124mtext\u001b[39m\u001b[38;5;124m\"\u001b[39m)\n\u001b[1;32m    228\u001b[0m     \u001b[38;5;28;01mraise\u001b[39;00m exception_class(message, screen, stacktrace, alert_text)  \u001b[38;5;66;03m# type: ignore[call-arg]  # mypy is not smart enough here\u001b[39;00m\n\u001b[0;32m--> 229\u001b[0m \u001b[38;5;28;01mraise\u001b[39;00m exception_class(message, screen, stacktrace)\n",
      "\u001b[0;31mNoSuchWindowException\u001b[0m: Message: no such window: target window already closed\nfrom unknown error: web view not found\n  (Session info: chrome=124.0.6367.62)\nStacktrace:\n0   undetected_chromedriver             0x0000000102c8bcf8 undetected_chromedriver + 5188856\n1   undetected_chromedriver             0x0000000102c83863 undetected_chromedriver + 5154915\n2   undetected_chromedriver             0x00000001027fc047 undetected_chromedriver + 405575\n3   undetected_chromedriver             0x00000001027d254e undetected_chromedriver + 234830\n4   undetected_chromedriver             0x00000001028727ed undetected_chromedriver + 890861\n5   undetected_chromedriver             0x0000000102888818 undetected_chromedriver + 981016\n6   undetected_chromedriver             0x0000000102869c53 undetected_chromedriver + 855123\n7   undetected_chromedriver             0x000000010283a953 undetected_chromedriver + 661843\n8   undetected_chromedriver             0x000000010283b29e undetected_chromedriver + 664222\n9   undetected_chromedriver             0x0000000102c4a0c0 undetected_chromedriver + 4919488\n10  undetected_chromedriver             0x0000000102c50175 undetected_chromedriver + 4944245\n11  undetected_chromedriver             0x0000000102c2af8e undetected_chromedriver + 4792206\n12  undetected_chromedriver             0x0000000102c50c99 undetected_chromedriver + 4947097\n13  undetected_chromedriver             0x0000000102c1b5e4 undetected_chromedriver + 4728292\n14  undetected_chromedriver             0x0000000102c72d08 undetected_chromedriver + 5086472\n15  undetected_chromedriver             0x0000000102c72ec7 undetected_chromedriver + 5086919\n16  undetected_chromedriver             0x0000000102c83483 undetected_chromedriver + 5153923\n17  libsystem_pthread.dylib             0x00007ff81567b202 _pthread_start + 99\n18  libsystem_pthread.dylib             0x00007ff815676bab thread_start + 15\n"
     ]
    }
   ],
   "source": [
    "# get page url\n",
    "p.driver.current_url"
   ]
  },
  {
   "cell_type": "code",
   "execution_count": null,
   "metadata": {},
   "outputs": [],
   "source": []
  },
  {
   "cell_type": "code",
   "execution_count": null,
   "metadata": {},
   "outputs": [],
   "source": []
  },
  {
   "cell_type": "code",
   "execution_count": 7,
   "metadata": {},
   "outputs": [
    {
     "name": "stdout",
     "output_type": "stream",
     "text": [
      "\u001b[33mscreenshot:\u001b[37m\t Taking screenshot\n",
      "\u001b[33mscreenshot:\u001b[37m\t Screenshot saved: /Users/hussam/Desktop/Projects/algopologist/data/screenshots/local/inner1/reddit/search/06fa.png\n",
      "\u001b[33mscreenshot:\u001b[37m\t Taking screenshot\n",
      "\u001b[33mscreenshot:\u001b[37m\t Screenshot saved: /Users/hussam/Desktop/Projects/algopologist/data/screenshots/local/inner1/reddit/search/e9f1.png\n",
      "/Users/hussam/Desktop/Projects/algopologist/data/screenshots local inner1 Reddit search 51b4ce91\n",
      "\u001b[33maddSignal:\u001b[37m\t Signal added: search\n",
      "\u001b[33mfollowUser:\u001b[37m\t Term searched\n",
      "\u001b[33m_joinNthUser:\u001b[37m\t https://www.reddit.com/user/nba/\n",
      "\u001b[33mscreenshot:\u001b[37m\t Taking screenshot\n",
      "\u001b[33mscreenshot:\u001b[37m\t Screenshot saved: /Users/hussam/Desktop/Projects/algopologist/data/screenshots/local/inner1/reddit/followUser/3c43.png\n",
      "\u001b[32maddSignal:\u001b[31m\t Error adding object: 'NoneType' object has no attribute 'replace'\n",
      "/Users/hussam/Desktop/Projects/algopologist/data/screenshots local inner1 Reddit follow 68b89715\n",
      "\u001b[33maddSignal:\u001b[37m\t Signal added: follow\n"
     ]
    }
   ],
   "source": [
    "signal = user.followUser('nba')"
   ]
  },
  {
   "cell_type": "code",
   "execution_count": 8,
   "metadata": {},
   "outputs": [
    {
     "name": "stdout",
     "output_type": "stream",
     "text": [
      "\u001b[33mscreenshot:\u001b[37m\t Taking screenshot\n",
      "\u001b[33mscreenshot:\u001b[37m\t Screenshot saved: /Users/hussam/Desktop/Projects/algopologist/data/screenshots/local/inner1/reddit/search/060d.png\n",
      "\u001b[33mscreenshot:\u001b[37m\t Taking screenshot\n",
      "\u001b[33mscreenshot:\u001b[37m\t Screenshot saved: /Users/hussam/Desktop/Projects/algopologist/data/screenshots/local/inner1/reddit/search/f76a.png\n",
      "/Users/hussam/Desktop/Projects/algopologist/data/screenshots local inner1 Reddit search 4c1ae438\n",
      "\u001b[33maddSignal:\u001b[37m\t Signal added: search\n",
      "\u001b[33mjoinCommunity:\u001b[37m\t Term searched\n",
      "\u001b[33m_joinNthSubreddit:\u001b[37m\t nba\n",
      "\u001b[33mscreenshot:\u001b[37m\t Taking screenshot\n",
      "\u001b[33mscreenshot:\u001b[37m\t Screenshot saved: /Users/hussam/Desktop/Projects/algopologist/data/screenshots/local/inner1/reddit/joinCommunity/27b4.png\n",
      "\u001b[32maddSignal:\u001b[31m\t Error adding object: 'NoneType' object has no attribute 'replace'\n",
      "/Users/hussam/Desktop/Projects/algopologist/data/screenshots local inner1 Reddit join e1437771\n",
      "\u001b[33maddSignal:\u001b[37m\t Signal added: join\n"
     ]
    }
   ],
   "source": [
    "user.joinCommunity('nba')"
   ]
  },
  {
   "cell_type": "code",
   "execution_count": null,
   "metadata": {},
   "outputs": [],
   "source": [
    "user.search('nba')"
   ]
  },
  {
   "cell_type": "code",
   "execution_count": 9,
   "metadata": {},
   "outputs": [
    {
     "name": "stdout",
     "output_type": "stream",
     "text": [
      "\u001b[32mopenPost:\u001b[37m\t Opeining post for nba\n",
      "\u001b[33mscreenshot:\u001b[37m\t Taking screenshot\n",
      "\u001b[33mscreenshot:\u001b[37m\t Screenshot saved: /Users/hussam/Desktop/Projects/algopologist/data/screenshots/local/inner1/reddit/search/6673.png\n",
      "\u001b[33mscreenshot:\u001b[37m\t Taking screenshot\n",
      "\u001b[33mscreenshot:\u001b[37m\t Screenshot saved: /Users/hussam/Desktop/Projects/algopologist/data/screenshots/local/inner1/reddit/search/3d03.png\n",
      "/Users/hussam/Desktop/Projects/algopologist/data/screenshots local inner1 Reddit search 8e4097d1\n",
      "\u001b[33maddSignal:\u001b[37m\t Signal added: search\n",
      "\u001b[33mopenPost:\u001b[37m\t Posts: 21\n"
     ]
    },
    {
     "ename": "ValueError",
     "evalue": "too many values to unpack (expected 2)",
     "output_type": "error",
     "traceback": [
      "\u001b[0;31m---------------------------------------------------------------------------\u001b[0m",
      "\u001b[0;31mValueError\u001b[0m                                Traceback (most recent call last)",
      "Cell \u001b[0;32mIn[9], line 1\u001b[0m\n\u001b[0;32m----> 1\u001b[0m \u001b[43muser\u001b[49m\u001b[38;5;241;43m.\u001b[39;49m\u001b[43mopenPost\u001b[49m\u001b[43m(\u001b[49m\u001b[38;5;124;43m'\u001b[39;49m\u001b[38;5;124;43mnba\u001b[39;49m\u001b[38;5;124;43m'\u001b[39;49m\u001b[43m)\u001b[49m\n",
      "File \u001b[0;32m~/Desktop/Projects/algopologist/scripts/../core/users/User.py:137\u001b[0m, in \u001b[0;36mUser.openPost\u001b[0;34m(self, topic)\u001b[0m\n\u001b[1;32m    135\u001b[0m \u001b[38;5;28mself\u001b[39m\u001b[38;5;241m.\u001b[39msearch(topic)\n\u001b[1;32m    136\u001b[0m opened_posts \u001b[38;5;241m=\u001b[39m \u001b[38;5;28mself\u001b[39m\u001b[38;5;241m.\u001b[39mgetOpenedPosts()\n\u001b[0;32m--> 137\u001b[0m post, opened \u001b[38;5;241m=\u001b[39m \u001b[38;5;28mself\u001b[39m\u001b[38;5;241m.\u001b[39mplatform\u001b[38;5;241m.\u001b[39mopenPost(already_opened\u001b[38;5;241m=\u001b[39mopened_posts)\n\u001b[1;32m    138\u001b[0m \u001b[38;5;28mself\u001b[39m\u001b[38;5;241m.\u001b[39mtakeScreenshot()\n\u001b[1;32m    139\u001b[0m \u001b[38;5;28mself\u001b[39m\u001b[38;5;241m.\u001b[39maddSignal(\u001b[38;5;124m'\u001b[39m\u001b[38;5;124mopen\u001b[39m\u001b[38;5;124m'\u001b[39m, post, \u001b[38;5;124m'\u001b[39m\u001b[38;5;124mpost\u001b[39m\u001b[38;5;124m'\u001b[39m, info\u001b[38;5;241m=\u001b[39m\u001b[38;5;124mf\u001b[39m\u001b[38;5;124m'\u001b[39m\u001b[38;5;124msearched-\u001b[39m\u001b[38;5;132;01m{\u001b[39;00mtopic\u001b[38;5;132;01m}\u001b[39;00m\u001b[38;5;124m'\u001b[39m)\n",
      "\u001b[0;31mValueError\u001b[0m: too many values to unpack (expected 2)"
     ]
    }
   ],
   "source": [
    "user.openPost('nba')"
   ]
  },
  {
   "cell_type": "code",
   "execution_count": null,
   "metadata": {},
   "outputs": [],
   "source": [
    "user.likePost('nba')"
   ]
  },
  {
   "cell_type": "code",
   "execution_count": null,
   "metadata": {},
   "outputs": [],
   "source": []
  },
  {
   "cell_type": "code",
   "execution_count": 10,
   "metadata": {},
   "outputs": [
    {
     "name": "stderr",
     "output_type": "stream",
     "text": [
      "sh: taskkill: command not found\n"
     ]
    }
   ],
   "source": [
    "BrowserFactory().getBrowser('').forceCloseDriver()"
   ]
  },
  {
   "cell_type": "code",
   "execution_count": 3,
   "metadata": {},
   "outputs": [],
   "source": [
    "path = './test'\n",
    "driver = uc.Chrome(user_data_dir=path, use_subprocess=False, version_main=122)"
   ]
  },
  {
   "cell_type": "code",
   "execution_count": 4,
   "metadata": {},
   "outputs": [],
   "source": [
    "channels = driver.find_elements(By.XPATH, '//div[@id=\"content-section\"]')\n",
    "position = -1"
   ]
  },
  {
   "cell_type": "code",
   "execution_count": 33,
   "metadata": {},
   "outputs": [
    {
     "ename": "KeyError",
     "evalue": "'descriptionSnippet'",
     "output_type": "error",
     "traceback": [
      "\u001b[1;31m---------------------------------------------------------------------------\u001b[0m",
      "\u001b[1;31mKeyError\u001b[0m                                  Traceback (most recent call last)",
      "Cell \u001b[1;32mIn[33], line 14\u001b[0m\n\u001b[0;32m     12\u001b[0m channel_id \u001b[38;5;241m=\u001b[39m hrefs[\u001b[38;5;241m0\u001b[39m]\u001b[38;5;241m.\u001b[39msplit(\u001b[38;5;124m'\u001b[39m\u001b[38;5;124m@\u001b[39m\u001b[38;5;124m'\u001b[39m)[\u001b[38;5;241m-\u001b[39m\u001b[38;5;241m1\u001b[39m]\n\u001b[0;32m     13\u001b[0m channel \u001b[38;5;241m=\u001b[39m \u001b[38;5;28mdict\u001b[39m()\n\u001b[1;32m---> 14\u001b[0m channel \u001b[38;5;241m=\u001b[39m \u001b[43mtube\u001b[49m\u001b[38;5;241;43m.\u001b[39;49m\u001b[43mgetChannelInfo\u001b[49m\u001b[43m(\u001b[49m\u001b[43mchannel_id\u001b[49m\u001b[43m)\u001b[49m\n\u001b[0;32m     15\u001b[0m channel[\u001b[38;5;124m'\u001b[39m\u001b[38;5;124mtype\u001b[39m\u001b[38;5;124m'\u001b[39m] \u001b[38;5;241m=\u001b[39m \u001b[38;5;124m'\u001b[39m\u001b[38;5;124muser\u001b[39m\u001b[38;5;124m'\u001b[39m\n\u001b[0;32m     16\u001b[0m channel[\u001b[38;5;124m'\u001b[39m\u001b[38;5;124mposition\u001b[39m\u001b[38;5;124m'\u001b[39m] \u001b[38;5;241m=\u001b[39m position\n",
      "Cell \u001b[1;32mIn[27], line 20\u001b[0m, in \u001b[0;36mMyTube.getChannelInfo\u001b[1;34m(self, channel_id)\u001b[0m\n\u001b[0;32m     18\u001b[0m name \u001b[38;5;241m=\u001b[39m channel[\u001b[38;5;124m'\u001b[39m\u001b[38;5;124mtitle\u001b[39m\u001b[38;5;124m'\u001b[39m][\u001b[38;5;124m'\u001b[39m\u001b[38;5;124msimpleText\u001b[39m\u001b[38;5;124m'\u001b[39m]\n\u001b[0;32m     19\u001b[0m \u001b[38;5;28mid\u001b[39m \u001b[38;5;241m=\u001b[39m channel[\u001b[38;5;124m'\u001b[39m\u001b[38;5;124mchannelId\u001b[39m\u001b[38;5;124m'\u001b[39m]\n\u001b[1;32m---> 20\u001b[0m runs \u001b[38;5;241m=\u001b[39m \u001b[43mchannel\u001b[49m\u001b[43m[\u001b[49m\u001b[38;5;124;43m'\u001b[39;49m\u001b[38;5;124;43mdescriptionSnippet\u001b[39;49m\u001b[38;5;124;43m'\u001b[39;49m\u001b[43m]\u001b[49m[\u001b[38;5;124m'\u001b[39m\u001b[38;5;124mruns\u001b[39m\u001b[38;5;124m'\u001b[39m]\n\u001b[0;32m     21\u001b[0m description \u001b[38;5;241m=\u001b[39m [i[\u001b[38;5;124m'\u001b[39m\u001b[38;5;124mtext\u001b[39m\u001b[38;5;124m'\u001b[39m] \u001b[38;5;28;01mfor\u001b[39;00m i \u001b[38;5;129;01min\u001b[39;00m runs]\n\u001b[0;32m     22\u001b[0m description \u001b[38;5;241m=\u001b[39m \u001b[38;5;124m'\u001b[39m\u001b[38;5;124m'\u001b[39m\u001b[38;5;241m.\u001b[39mjoin(description)\n",
      "\u001b[1;31mKeyError\u001b[0m: 'descriptionSnippet'"
     ]
    }
   ],
   "source": [
    "tag = 'ytd-channel-renderer'\n",
    "channels = driver.find_elements(By.XPATH, f'//{tag}')\n",
    "\n",
    "channel_descs = []\n",
    "for channel in channels:\n",
    "    if 'Subscribed' in channel.text:\n",
    "        position +=1\n",
    "        continue\n",
    "\n",
    "    tag = 'a'\n",
    "    hrefs = channel.find_elements(By.XPATH, f'.//{tag}')\n",
    "    hrefs = [href.get_attribute('href') for href in hrefs]\n",
    "    channel_id = hrefs[0].split('@')[-1]\n",
    "    channel = dict()\n",
    "    channel = tube.getChannelInfo(channel_id)\n",
    "    channel['type'] = 'user'\n",
    "    channel['position'] = position\n",
    "    channel_descs.append(channel)\n",
    "\n",
    "    continue   \n",
    "\n",
    "    tag = 'button'\n",
    "    buttons = channel.find_elements(By.XPATH, f'.//{tag}')\n",
    "\n",
    "    subscribed = False\n",
    "    for button in buttons:\n",
    "        if 'Subscribe' in button.text:\n",
    "            button.click()\n",
    "            print('subscribed')\n",
    "            subscribed = True\n",
    "            break\n",
    "\n",
    "    if subscribed:\n",
    "        channel = dict()\n",
    "        channel = tube.getChannelInfo(channel_id)\n",
    "        channel['type'] = 'user'\n",
    "        channel['position'] = position\n",
    "        break\n",
    "\n",
    "        "
   ]
  },
  {
   "cell_type": "code",
   "execution_count": 34,
   "metadata": {},
   "outputs": [
    {
     "data": {
      "text/plain": [
       "{}"
      ]
     },
     "execution_count": 34,
     "metadata": {},
     "output_type": "execute_result"
    }
   ],
   "source": [
    "channel"
   ]
  },
  {
   "cell_type": "code",
   "execution_count": 24,
   "metadata": {},
   "outputs": [],
   "source": [
    "tag = 'ytd-channel-renderer'\n",
    "channels = driver.find_elements(By.XPATH, f'//{tag}')"
   ]
  },
  {
   "cell_type": "code",
   "execution_count": 25,
   "metadata": {},
   "outputs": [
    {
     "ename": "NameError",
     "evalue": "name 'href' is not defined",
     "output_type": "error",
     "traceback": [
      "\u001b[1;31m---------------------------------------------------------------------------\u001b[0m",
      "\u001b[1;31mNameError\u001b[0m                                 Traceback (most recent call last)",
      "Cell \u001b[1;32mIn[25], line 7\u001b[0m\n\u001b[0;32m      4\u001b[0m hrefs \u001b[38;5;241m=\u001b[39m channel\u001b[38;5;241m.\u001b[39mfind_elements(By\u001b[38;5;241m.\u001b[39mXPATH, \u001b[38;5;124mf\u001b[39m\u001b[38;5;124m'\u001b[39m\u001b[38;5;124m.//\u001b[39m\u001b[38;5;132;01m{\u001b[39;00mtag\u001b[38;5;132;01m}\u001b[39;00m\u001b[38;5;124m'\u001b[39m)\n\u001b[0;32m      5\u001b[0m hrefs \u001b[38;5;241m=\u001b[39m [href\u001b[38;5;241m.\u001b[39mget_attribute(\u001b[38;5;124m'\u001b[39m\u001b[38;5;124mhref\u001b[39m\u001b[38;5;124m'\u001b[39m) \u001b[38;5;28;01mfor\u001b[39;00m href \u001b[38;5;129;01min\u001b[39;00m hrefs]\n\u001b[1;32m----> 7\u001b[0m \u001b[43mhref\u001b[49m\n",
      "\u001b[1;31mNameError\u001b[0m: name 'href' is not defined"
     ]
    }
   ],
   "source": [
    "channel = channels[1]\n",
    "# get all hrefs within"
   ]
  },
  {
   "cell_type": "code",
   "execution_count": 27,
   "metadata": {},
   "outputs": [],
   "source": [
    "from innertube import InnerTube\n",
    "\n",
    "class MyTube():\n",
    "    def __init__(self):\n",
    "        self.tube = InnerTube(\"WEB\")\n",
    "        \n",
    "    def getChannelInfo(self, channel_id):\n",
    "        PARAMS_TYPE_CHANNEL = \"EgIQAg%3D%3D\"\n",
    "        data = self.tube.search(channel_id, params=PARAMS_TYPE_CHANNEL)\n",
    "\n",
    "        channels = data['contents']['twoColumnSearchResultsRenderer']['primaryContents']['sectionListRenderer']['contents'][0]['itemSectionRenderer']['contents']\n",
    "        for channel in channels:\n",
    "            if 'channelRenderer' not in channel:\n",
    "                continue\n",
    "            channel = channel['channelRenderer']\n",
    "            break\n",
    "\n",
    "        name = channel['title']['simpleText']\n",
    "        id = channel['channelId']\n",
    "        runs = channel['descriptionSnippet']['runs']\n",
    "        description = [i['text'] for i in runs]\n",
    "        description = ''.join(description)\n",
    "        subscribers = channel['videoCountText']['simpleText']\n",
    "\n",
    "        channel = {\n",
    "            'name': name,\n",
    "            'urlId': channel_id,\n",
    "            'id': id,\n",
    "            'description': description,\n",
    "            'subscribers': subscribers\n",
    "        }\n",
    "        return channel"
   ]
  },
  {
   "cell_type": "code",
   "execution_count": 28,
   "metadata": {},
   "outputs": [
    {
     "data": {
      "text/plain": [
       "['https://www.youtube.com/@NBAHighlights-rt1di',\n",
       " 'https://www.youtube.com/@NBAHighlights-rt1di']"
      ]
     },
     "execution_count": 28,
     "metadata": {},
     "output_type": "execute_result"
    }
   ],
   "source": [
    "hrefs"
   ]
  },
  {
   "cell_type": "code",
   "execution_count": 29,
   "metadata": {},
   "outputs": [
    {
     "data": {
      "text/plain": [
       "{'name': 'NBA Highlights 2024',\n",
       " 'urlId': 'NBAHighlights-rt1di',\n",
       " 'id': 'UC3x4rHaszl7OIyEYC_J6aPA',\n",
       " 'description': 'Look no further than our favorite group! Join now at: https://www.facebook.com/groups/210879048389833 and NEVER miss the\\xa0...',\n",
       " 'subscribers': '467K subscribers'}"
      ]
     },
     "execution_count": 29,
     "metadata": {},
     "output_type": "execute_result"
    }
   ],
   "source": [
    "tube = MyTube()\n",
    "tube.getChannelInfo('NBAHighlights-rt1di')"
   ]
  },
  {
   "cell_type": "code",
   "execution_count": 15,
   "metadata": {},
   "outputs": [
    {
     "data": {
      "text/plain": [
       "'Subscribe'"
      ]
     },
     "execution_count": 15,
     "metadata": {},
     "output_type": "execute_result"
    }
   ],
   "source": [
    "buttons[0].text"
   ]
  },
  {
   "cell_type": "code",
   "execution_count": 11,
   "metadata": {},
   "outputs": [
    {
     "data": {
      "text/plain": [
       "'NBA\\n@NBA•21.6M subscribers\\nThe NBA is the premier professional basketball league in the United States and Canada. The league is truly global, with games ...\\nSign up\\nSubscribed'"
      ]
     },
     "execution_count": 11,
     "metadata": {},
     "output_type": "execute_result"
    }
   ],
   "source": [
    "channels[0].text"
   ]
  },
  {
   "cell_type": "code",
   "execution_count": 7,
   "metadata": {},
   "outputs": [
    {
     "name": "stdout",
     "output_type": "stream",
     "text": [
      "ERROR\n",
      "ERROR\n",
      "ERROR\n",
      "ERROR\n",
      "ERROR\n",
      "ERROR\n",
      "ERROR\n",
      "ERROR\n",
      "ERROR\n",
      "ERROR\n",
      "ERROR\n",
      "ERROR\n",
      "ERROR\n",
      "ERROR\n",
      "ERROR\n",
      "ERROR\n",
      "ERROR\n",
      "ERROR\n",
      "ERROR\n",
      "ERROR\n"
     ]
    }
   ],
   "source": [
    "for channel in channels:\n",
    "    try:\n",
    "        channel_id = channel.find_element(By.XPATH, './/span[@id=\"subscribers\"]')\n",
    "        channel_id = channel_id.text\n",
    "    except:\n",
    "        print(\"ERROR\")\n",
    "    "
   ]
  },
  {
   "cell_type": "code",
   "execution_count": null,
   "metadata": {},
   "outputs": [],
   "source": [
    "for channel in channels:\n",
    "    position += 1\n",
    "    try:\n",
    "        channel_id = channel.find_element(By.XPATH, './/span[@id=\"subscribers\"]')\n",
    "        channel_id = channel_id.text\n",
    "\n",
    "        subscribe_button = channel.find_elements(By.XPATH, './/div[@id=\"subscribe-button\"]')\n",
    "        debug(channel_id)\n",
    "        if len(subscribe_button) == 0:\n",
    "            error('No subscribe button found...: ' + channel_id)\n",
    "            continue\n",
    "\n",
    "        text = subscribe_button[0].text\n",
    "        if text == 'Subscribed':\n",
    "            debug('Already subscribed...: ' + channel_id)\n",
    "            continue\n",
    "        elif text == 'Subscribe':\n",
    "            subscribe_button[0].click()\n",
    "            channel = tube.getChannelInfo(channel_id)\n",
    "            channel['type'] = 'user'\n",
    "            channel['position'] = position\n",
    "            debug('Subscribed: ' + channel['name'])\n",
    "            wait(1)\n",
    "            channel = self.convertToSource(channel, 'search')\n",
    "            return channel\n",
    "        else:\n",
    "            error('Unknown subscribe button text...: ' + channel_id)\n",
    "            continue\n",
    "    except Exception as e:\n",
    "        error('Error')"
   ]
  },
  {
   "cell_type": "code",
   "execution_count": 33,
   "metadata": {},
   "outputs": [],
   "source": [
    "driver.quit()"
   ]
  },
  {
   "cell_type": "code",
   "execution_count": 32,
   "metadata": {},
   "outputs": [
    {
     "ename": "WebDriverException",
     "evalue": "Message: no such execution context: frame does not have execution context\n  (Session info: chrome=123.0.6312.86)\nStacktrace:\n0   undetected_chromedriver             0x00000001049ea2a8 undetected_chromedriver + 4625064\n1   undetected_chromedriver             0x00000001049e1e53 undetected_chromedriver + 4591187\n2   undetected_chromedriver             0x00000001045e0e6a undetected_chromedriver + 392810\n3   undetected_chromedriver             0x00000001045cc704 undetected_chromedriver + 308996\n4   undetected_chromedriver             0x00000001045e4cd5 undetected_chromedriver + 408789\n5   undetected_chromedriver             0x00000001045e812b undetected_chromedriver + 422187\n6   undetected_chromedriver             0x00000001045e81cc undetected_chromedriver + 422348\n7   undetected_chromedriver             0x00000001046706c2 undetected_chromedriver + 980674\n8   undetected_chromedriver             0x0000000104670289 undetected_chromedriver + 979593\n9   undetected_chromedriver             0x000000010464e872 undetected_chromedriver + 841842\n10  undetected_chromedriver             0x000000010466d68f undetected_chromedriver + 968335\n11  undetected_chromedriver             0x000000010464e613 undetected_chromedriver + 841235\n12  undetected_chromedriver             0x000000010461f3da undetected_chromedriver + 648154\n13  undetected_chromedriver             0x000000010461fd1e undetected_chromedriver + 650526\n14  undetected_chromedriver             0x00000001049aaa70 undetected_chromedriver + 4364912\n15  undetected_chromedriver             0x00000001049afe36 undetected_chromedriver + 4386358\n16  undetected_chromedriver             0x000000010498f6de undetected_chromedriver + 4253406\n17  undetected_chromedriver             0x00000001049b0b79 undetected_chromedriver + 4389753\n18  undetected_chromedriver             0x0000000104981a29 undetected_chromedriver + 4196905\n19  undetected_chromedriver             0x00000001049d0b28 undetected_chromedriver + 4520744\n20  undetected_chromedriver             0x00000001049d0d07 undetected_chromedriver + 4521223\n21  undetected_chromedriver             0x00000001049e1a93 undetected_chromedriver + 4590227\n22  libsystem_pthread.dylib             0x00007ff81567b202 _pthread_start + 99\n23  libsystem_pthread.dylib             0x00007ff815676bab thread_start + 15\n",
     "output_type": "error",
     "traceback": [
      "\u001b[0;31m---------------------------------------------------------------------------\u001b[0m",
      "\u001b[0;31mWebDriverException\u001b[0m                        Traceback (most recent call last)",
      "Cell \u001b[0;32mIn[32], line 1\u001b[0m\n\u001b[0;32m----> 1\u001b[0m \u001b[43mdriver\u001b[49m\u001b[38;5;241;43m.\u001b[39;49m\u001b[43mcurrent_url\u001b[49m\n",
      "File \u001b[0;32m/Library/Frameworks/Python.framework/Versions/3.10/lib/python3.10/site-packages/undetected_chromedriver/__init__.py:806\u001b[0m, in \u001b[0;36mChrome.__getattribute__\u001b[0;34m(self, item)\u001b[0m\n\u001b[1;32m    804\u001b[0m \u001b[38;5;28;01mdef\u001b[39;00m \u001b[38;5;21m__getattribute__\u001b[39m(\u001b[38;5;28mself\u001b[39m, item):\n\u001b[1;32m    805\u001b[0m     \u001b[38;5;28;01mif\u001b[39;00m \u001b[38;5;129;01mnot\u001b[39;00m \u001b[38;5;28msuper\u001b[39m()\u001b[38;5;241m.\u001b[39m\u001b[38;5;21m__getattribute__\u001b[39m(\u001b[38;5;124m\"\u001b[39m\u001b[38;5;124mdebug\u001b[39m\u001b[38;5;124m\"\u001b[39m):\n\u001b[0;32m--> 806\u001b[0m         \u001b[38;5;28;01mreturn\u001b[39;00m \u001b[38;5;28;43msuper\u001b[39;49m\u001b[43m(\u001b[49m\u001b[43m)\u001b[49m\u001b[38;5;241;43m.\u001b[39;49m\u001b[38;5;21;43m__getattribute__\u001b[39;49m\u001b[43m(\u001b[49m\u001b[43mitem\u001b[49m\u001b[43m)\u001b[49m\n\u001b[1;32m    807\u001b[0m     \u001b[38;5;28;01melse\u001b[39;00m:\n\u001b[1;32m    808\u001b[0m         \u001b[38;5;28;01mimport\u001b[39;00m \u001b[38;5;21;01minspect\u001b[39;00m\n",
      "File \u001b[0;32m/Library/Frameworks/Python.framework/Versions/3.10/lib/python3.10/site-packages/selenium/webdriver/remote/webdriver.py:437\u001b[0m, in \u001b[0;36mWebDriver.current_url\u001b[0;34m(self)\u001b[0m\n\u001b[1;32m    428\u001b[0m \u001b[38;5;129m@property\u001b[39m\n\u001b[1;32m    429\u001b[0m \u001b[38;5;28;01mdef\u001b[39;00m \u001b[38;5;21mcurrent_url\u001b[39m(\u001b[38;5;28mself\u001b[39m) \u001b[38;5;241m-\u001b[39m\u001b[38;5;241m>\u001b[39m \u001b[38;5;28mstr\u001b[39m:\n\u001b[1;32m    430\u001b[0m \u001b[38;5;250m    \u001b[39m\u001b[38;5;124;03m\"\"\"Gets the URL of the current page.\u001b[39;00m\n\u001b[1;32m    431\u001b[0m \n\u001b[1;32m    432\u001b[0m \u001b[38;5;124;03m    :Usage:\u001b[39;00m\n\u001b[0;32m   (...)\u001b[0m\n\u001b[1;32m    435\u001b[0m \u001b[38;5;124;03m            driver.current_url\u001b[39;00m\n\u001b[1;32m    436\u001b[0m \u001b[38;5;124;03m    \"\"\"\u001b[39;00m\n\u001b[0;32m--> 437\u001b[0m     \u001b[38;5;28;01mreturn\u001b[39;00m \u001b[38;5;28;43mself\u001b[39;49m\u001b[38;5;241;43m.\u001b[39;49m\u001b[43mexecute\u001b[49m\u001b[43m(\u001b[49m\u001b[43mCommand\u001b[49m\u001b[38;5;241;43m.\u001b[39;49m\u001b[43mGET_CURRENT_URL\u001b[49m\u001b[43m)\u001b[49m[\u001b[38;5;124m\"\u001b[39m\u001b[38;5;124mvalue\u001b[39m\u001b[38;5;124m\"\u001b[39m]\n",
      "File \u001b[0;32m/Library/Frameworks/Python.framework/Versions/3.10/lib/python3.10/site-packages/selenium/webdriver/remote/webdriver.py:347\u001b[0m, in \u001b[0;36mWebDriver.execute\u001b[0;34m(self, driver_command, params)\u001b[0m\n\u001b[1;32m    345\u001b[0m response \u001b[38;5;241m=\u001b[39m \u001b[38;5;28mself\u001b[39m\u001b[38;5;241m.\u001b[39mcommand_executor\u001b[38;5;241m.\u001b[39mexecute(driver_command, params)\n\u001b[1;32m    346\u001b[0m \u001b[38;5;28;01mif\u001b[39;00m response:\n\u001b[0;32m--> 347\u001b[0m     \u001b[38;5;28;43mself\u001b[39;49m\u001b[38;5;241;43m.\u001b[39;49m\u001b[43merror_handler\u001b[49m\u001b[38;5;241;43m.\u001b[39;49m\u001b[43mcheck_response\u001b[49m\u001b[43m(\u001b[49m\u001b[43mresponse\u001b[49m\u001b[43m)\u001b[49m\n\u001b[1;32m    348\u001b[0m     response[\u001b[38;5;124m\"\u001b[39m\u001b[38;5;124mvalue\u001b[39m\u001b[38;5;124m\"\u001b[39m] \u001b[38;5;241m=\u001b[39m \u001b[38;5;28mself\u001b[39m\u001b[38;5;241m.\u001b[39m_unwrap_value(response\u001b[38;5;241m.\u001b[39mget(\u001b[38;5;124m\"\u001b[39m\u001b[38;5;124mvalue\u001b[39m\u001b[38;5;124m\"\u001b[39m, \u001b[38;5;28;01mNone\u001b[39;00m))\n\u001b[1;32m    349\u001b[0m     \u001b[38;5;28;01mreturn\u001b[39;00m response\n",
      "File \u001b[0;32m/Library/Frameworks/Python.framework/Versions/3.10/lib/python3.10/site-packages/selenium/webdriver/remote/errorhandler.py:229\u001b[0m, in \u001b[0;36mErrorHandler.check_response\u001b[0;34m(self, response)\u001b[0m\n\u001b[1;32m    227\u001b[0m         alert_text \u001b[38;5;241m=\u001b[39m value[\u001b[38;5;124m\"\u001b[39m\u001b[38;5;124malert\u001b[39m\u001b[38;5;124m\"\u001b[39m]\u001b[38;5;241m.\u001b[39mget(\u001b[38;5;124m\"\u001b[39m\u001b[38;5;124mtext\u001b[39m\u001b[38;5;124m\"\u001b[39m)\n\u001b[1;32m    228\u001b[0m     \u001b[38;5;28;01mraise\u001b[39;00m exception_class(message, screen, stacktrace, alert_text)  \u001b[38;5;66;03m# type: ignore[call-arg]  # mypy is not smart enough here\u001b[39;00m\n\u001b[0;32m--> 229\u001b[0m \u001b[38;5;28;01mraise\u001b[39;00m exception_class(message, screen, stacktrace)\n",
      "\u001b[0;31mWebDriverException\u001b[0m: Message: no such execution context: frame does not have execution context\n  (Session info: chrome=123.0.6312.86)\nStacktrace:\n0   undetected_chromedriver             0x00000001049ea2a8 undetected_chromedriver + 4625064\n1   undetected_chromedriver             0x00000001049e1e53 undetected_chromedriver + 4591187\n2   undetected_chromedriver             0x00000001045e0e6a undetected_chromedriver + 392810\n3   undetected_chromedriver             0x00000001045cc704 undetected_chromedriver + 308996\n4   undetected_chromedriver             0x00000001045e4cd5 undetected_chromedriver + 408789\n5   undetected_chromedriver             0x00000001045e812b undetected_chromedriver + 422187\n6   undetected_chromedriver             0x00000001045e81cc undetected_chromedriver + 422348\n7   undetected_chromedriver             0x00000001046706c2 undetected_chromedriver + 980674\n8   undetected_chromedriver             0x0000000104670289 undetected_chromedriver + 979593\n9   undetected_chromedriver             0x000000010464e872 undetected_chromedriver + 841842\n10  undetected_chromedriver             0x000000010466d68f undetected_chromedriver + 968335\n11  undetected_chromedriver             0x000000010464e613 undetected_chromedriver + 841235\n12  undetected_chromedriver             0x000000010461f3da undetected_chromedriver + 648154\n13  undetected_chromedriver             0x000000010461fd1e undetected_chromedriver + 650526\n14  undetected_chromedriver             0x00000001049aaa70 undetected_chromedriver + 4364912\n15  undetected_chromedriver             0x00000001049afe36 undetected_chromedriver + 4386358\n16  undetected_chromedriver             0x000000010498f6de undetected_chromedriver + 4253406\n17  undetected_chromedriver             0x00000001049b0b79 undetected_chromedriver + 4389753\n18  undetected_chromedriver             0x0000000104981a29 undetected_chromedriver + 4196905\n19  undetected_chromedriver             0x00000001049d0b28 undetected_chromedriver + 4520744\n20  undetected_chromedriver             0x00000001049d0d07 undetected_chromedriver + 4521223\n21  undetected_chromedriver             0x00000001049e1a93 undetected_chromedriver + 4590227\n22  libsystem_pthread.dylib             0x00007ff81567b202 _pthread_start + 99\n23  libsystem_pthread.dylib             0x00007ff815676bab thread_start + 15\n"
     ]
    }
   ],
   "source": [
    "driver.current_url()"
   ]
  },
  {
   "cell_type": "code",
   "execution_count": 6,
   "metadata": {},
   "outputs": [],
   "source": [
    "recommendations = driver.find_elements(By.XPATH, '//a[@class=\"yt-simple-endpoint style-scope ytd-compact-video-renderer\"]')\n",
    "r2 = [recommendation.get_attribute('href').split('?v=')[1] for recommendation in recommendations if recommendation.get_attribute('href')]"
   ]
  },
  {
   "cell_type": "code",
   "execution_count": 7,
   "metadata": {},
   "outputs": [],
   "source": [
    "recommendations = driver.find_elements(By.XPATH, '//a[@class=\"yt-simple-endpoint style-scope ytd-compact-video-renderer\"]')\n",
    "r4 = [recommendation.get_attribute('href').split('?v=')[1] for recommendation in recommendations if recommendation.get_attribute('href')]"
   ]
  },
  {
   "cell_type": "code",
   "execution_count": 17,
   "metadata": {},
   "outputs": [],
   "source": [
    "recommendations = driver.find_elements(By.XPATH, '//a[@class=\"yt-simple-endpoint style-scope ytd-compact-video-renderer\"]')\n",
    "r5 = [recommendation.get_attribute('href').split('?v=')[1] for recommendation in recommendations if recommendation.get_attribute('href')]"
   ]
  },
  {
   "cell_type": "code",
   "execution_count": 8,
   "metadata": {},
   "outputs": [],
   "source": [
    "driver.quit()"
   ]
  },
  {
   "cell_type": "code",
   "execution_count": 9,
   "metadata": {},
   "outputs": [],
   "source": [
    "recs = [r1, r2, r4]"
   ]
  },
  {
   "cell_type": "code",
   "execution_count": 11,
   "metadata": {},
   "outputs": [
    {
     "name": "stdout",
     "output_type": "stream",
     "text": [
      "orMtwOz6Db0\n",
      "JXZpac6TREw\n",
      "DxL2HoqLbyA\n",
      "lFlu60qs7_4\n",
      "E7oEq6CE78g\n",
      "6Mp84uZjPD0\n",
      "RsBc0Yuodq0\n",
      "_IkaetPoBZM\n",
      "Zrv1EDIqHkY\n",
      "s6sdy20_QMM\n",
      "d6iQrh2TK98\n",
      "A5w-dEgIU1M\n",
      "XnhkiF4GXxM\n",
      "-wg9YMOsyBE\n",
      "sZ41zgWHs_I\n",
      "CKJuC5CUMgU\n",
      "cUzklzVXJwo\n",
      "nkh2KkJPy2g\n",
      "vFNgd3pitAI\n",
      "nr4BAnV3E54\n",
      "\n",
      "orMtwOz6Db0\n",
      "JXZpac6TREw\n",
      "DxL2HoqLbyA\n",
      "lFlu60qs7_4\n",
      "nhGwJLXzHs8\n",
      "iWwY6K5Vjyo\n",
      "6Mp84uZjPD0\n",
      "RsBc0Yuodq0\n",
      "Zrv1EDIqHkY\n",
      "s6sdy20_QMM\n",
      "d6iQrh2TK98\n",
      "nkh2KkJPy2g\n",
      "XnhkiF4GXxM\n",
      "-wg9YMOsyBE\n",
      "A5w-dEgIU1M\n",
      "Unzc731iCUY\n",
      "nr4BAnV3E54\n",
      "rbfFt2uNEyQ\n",
      "leoBccWOZfo\n",
      "sZ41zgWHs_I\n",
      "\n",
      "JXZpac6TREw\n",
      "orMtwOz6Db0\n",
      "DxL2HoqLbyA\n",
      "lFlu60qs7_4\n",
      "yPVQtvbiS4Y\n",
      "6Mp84uZjPD0\n",
      "iWwY6K5Vjyo\n",
      "lkLxH2lSJnM\n",
      "RsBc0Yuodq0\n",
      "s6sdy20_QMM\n",
      "A5w-dEgIU1M\n",
      "Zrv1EDIqHkY\n",
      "XnhkiF4GXxM\n",
      "rGn1zHhXUWY\n",
      "nr4BAnV3E54\n",
      "068rdc75mHM\n",
      "leoBccWOZfo\n",
      "QB5xgOhLLVw\n",
      "d6iQrh2TK98\n",
      "nkh2KkJPy2g\n",
      "\n"
     ]
    }
   ],
   "source": [
    "recs = [r1, r2, r4]\n",
    "\n",
    "for r in recs:\n",
    "    for i in r[:20]:\n",
    "        print(i.split('&t=')[0])\n",
    "    print('')"
   ]
  },
  {
   "cell_type": "code",
   "execution_count": 37,
   "metadata": {},
   "outputs": [
    {
     "name": "stdout",
     "output_type": "stream",
     "text": [
      "orMtwOz6Db0\n",
      "DxL2HoqLbyA\n",
      "kD5yc1LQrpQ\n",
      "JXZpac6TREw\n",
      "lFlu60qs7_4\n",
      "6Mp84uZjPD0\n",
      "RsBc0Yuodq0\n",
      "O8hhwSn1iaU\n",
      "s6sdy20_QMM\n",
      "7xcBDg2JYkg\n",
      "d6iQrh2TK98\n",
      "nkh2KkJPy2g\n",
      "-wg9YMOsyBE\n",
      "XnhkiF4GXxM\n",
      "QaKwqsSIbIo\n",
      "leoBccWOZfo\n",
      "z5_BDLnE818\n",
      "b1lcAX354cg\n",
      "8ePu81ssU4M\n",
      "5hVmeOCJjOU\n",
      "\n"
     ]
    }
   ],
   "source": [
    "for i in r1:\n",
    "    print(i.split('&t=')[0])\n",
    "print('')"
   ]
  },
  {
   "cell_type": "code",
   "execution_count": 12,
   "metadata": {},
   "outputs": [],
   "source": [
    "import pyautogui as gui\n",
    "sleep(4)\n",
    "gui.moveTo(1140, 726)"
   ]
  },
  {
   "cell_type": "code",
   "execution_count": 19,
   "metadata": {},
   "outputs": [
    {
     "ename": "SyntaxError",
     "evalue": "'return' outside function (606186253.py, line 10)",
     "output_type": "error",
     "traceback": [
      "\u001b[1;36m  Cell \u001b[1;32mIn[19], line 10\u001b[1;36m\u001b[0m\n\u001b[1;33m    return\u001b[0m\n\u001b[1;37m    ^\u001b[0m\n\u001b[1;31mSyntaxError\u001b[0m\u001b[1;31m:\u001b[0m 'return' outside function\n"
     ]
    }
   ],
   "source": [
    "sleep(4)\n",
    "monkey.GotIt()\n",
    "sleep(2)\n",
    "monkey.GotIt()\n",
    "sleep(1)\n",
    "monkey.remindMeLater()\n",
    "sleep(3)\n",
    "gui.hotkey('win', 'up')\n",
    "sleep(5)\n",
    "return "
   ]
  },
  {
   "cell_type": "code",
   "execution_count": 21,
   "metadata": {},
   "outputs": [],
   "source": [
    "driver.quit()"
   ]
  },
  {
   "cell_type": "code",
   "execution_count": null,
   "metadata": {},
   "outputs": [],
   "source": []
  }
 ],
 "metadata": {
  "kernelspec": {
   "display_name": "Python 3",
   "language": "python",
   "name": "python3"
  },
  "language_info": {
   "codemirror_mode": {
    "name": "ipython",
    "version": 3
   },
   "file_extension": ".py",
   "mimetype": "text/x-python",
   "name": "python",
   "nbconvert_exporter": "python",
   "pygments_lexer": "ipython3",
   "version": "3.10.4"
  }
 },
 "nbformat": 4,
 "nbformat_minor": 2
}
