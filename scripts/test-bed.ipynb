{
 "cells": [
  {
   "cell_type": "code",
   "execution_count": 1,
   "metadata": {},
   "outputs": [],
   "source": [
    "import sys\n",
    "import os\n",
    "sys.path.append(os.path.join('Users', 'hussam', 'Desktop', 'Projects', 'Platform behavior' ))\n",
    "sys.path.append('../')\n",
    "\n",
    "import os\n",
    "import pyautogui as gui\n",
    "from selenium import webdriver\n",
    "from selenium.webdriver.chrome.service import Service\n",
    "from selenium.webdriver.chrome.options import Options\n",
    "from webdriver_manager.chrome import ChromeDriverManager\n",
    "import undetected_chromedriver as uc\n",
    "from seleniumwire import undetected_chromedriver as seleniumwire_uc\n",
    "from time import sleep\n",
    "import pickle as pkl\n",
    "\n",
    "\n",
    "# session = 'xp1nba1'\n",
    "# path = os.path.join(constants.SESSIONS_PATH, session)\n",
    "# options = uc.ChromeOptions()\n",
    "# options.add_argument(\"--disable-notifications\")\n",
    "# options.add_argument('--no-sandbox')\n",
    "# options.add_argument(\"--disable-infobars\")\n",
    "\n",
    "# ip = IPManager.get_ip(session)\n",
    "\n",
    "# sw_options = {\n",
    "#     'proxy': {\n",
    "#         'https': f'https://{ip}'\n",
    "#     }\n",
    "# }"
   ]
  },
  {
   "cell_type": "code",
   "execution_count": 10,
   "metadata": {},
   "outputs": [
    {
     "name": "stdout",
     "output_type": "stream",
     "text": [
      "Server response: \n"
     ]
    }
   ],
   "source": [
    "zookeeper.releaseId(2)"
   ]
  },
  {
   "cell_type": "code",
   "execution_count": 2,
   "metadata": {},
   "outputs": [
    {
     "name": "stdout",
     "output_type": "stream",
     "text": [
      "Server response: \n"
     ]
    }
   ],
   "source": [
    "zookeeper.releaseId(2)"
   ]
  },
  {
   "cell_type": "code",
   "execution_count": null,
   "metadata": {},
   "outputs": [],
   "source": [
    "import sys\n",
    "sys.path.append('../')"
   ]
  },
  {
   "cell_type": "code",
   "execution_count": 1,
   "metadata": {},
   "outputs": [
    {
     "name": "stdout",
     "output_type": "stream",
     "text": [
      "LAB 317...\n",
      "BASE_DIR: /Users/hussam/Desktop/Projects/algopologist\n"
     ]
    }
   ],
   "source": [
    "import sys\n",
    "sys.path.append('../')\n",
    "from core.utils import zookeeper"
   ]
  },
  {
   "cell_type": "code",
   "execution_count": 3,
   "metadata": {},
   "outputs": [],
   "source": [
    "zookeeper.getStatus()"
   ]
  },
  {
   "cell_type": "code",
   "execution_count": 2,
   "metadata": {},
   "outputs": [],
   "source": [
    "from selenium.webdriver.common.by import By"
   ]
  },
  {
   "cell_type": "code",
   "execution_count": 3,
   "metadata": {},
   "outputs": [
    {
     "name": "stdout",
     "output_type": "stream",
     "text": [
      "LAB 317...\n",
      "BASE_DIR: /Users/hussam/Desktop/Projects/algopologist\n"
     ]
    },
    {
     "data": {
      "text/plain": [
       "<core.browser.Selenium.BrowserFactory at 0x1199f5900>"
      ]
     },
     "execution_count": 3,
     "metadata": {},
     "output_type": "execute_result"
    }
   ],
   "source": [
    "from core.browser.Selenium import BrowserFactory\n",
    "BrowserFactory('uc_single')"
   ]
  },
  {
   "cell_type": "code",
   "execution_count": 3,
   "metadata": {},
   "outputs": [],
   "source": [
    "from core.users.User import User\n",
    "from core.platforms.Twitter import Twitter\n",
    "from core.platforms.Reddit import Reddit\n",
    "from core.platforms.TikTok import TikTok\n",
    "platform = Reddit\n",
    "userid = 'inner1'\n",
    "experiment_id = 'local'\n",
    "\n",
    "user = User(platform, userid, experiment_id)"
   ]
  },
  {
   "cell_type": "code",
   "execution_count": 4,
   "metadata": {},
   "outputs": [],
   "source": [
    "p = user.Platform('ahmed')"
   ]
  },
  {
   "cell_type": "code",
   "execution_count": 5,
   "metadata": {},
   "outputs": [
    {
     "name": "stdout",
     "output_type": "stream",
     "text": [
      "\u001b[33m__new__:\u001b[37m\t Making new browser.....\n"
     ]
    },
    {
     "data": {
      "text/plain": [
       "<undetected_chromedriver.Chrome (session=\"20093ea0292916c61d9eb751d1c7dfb4\")>"
      ]
     },
     "execution_count": 5,
     "metadata": {},
     "output_type": "execute_result"
    }
   ],
   "source": [
    "p.loadBrowser()"
   ]
  },
  {
   "cell_type": "code",
   "execution_count": 6,
   "metadata": {},
   "outputs": [],
   "source": [
    "p.loadWebsite()"
   ]
  },
  {
   "cell_type": "code",
   "execution_count": 7,
   "metadata": {},
   "outputs": [],
   "source": [
    "driver = p.driver"
   ]
  },
  {
   "cell_type": "code",
   "execution_count": 8,
   "metadata": {},
   "outputs": [],
   "source": [
    "from selenium.webdriver.common.by import By"
   ]
  },
  {
   "cell_type": "code",
   "execution_count": 10,
   "metadata": {},
   "outputs": [],
   "source": [
    "# noun=\"tab_communities\"\n",
    "communities = p.driver.find_element(By.XPATH, '//faceplate-tracker[@noun=\"tab_communities\"]')"
   ]
  },
  {
   "cell_type": "code",
   "execution_count": null,
   "metadata": {},
   "outputs": [],
   "source": [
    "p.joinCommunity()"
   ]
  },
  {
   "cell_type": "code",
   "execution_count": 12,
   "metadata": {},
   "outputs": [],
   "source": [
    "communities.click()"
   ]
  },
  {
   "cell_type": "code",
   "execution_count": 14,
   "metadata": {},
   "outputs": [],
   "source": [
    "feed = p.driver.find_element(By.XPATH, '//reddit-feed[@label=\"search-results-page-tab-communities\"]')"
   ]
  },
  {
   "cell_type": "code",
   "execution_count": 16,
   "metadata": {},
   "outputs": [],
   "source": [
    "subreddits = feed.find_elements(By.XPATH, './/faceplate-tracker[@noun=\"subreddit\"]')"
   ]
  },
  {
   "cell_type": "code",
   "execution_count": 13,
   "metadata": {},
   "outputs": [
    {
     "ename": "NoSuchElementException",
     "evalue": "Message: no such element: Unable to locate element: {\"method\":\"xpath\",\"selector\":\"//div[@data-testid='communities-list']\"}\n  (Session info: chrome=124.0.6367.119); For documentation on this error, please visit: https://www.selenium.dev/documentation/webdriver/troubleshooting/errors#no-such-element-exception\nStacktrace:\n0   undetected_chromedriver             0x0000000102ebfa28 undetected_chromedriver + 5216808\n1   undetected_chromedriver             0x0000000102eb7663 undetected_chromedriver + 5183075\n2   undetected_chromedriver             0x0000000102a29527 undetected_chromedriver + 406823\n3   undetected_chromedriver             0x0000000102a74ff2 undetected_chromedriver + 716786\n4   undetected_chromedriver             0x0000000102a75181 undetected_chromedriver + 717185\n5   undetected_chromedriver             0x0000000102ab91d4 undetected_chromedriver + 995796\n6   undetected_chromedriver             0x0000000102a9772d undetected_chromedriver + 857901\n7   undetected_chromedriver             0x0000000102ab66bf undetected_chromedriver + 984767\n8   undetected_chromedriver             0x0000000102a974a3 undetected_chromedriver + 857251\n9   undetected_chromedriver             0x0000000102a67fe3 undetected_chromedriver + 663523\n10  undetected_chromedriver             0x0000000102a6892e undetected_chromedriver + 665902\n11  undetected_chromedriver             0x0000000102e7d940 undetected_chromedriver + 4946240\n12  undetected_chromedriver             0x0000000102e839f4 undetected_chromedriver + 4970996\n13  undetected_chromedriver             0x0000000102e5e43e undetected_chromedriver + 4817982\n14  undetected_chromedriver             0x0000000102e84509 undetected_chromedriver + 4973833\n15  undetected_chromedriver             0x0000000102e4e6c4 undetected_chromedriver + 4753092\n16  undetected_chromedriver             0x0000000102ea6bb8 undetected_chromedriver + 5114808\n17  undetected_chromedriver             0x0000000102ea6d77 undetected_chromedriver + 5115255\n18  undetected_chromedriver             0x0000000102eb7283 undetected_chromedriver + 5182083\n19  libsystem_pthread.dylib             0x00007ff81567b202 _pthread_start + 99\n20  libsystem_pthread.dylib             0x00007ff815676bab thread_start + 15\n",
     "output_type": "error",
     "traceback": [
      "\u001b[0;31m---------------------------------------------------------------------------\u001b[0m",
      "\u001b[0;31mNoSuchElementException\u001b[0m                    Traceback (most recent call last)",
      "Cell \u001b[0;32mIn[13], line 1\u001b[0m\n\u001b[0;32m----> 1\u001b[0m \u001b[43mp\u001b[49m\u001b[38;5;241;43m.\u001b[39;49m\u001b[43m_getCommunityResults\u001b[49m\u001b[43m(\u001b[49m\u001b[43m)\u001b[49m\n",
      "File \u001b[0;32m~/Desktop/Projects/algopologist/scripts/../core/platforms/Reddit.py:233\u001b[0m, in \u001b[0;36mReddit._getCommunityResults\u001b[0;34m(self)\u001b[0m\n\u001b[1;32m    232\u001b[0m \u001b[38;5;28;01mdef\u001b[39;00m \u001b[38;5;21m_getCommunityResults\u001b[39m(\u001b[38;5;28mself\u001b[39m):\n\u001b[0;32m--> 233\u001b[0m     results \u001b[38;5;241m=\u001b[39m \u001b[38;5;28;43mself\u001b[39;49m\u001b[38;5;241;43m.\u001b[39;49m\u001b[43mdriver\u001b[49m\u001b[38;5;241;43m.\u001b[39;49m\u001b[43mfind_element\u001b[49m\u001b[43m(\u001b[49m\u001b[43mBy\u001b[49m\u001b[38;5;241;43m.\u001b[39;49m\u001b[43mXPATH\u001b[49m\u001b[43m,\u001b[49m\u001b[43m \u001b[49m\u001b[38;5;124;43m\"\u001b[39;49m\u001b[38;5;124;43m//div[@data-testid=\u001b[39;49m\u001b[38;5;124;43m'\u001b[39;49m\u001b[38;5;124;43mcommunities-list\u001b[39;49m\u001b[38;5;124;43m'\u001b[39;49m\u001b[38;5;124;43m]\u001b[39;49m\u001b[38;5;124;43m\"\u001b[39;49m\u001b[43m)\u001b[49m\n\u001b[1;32m    234\u001b[0m     results \u001b[38;5;241m=\u001b[39m results\u001b[38;5;241m.\u001b[39mtext\n\u001b[1;32m    235\u001b[0m     lines \u001b[38;5;241m=\u001b[39m results\u001b[38;5;241m.\u001b[39msplit(\u001b[38;5;124m'\u001b[39m\u001b[38;5;130;01m\\n\u001b[39;00m\u001b[38;5;124m'\u001b[39m)\n",
      "File \u001b[0;32m/Library/Frameworks/Python.framework/Versions/3.10/lib/python3.10/site-packages/selenium/webdriver/remote/webdriver.py:741\u001b[0m, in \u001b[0;36mWebDriver.find_element\u001b[0;34m(self, by, value)\u001b[0m\n\u001b[1;32m    738\u001b[0m     by \u001b[38;5;241m=\u001b[39m By\u001b[38;5;241m.\u001b[39mCSS_SELECTOR\n\u001b[1;32m    739\u001b[0m     value \u001b[38;5;241m=\u001b[39m \u001b[38;5;124mf\u001b[39m\u001b[38;5;124m'\u001b[39m\u001b[38;5;124m[name=\u001b[39m\u001b[38;5;124m\"\u001b[39m\u001b[38;5;132;01m{\u001b[39;00mvalue\u001b[38;5;132;01m}\u001b[39;00m\u001b[38;5;124m\"\u001b[39m\u001b[38;5;124m]\u001b[39m\u001b[38;5;124m'\u001b[39m\n\u001b[0;32m--> 741\u001b[0m \u001b[38;5;28;01mreturn\u001b[39;00m \u001b[38;5;28;43mself\u001b[39;49m\u001b[38;5;241;43m.\u001b[39;49m\u001b[43mexecute\u001b[49m\u001b[43m(\u001b[49m\u001b[43mCommand\u001b[49m\u001b[38;5;241;43m.\u001b[39;49m\u001b[43mFIND_ELEMENT\u001b[49m\u001b[43m,\u001b[49m\u001b[43m \u001b[49m\u001b[43m{\u001b[49m\u001b[38;5;124;43m\"\u001b[39;49m\u001b[38;5;124;43musing\u001b[39;49m\u001b[38;5;124;43m\"\u001b[39;49m\u001b[43m:\u001b[49m\u001b[43m \u001b[49m\u001b[43mby\u001b[49m\u001b[43m,\u001b[49m\u001b[43m \u001b[49m\u001b[38;5;124;43m\"\u001b[39;49m\u001b[38;5;124;43mvalue\u001b[39;49m\u001b[38;5;124;43m\"\u001b[39;49m\u001b[43m:\u001b[49m\u001b[43m \u001b[49m\u001b[43mvalue\u001b[49m\u001b[43m}\u001b[49m\u001b[43m)\u001b[49m[\u001b[38;5;124m\"\u001b[39m\u001b[38;5;124mvalue\u001b[39m\u001b[38;5;124m\"\u001b[39m]\n",
      "File \u001b[0;32m/Library/Frameworks/Python.framework/Versions/3.10/lib/python3.10/site-packages/selenium/webdriver/remote/webdriver.py:347\u001b[0m, in \u001b[0;36mWebDriver.execute\u001b[0;34m(self, driver_command, params)\u001b[0m\n\u001b[1;32m    345\u001b[0m response \u001b[38;5;241m=\u001b[39m \u001b[38;5;28mself\u001b[39m\u001b[38;5;241m.\u001b[39mcommand_executor\u001b[38;5;241m.\u001b[39mexecute(driver_command, params)\n\u001b[1;32m    346\u001b[0m \u001b[38;5;28;01mif\u001b[39;00m response:\n\u001b[0;32m--> 347\u001b[0m     \u001b[38;5;28;43mself\u001b[39;49m\u001b[38;5;241;43m.\u001b[39;49m\u001b[43merror_handler\u001b[49m\u001b[38;5;241;43m.\u001b[39;49m\u001b[43mcheck_response\u001b[49m\u001b[43m(\u001b[49m\u001b[43mresponse\u001b[49m\u001b[43m)\u001b[49m\n\u001b[1;32m    348\u001b[0m     response[\u001b[38;5;124m\"\u001b[39m\u001b[38;5;124mvalue\u001b[39m\u001b[38;5;124m\"\u001b[39m] \u001b[38;5;241m=\u001b[39m \u001b[38;5;28mself\u001b[39m\u001b[38;5;241m.\u001b[39m_unwrap_value(response\u001b[38;5;241m.\u001b[39mget(\u001b[38;5;124m\"\u001b[39m\u001b[38;5;124mvalue\u001b[39m\u001b[38;5;124m\"\u001b[39m, \u001b[38;5;28;01mNone\u001b[39;00m))\n\u001b[1;32m    349\u001b[0m     \u001b[38;5;28;01mreturn\u001b[39;00m response\n",
      "File \u001b[0;32m/Library/Frameworks/Python.framework/Versions/3.10/lib/python3.10/site-packages/selenium/webdriver/remote/errorhandler.py:229\u001b[0m, in \u001b[0;36mErrorHandler.check_response\u001b[0;34m(self, response)\u001b[0m\n\u001b[1;32m    227\u001b[0m         alert_text \u001b[38;5;241m=\u001b[39m value[\u001b[38;5;124m\"\u001b[39m\u001b[38;5;124malert\u001b[39m\u001b[38;5;124m\"\u001b[39m]\u001b[38;5;241m.\u001b[39mget(\u001b[38;5;124m\"\u001b[39m\u001b[38;5;124mtext\u001b[39m\u001b[38;5;124m\"\u001b[39m)\n\u001b[1;32m    228\u001b[0m     \u001b[38;5;28;01mraise\u001b[39;00m exception_class(message, screen, stacktrace, alert_text)  \u001b[38;5;66;03m# type: ignore[call-arg]  # mypy is not smart enough here\u001b[39;00m\n\u001b[0;32m--> 229\u001b[0m \u001b[38;5;28;01mraise\u001b[39;00m exception_class(message, screen, stacktrace)\n",
      "\u001b[0;31mNoSuchElementException\u001b[0m: Message: no such element: Unable to locate element: {\"method\":\"xpath\",\"selector\":\"//div[@data-testid='communities-list']\"}\n  (Session info: chrome=124.0.6367.119); For documentation on this error, please visit: https://www.selenium.dev/documentation/webdriver/troubleshooting/errors#no-such-element-exception\nStacktrace:\n0   undetected_chromedriver             0x0000000102ebfa28 undetected_chromedriver + 5216808\n1   undetected_chromedriver             0x0000000102eb7663 undetected_chromedriver + 5183075\n2   undetected_chromedriver             0x0000000102a29527 undetected_chromedriver + 406823\n3   undetected_chromedriver             0x0000000102a74ff2 undetected_chromedriver + 716786\n4   undetected_chromedriver             0x0000000102a75181 undetected_chromedriver + 717185\n5   undetected_chromedriver             0x0000000102ab91d4 undetected_chromedriver + 995796\n6   undetected_chromedriver             0x0000000102a9772d undetected_chromedriver + 857901\n7   undetected_chromedriver             0x0000000102ab66bf undetected_chromedriver + 984767\n8   undetected_chromedriver             0x0000000102a974a3 undetected_chromedriver + 857251\n9   undetected_chromedriver             0x0000000102a67fe3 undetected_chromedriver + 663523\n10  undetected_chromedriver             0x0000000102a6892e undetected_chromedriver + 665902\n11  undetected_chromedriver             0x0000000102e7d940 undetected_chromedriver + 4946240\n12  undetected_chromedriver             0x0000000102e839f4 undetected_chromedriver + 4970996\n13  undetected_chromedriver             0x0000000102e5e43e undetected_chromedriver + 4817982\n14  undetected_chromedriver             0x0000000102e84509 undetected_chromedriver + 4973833\n15  undetected_chromedriver             0x0000000102e4e6c4 undetected_chromedriver + 4753092\n16  undetected_chromedriver             0x0000000102ea6bb8 undetected_chromedriver + 5114808\n17  undetected_chromedriver             0x0000000102ea6d77 undetected_chromedriver + 5115255\n18  undetected_chromedriver             0x0000000102eb7283 undetected_chromedriver + 5182083\n19  libsystem_pthread.dylib             0x00007ff81567b202 _pthread_start + 99\n20  libsystem_pthread.dylib             0x00007ff815676bab thread_start + 15\n"
     ]
    }
   ],
   "source": [
    "p._getCommunityResults()"
   ]
  },
  {
   "cell_type": "code",
   "execution_count": 29,
   "metadata": {},
   "outputs": [
    {
     "name": "stdout",
     "output_type": "stream",
     "text": [
      "Not Following\n"
     ]
    }
   ],
   "source": [
    "if len(following) > 0:\n",
    "    print(\"Following\")\n",
    "else:\n",
    "    print(\"Not Following\")"
   ]
  },
  {
   "cell_type": "code",
   "execution_count": 30,
   "metadata": {},
   "outputs": [
    {
     "name": "stdout",
     "output_type": "stream",
     "text": [
      "Looking for follow button...\n"
     ]
    }
   ],
   "source": [
    "print(f'Looking for follow button...')\n",
    "follow_button = user.find_elements(By.XPATH, './/span[text()=\"Follow\"]')"
   ]
  },
  {
   "cell_type": "code",
   "execution_count": 31,
   "metadata": {},
   "outputs": [],
   "source": [
    "follow_button[0].click()"
   ]
  },
  {
   "cell_type": "code",
   "execution_count": 32,
   "metadata": {},
   "outputs": [
    {
     "data": {
      "text/plain": [
       "{'id': 'NFLonFOX',\n",
       " 'url': 'https://twitter.com/NFLonFOX',\n",
       " 'followers': 44000000,\n",
       " 'name': 'FOX Sports: NFL',\n",
       " 'description': \"Home of FOX NFL Kickoff, FOX NFL Sunday and America's Game of the Week \"}"
      ]
     },
     "execution_count": 32,
     "metadata": {},
     "output_type": "execute_result"
    }
   ],
   "source": [
    "p.getUserInfo(username)"
   ]
  },
  {
   "cell_type": "code",
   "execution_count": null,
   "metadata": {},
   "outputs": [],
   "source": [
    "debug(f'Cliked follow button!')\n",
    "user = self.getUserInfo(username)\n",
    "user['position'] = position\n",
    "user['type'] = 'user'\n",
    "user = self.convertToSource(user, 'search')\n",
    "return user"
   ]
  },
  {
   "cell_type": "code",
   "execution_count": null,
   "metadata": {},
   "outputs": [],
   "source": []
  },
  {
   "cell_type": "code",
   "execution_count": null,
   "metadata": {},
   "outputs": [],
   "source": []
  },
  {
   "cell_type": "code",
   "execution_count": null,
   "metadata": {},
   "outputs": [],
   "source": []
  },
  {
   "cell_type": "code",
   "execution_count": null,
   "metadata": {},
   "outputs": [],
   "source": []
  },
  {
   "cell_type": "code",
   "execution_count": 3,
   "metadata": {},
   "outputs": [
    {
     "name": "stdout",
     "output_type": "stream",
     "text": [
      "LAB 317...\n",
      "BASE_DIR: /Users/hussam/Desktop/Projects/algopologist\n"
     ]
    },
    {
     "name": "stderr",
     "output_type": "stream",
     "text": [
      "Version 7.6.0 of praw is outdated. Version 7.7.1 was released Tuesday July 11, 2023.\n"
     ]
    },
    {
     "data": {
      "text/plain": [
       "30766932"
      ]
     },
     "execution_count": 3,
     "metadata": {},
     "output_type": "execute_result"
    }
   ],
   "source": [
    "import sys\n",
    "sys.path.append('../')\n",
    "from core.platforms.Reddit import RedditPRAW\n",
    "\n",
    "api = RedditPRAW()\n",
    "subreddit = api.getSubreddit('pics')\n",
    "subreddit['members']"
   ]
  },
  {
   "cell_type": "code",
   "execution_count": 6,
   "metadata": {},
   "outputs": [
    {
     "data": {
      "text/plain": [
       "'98:61:85:17:5f:7e'"
      ]
     },
     "execution_count": 6,
     "metadata": {},
     "output_type": "execute_result"
    }
   ],
   "source": []
  },
  {
   "cell_type": "code",
   "execution_count": 14,
   "metadata": {},
   "outputs": [
    {
     "data": {
      "text/plain": [
       "{'id': '1cb3l5q',\n",
       " 'platform': 'reddit',\n",
       " 'origin': 'home',\n",
       " 'position': 24,\n",
       " 'type': 'post',\n",
       " 'source': 'nimfrank',\n",
       " 'secondary_source': 'technology',\n",
       " 'likes': 2090,\n",
       " 'comments': 570,\n",
       " 'shares': None,\n",
       " 'views': None,\n",
       " 'created_at': 1713876001.0,\n",
       " 'title': 'Google search boss warns employees of new operating reality, urges them to move faster',\n",
       " 'description': '',\n",
       " 'media': None,\n",
       " 'url': 'https://www.cnbc.com/2024/04/23/google-search-boss-raghavan-warns-employees-of-new-operating-reality.html',\n",
       " 'reason': 'r/technology',\n",
       " 'is_ad': None}"
      ]
     },
     "execution_count": 14,
     "metadata": {},
     "output_type": "execute_result"
    }
   ],
   "source": [
    "post[-1]"
   ]
  },
  {
   "cell_type": "code",
   "execution_count": 15,
   "metadata": {},
   "outputs": [
    {
     "name": "stdout",
     "output_type": "stream",
     "text": [
      "\u001b[33mlikePost:\u001b[37m\t liked post t3_102wsvt\n"
     ]
    }
   ],
   "source": [
    "p.searchTerm('reddevils')\n",
    "post, opened = p.likePost()"
   ]
  },
  {
   "cell_type": "code",
   "execution_count": 16,
   "metadata": {},
   "outputs": [
    {
     "name": "stdout",
     "output_type": "stream",
     "text": [
      "\u001b[33m_joinNthSubreddit:\u001b[37m\t reddevils\n"
     ]
    },
    {
     "ename": "ValueError",
     "evalue": "too many values to unpack (expected 2)",
     "output_type": "error",
     "traceback": [
      "\u001b[0;31m---------------------------------------------------------------------------\u001b[0m",
      "\u001b[0;31mValueError\u001b[0m                                Traceback (most recent call last)",
      "Cell \u001b[0;32mIn[16], line 2\u001b[0m\n\u001b[1;32m      1\u001b[0m p\u001b[38;5;241m.\u001b[39msearchTerm(\u001b[38;5;124m'\u001b[39m\u001b[38;5;124mreddevils\u001b[39m\u001b[38;5;124m'\u001b[39m)\n\u001b[0;32m----> 2\u001b[0m post, opened \u001b[38;5;241m=\u001b[39m p\u001b[38;5;241m.\u001b[39mjoinCommunity()\n",
      "\u001b[0;31mValueError\u001b[0m: too many values to unpack (expected 2)"
     ]
    }
   ],
   "source": [
    "p.searchTerm('reddevils')\n",
    "post, opened = p.joinCommunity()"
   ]
  },
  {
   "cell_type": "code",
   "execution_count": 17,
   "metadata": {},
   "outputs": [
    {
     "name": "stdout",
     "output_type": "stream",
     "text": [
      "\u001b[33mgetPagePosts:\u001b[37m\t Getting homepage post\n",
      "\u001b[32mgetPagePosts:\u001b[31m\t Message: no such element: Unable to locate element: {\"method\":\"xpath\",\"selector\":\".//a[@data-click-id=\"body\"]\"}\n",
      "  (Session info: chrome=124.0.6367.62); For documentation on this error, please visit: https://www.selenium.dev/documentation/webdriver/troubleshooting/errors#no-such-element-exception\n",
      "Stacktrace:\n",
      "0   undetected_chromedriver             0x0000000104ddf9c8 undetected_chromedriver + 5216712\n",
      "1   undetected_chromedriver             0x0000000104dd7603 undetected_chromedriver + 5182979\n",
      "2   undetected_chromedriver             0x0000000104949527 undetected_chromedriver + 406823\n",
      "3   undetected_chromedriver             0x0000000104994ff2 undetected_chromedriver + 716786\n",
      "4   undetected_chromedriver             0x0000000104995181 undetected_chromedriver + 717185\n",
      "5   undetected_chromedriver             0x0000000104989aa6 undetected_chromedriver + 670374\n",
      "6   undetected_chromedriver             0x00000001049b772d undetected_chromedriver + 857901\n",
      "7   undetected_chromedriver             0x0000000104989998 undetected_chromedriver + 670104\n",
      "8   undetected_chromedriver             0x00000001049b78be undetected_chromedriver + 858302\n",
      "9   undetected_chromedriver             0x00000001049d66bf undetected_chromedriver + 984767\n",
      "10  undetected_chromedriver             0x00000001049b74a3 undetected_chromedriver + 857251\n",
      "11  undetected_chromedriver             0x0000000104987fe3 undetected_chromedriver + 663523\n",
      "12  undetected_chromedriver             0x000000010498892e undetected_chromedriver + 665902\n",
      "13  undetected_chromedriver             0x0000000104d9d8e0 undetected_chromedriver + 4946144\n",
      "14  undetected_chromedriver             0x0000000104da3994 undetected_chromedriver + 4970900\n",
      "15  undetected_chromedriver             0x0000000104d7e3de undetected_chromedriver + 4817886\n",
      "16  undetected_chromedriver             0x0000000104da44a9 undetected_chromedriver + 4973737\n",
      "17  undetected_chromedriver             0x0000000104d6e664 undetected_chromedriver + 4752996\n",
      "18  undetected_chromedriver             0x0000000104dc6b58 undetected_chromedriver + 5114712\n",
      "19  undetected_chromedriver             0x0000000104dc6d17 undetected_chromedriver + 5115159\n",
      "20  undetected_chromedriver             0x0000000104dd7223 undetected_chromedriver + 5181987\n",
      "21  libsystem_pthread.dylib             0x00007ff81567b202 _pthread_start + 99\n",
      "22  libsystem_pthread.dylib             0x00007ff815676bab thread_start + 15\n",
      "\n",
      "\u001b[32mgetPagePosts:\u001b[31m\t Message: no such element: Unable to locate element: {\"method\":\"xpath\",\"selector\":\".//a[@data-click-id=\"body\"]\"}\n",
      "  (Session info: chrome=124.0.6367.62); For documentation on this error, please visit: https://www.selenium.dev/documentation/webdriver/troubleshooting/errors#no-such-element-exception\n",
      "Stacktrace:\n",
      "0   undetected_chromedriver             0x0000000104ddf9c8 undetected_chromedriver + 5216712\n",
      "1   undetected_chromedriver             0x0000000104dd7603 undetected_chromedriver + 5182979\n",
      "2   undetected_chromedriver             0x0000000104949527 undetected_chromedriver + 406823\n",
      "3   undetected_chromedriver             0x0000000104994ff2 undetected_chromedriver + 716786\n",
      "4   undetected_chromedriver             0x0000000104995181 undetected_chromedriver + 717185\n",
      "5   undetected_chromedriver             0x0000000104989aa6 undetected_chromedriver + 670374\n",
      "6   undetected_chromedriver             0x00000001049b772d undetected_chromedriver + 857901\n",
      "7   undetected_chromedriver             0x0000000104989998 undetected_chromedriver + 670104\n",
      "8   undetected_chromedriver             0x00000001049b78be undetected_chromedriver + 858302\n",
      "9   undetected_chromedriver             0x00000001049d66bf undetected_chromedriver + 984767\n",
      "10  undetected_chromedriver             0x00000001049b74a3 undetected_chromedriver + 857251\n",
      "11  undetected_chromedriver             0x0000000104987fe3 undetected_chromedriver + 663523\n",
      "12  undetected_chromedriver             0x000000010498892e undetected_chromedriver + 665902\n",
      "13  undetected_chromedriver             0x0000000104d9d8e0 undetected_chromedriver + 4946144\n",
      "14  undetected_chromedriver             0x0000000104da3994 undetected_chromedriver + 4970900\n",
      "15  undetected_chromedriver             0x0000000104d7e3de undetected_chromedriver + 4817886\n",
      "16  undetected_chromedriver             0x0000000104da44a9 undetected_chromedriver + 4973737\n",
      "17  undetected_chromedriver             0x0000000104d6e664 undetected_chromedriver + 4752996\n",
      "18  undetected_chromedriver             0x0000000104dc6b58 undetected_chromedriver + 5114712\n",
      "19  undetected_chromedriver             0x0000000104dc6d17 undetected_chromedriver + 5115159\n",
      "20  undetected_chromedriver             0x0000000104dd7223 undetected_chromedriver + 5181987\n",
      "21  libsystem_pthread.dylib             0x00007ff81567b202 _pthread_start + 99\n",
      "22  libsystem_pthread.dylib             0x00007ff815676bab thread_start + 15\n",
      "\n",
      "\u001b[32mgetPagePosts:\u001b[31m\t Message: no such element: Unable to locate element: {\"method\":\"xpath\",\"selector\":\".//a[@data-click-id=\"body\"]\"}\n",
      "  (Session info: chrome=124.0.6367.62); For documentation on this error, please visit: https://www.selenium.dev/documentation/webdriver/troubleshooting/errors#no-such-element-exception\n",
      "Stacktrace:\n",
      "0   undetected_chromedriver             0x0000000104ddf9c8 undetected_chromedriver + 5216712\n",
      "1   undetected_chromedriver             0x0000000104dd7603 undetected_chromedriver + 5182979\n",
      "2   undetected_chromedriver             0x0000000104949527 undetected_chromedriver + 406823\n",
      "3   undetected_chromedriver             0x0000000104994ff2 undetected_chromedriver + 716786\n",
      "4   undetected_chromedriver             0x0000000104995181 undetected_chromedriver + 717185\n",
      "5   undetected_chromedriver             0x0000000104989aa6 undetected_chromedriver + 670374\n",
      "6   undetected_chromedriver             0x00000001049b772d undetected_chromedriver + 857901\n",
      "7   undetected_chromedriver             0x0000000104989998 undetected_chromedriver + 670104\n",
      "8   undetected_chromedriver             0x00000001049b78be undetected_chromedriver + 858302\n",
      "9   undetected_chromedriver             0x00000001049d66bf undetected_chromedriver + 984767\n",
      "10  undetected_chromedriver             0x00000001049b74a3 undetected_chromedriver + 857251\n",
      "11  undetected_chromedriver             0x0000000104987fe3 undetected_chromedriver + 663523\n",
      "12  undetected_chromedriver             0x000000010498892e undetected_chromedriver + 665902\n",
      "13  undetected_chromedriver             0x0000000104d9d8e0 undetected_chromedriver + 4946144\n",
      "14  undetected_chromedriver             0x0000000104da3994 undetected_chromedriver + 4970900\n",
      "15  undetected_chromedriver             0x0000000104d7e3de undetected_chromedriver + 4817886\n",
      "16  undetected_chromedriver             0x0000000104da44a9 undetected_chromedriver + 4973737\n",
      "17  undetected_chromedriver             0x0000000104d6e664 undetected_chromedriver + 4752996\n",
      "18  undetected_chromedriver             0x0000000104dc6b58 undetected_chromedriver + 5114712\n",
      "19  undetected_chromedriver             0x0000000104dc6d17 undetected_chromedriver + 5115159\n",
      "20  undetected_chromedriver             0x0000000104dd7223 undetected_chromedriver + 5181987\n",
      "21  libsystem_pthread.dylib             0x00007ff81567b202 _pthread_start + 99\n",
      "22  libsystem_pthread.dylib             0x00007ff815676bab thread_start + 15\n",
      "\n",
      "\u001b[33mgetPagePosts:\u001b[37m\t Getting post: 1cbwbum\n",
      "\u001b[33mgetPagePosts:\u001b[37m\t Getting post: 1c9n3to\n",
      "\u001b[33mgetPagePosts:\u001b[37m\t Getting post: 1cbjr2e\n",
      "\u001b[33mgetPagePosts:\u001b[37m\t Getting post: 1cbfcxj\n",
      "\u001b[33mgetPagePosts:\u001b[37m\t Getting post: 1cabh9e\n",
      "\u001b[33mgetPagePosts:\u001b[37m\t Getting post: 1cbzbmz\n",
      "\u001b[33mgetPagePosts:\u001b[37m\t Getting post: 1cbujm9\n",
      "\u001b[33mgetPagePosts:\u001b[37m\t Getting post: 1c9xthv\n",
      "\u001b[33mgetPagePosts:\u001b[37m\t Getting post: 1cbi126\n",
      "\u001b[33mgetPagePosts:\u001b[37m\t Getting post: 1cbagbm\n",
      "\u001b[33mgetPagePosts:\u001b[37m\t Getting post: 1cb62xe\n",
      "\u001b[33mgetPagePosts:\u001b[37m\t Getting post: 1cbe7kj\n",
      "\u001b[33mgetPagePosts:\u001b[37m\t Getting post: 1c9qnfy\n",
      "\u001b[33mgetPagePosts:\u001b[37m\t Getting post: 1c9p8jh\n",
      "\u001b[33mgetPagePosts:\u001b[37m\t Getting post: 1cac5lq\n",
      "\u001b[33mgetPagePosts:\u001b[37m\t Getting post: 1cby844\n",
      "\u001b[33mgetPagePosts:\u001b[37m\t Getting post: 1c8ky71\n",
      "\u001b[33mgetPagePosts:\u001b[37m\t Getting post: 1cb3q70\n",
      "\u001b[33mgetPagePosts:\u001b[37m\t Getting post: 1ca90iy\n",
      "\u001b[33mgetPagePosts:\u001b[37m\t Getting post: 1cbk1fs\n",
      "\u001b[33mgetPagePosts:\u001b[37m\t Getting post: 1cb3l5q\n",
      "\u001b[33mgetPagePosts:\u001b[37m\t Getting post: 1c8r6zx\n",
      "\u001b[33mgetPagePosts:\u001b[37m\t Getting post: 1cbf98c\n",
      "\u001b[33mgetPagePosts:\u001b[37m\t Getting post: 1camocm\n",
      "\u001b[33mgetPagePosts:\u001b[37m\t Getting post: 1cbk4b0\n"
     ]
    },
    {
     "data": {
      "text/plain": [
       "[{'id': '1cbwbum',\n",
       "  'platform': 'reddit',\n",
       "  'origin': 'home',\n",
       "  'position': 0,\n",
       "  'type': 'post',\n",
       "  'source': 'Uuhhk',\n",
       "  'secondary_source': 'reddevils',\n",
       "  'likes': 436,\n",
       "  'comments': 106,\n",
       "  'shares': None,\n",
       "  'views': None,\n",
       "  'created_at': 1713959991.0,\n",
       "  'title': 'Man Utd fullback Tyrrell Malacia back doing rehab from a long term injury',\n",
       "  'description': '',\n",
       "  'media': None,\n",
       "  'url': 'https://v.redd.it/g1sj8fhv0fwc1',\n",
       "  'reason': 'r/reddevils',\n",
       "  'is_ad': None},\n",
       " {'id': '1c9n3to',\n",
       "  'platform': 'reddit',\n",
       "  'origin': 'home',\n",
       "  'position': 1,\n",
       "  'type': 'post',\n",
       "  'source': 'Hot_Row8113',\n",
       "  'secondary_source': 'ObsidianMD',\n",
       "  'likes': 34,\n",
       "  'comments': 30,\n",
       "  'shares': None,\n",
       "  'views': None,\n",
       "  'created_at': '1713719552.0',\n",
       "  'title': 'Starting from scratch, Im lost',\n",
       "  'description': 'I started using obsdian a few months ago, I used it for expressing my ideas and thoughts (corny as fuck tho) in a way i dont enjoy now, i would only write daily notes when a bad day happened and cry all over it victimizing myself. Well lets say thats not me anymore, since november 2023. Im now happy, new friends, new life, new perspective, everything. I want to get back to obsidian to organize my ideas since im learning video editing, a couple of hobbies and I also want to track my habits (gym, correct teeth brushing, eating enough, volleyball progress) but I also want to write somewhat as I used to, not victimizing myself, but about the wonderful people ive met along the last few months, how im living great experiences nowadays, and a couple problems im experiencing with personality and body self steem. I started writting daily notes but I dont know what to write, like im struggling to get structured ideas and make them look pretty in obsidian, getting concepts, etc. Ive looked for the PARA method but when its time to fill the folders i just feel that i dont have projects, areas, or resources, i feel like im in a careless cloud of ideas passing by. Did i explain myself? I need help in this problem pls 😁\\n\\nbtw english is not my first language, im studying CAE level of english so im not an expert, some things may be wrong',\n",
       "  'media': None,\n",
       "  'url': 'https://www.reddit.com/r/ObsidianMD/comments/1c9n3to/starting_from_scratch_im_lost/',\n",
       "  'reason': 'r/ObsidianMD',\n",
       "  'is_ad': None},\n",
       " {'id': '1cbjr2e',\n",
       "  'platform': 'reddit',\n",
       "  'origin': 'home',\n",
       "  'position': 2,\n",
       "  'type': 'post',\n",
       "  'source': 'TopTunaMan',\n",
       "  'secondary_source': 'AmIOverreacting',\n",
       "  'likes': 5620,\n",
       "  'comments': 8293,\n",
       "  'shares': None,\n",
       "  'views': None,\n",
       "  'created_at': 1713915889.0,\n",
       "  'title': 'My wife announced she is asexual',\n",
       "  'description': 'My (39m) wife (28f) and I were very recently married. We dated for a little over 9 months before I proposed, and she accepted. We never had sex during that 9 months. I asked a few times, but she always said no. I figured she was waiting until marriage, and I was fine with that. \\n\\nNow the wedding and ensuing honeymoon come along. I assumed wed be doing what most newly weds do on their honeymoons, but again she said no. This time, however, she explained further and told me she is asexual. She finds the thought of having sex with me or anyone absolutely disgusting. I admittedly got a little heated, not just because we werent going to have sex that night, but because I think this is something she should have told me long before we got married. Thats pretty much what I told her and she said I have no right being upset over her sexual orientation.\\n\\nIve had some time to cool down and think things through. I still absolutely love her. She is an amazing person and weve always gotten along like best friends since the day I met her. I dont want a divorce and Im certainly not going to start cheating on her. But I do feel like she lied to me and its not unreasonable for me to be a little angry. Im not \"upset over her sexual orientation\" as she put it. I am upset that she kept something so major like that from me until now. Am I overreacting?',\n",
       "  'media': None,\n",
       "  'url': 'https://www.reddit.com/r/AmIOverreacting/comments/1cbjr2e/my_wife_announced_she_is_asexual/',\n",
       "  'reason': 'Popular on Reddit right now',\n",
       "  'is_ad': None},\n",
       " {'id': '1cbfcxj',\n",
       "  'platform': 'reddit',\n",
       "  'origin': 'home',\n",
       "  'position': 3,\n",
       "  'type': 'post',\n",
       "  'source': 'StrngBrew',\n",
       "  'secondary_source': 'technology',\n",
       "  'likes': 4133,\n",
       "  'comments': 528,\n",
       "  'shares': None,\n",
       "  'views': None,\n",
       "  'created_at': '1713904944.0',\n",
       "  'title': 'Tesla’s Profit Fell 55%, Adding to Concerns About Its Strategy',\n",
       "  'description': '',\n",
       "  'media': None,\n",
       "  'url': 'https://www.nytimes.com/2024/04/23/business/tesla-earnings-first-quarter-elon-musk.html?smid=nytcore-ios-share&referringSource=articleShare&sgrp=c-cb',\n",
       "  'reason': 'r/technology',\n",
       "  'is_ad': None},\n",
       " {'id': '1cabh9e',\n",
       "  'platform': 'reddit',\n",
       "  'origin': 'home',\n",
       "  'position': 4,\n",
       "  'type': 'post',\n",
       "  'source': 'Free_Hat_McCullough',\n",
       "  'secondary_source': 'entertainment',\n",
       "  'likes': 2834,\n",
       "  'comments': 183,\n",
       "  'shares': None,\n",
       "  'views': None,\n",
       "  'created_at': '1713794282.0',\n",
       "  'title': 'Kid Cudi Breaks Foot After Jumping Off Coachella Stage',\n",
       "  'description': '',\n",
       "  'media': None,\n",
       "  'url': 'https://www.tmz.com/2024/04/22/kid-cudi-breaks-leg-jumps-off-coachella-stage-set-cut-short/',\n",
       "  'reason': 'r/entertainment',\n",
       "  'is_ad': None},\n",
       " {'id': '1cbzbmz',\n",
       "  'platform': 'reddit',\n",
       "  'origin': 'home',\n",
       "  'position': 5,\n",
       "  'type': 'post',\n",
       "  'source': 'OutbackStankhouse',\n",
       "  'secondary_source': 'ObsidianMD',\n",
       "  'likes': 6,\n",
       "  'comments': 3,\n",
       "  'shares': None,\n",
       "  'views': None,\n",
       "  'created_at': 1713968173.0,\n",
       "  'title': 'Network of behavioral economics concept',\n",
       "  'description': 'To solve a common problem for myself and to honor the work of the recently passed Daniel Kahneman, I made a public database of behavioral economics principles, where each “bias” is linked to other related biases or interventions, thanks to Obsidian. Want to see examples of the “availability bias”? Find out how to reduce noise in group decisions? Take a peek. In desktop, you can see a visual graph of how they connect together.\\n\\n  \\n[https://publish.obsidian.md/behavioraleconomics/Meta/Macro](https://publish.obsidian.md/behavioraleconomics/Meta/Macro)',\n",
       "  'media': None,\n",
       "  'url': 'https://www.reddit.com/r/ObsidianMD/comments/1cbzbmz/network_of_behavioral_economics_concept/',\n",
       "  'reason': 'r/ObsidianMD',\n",
       "  'is_ad': None},\n",
       " {'id': '1cbujm9',\n",
       "  'platform': 'reddit',\n",
       "  'origin': 'home',\n",
       "  'position': 6,\n",
       "  'type': 'post',\n",
       "  'source': 'ardi62',\n",
       "  'secondary_source': 'technology',\n",
       "  'likes': 573,\n",
       "  'comments': 178,\n",
       "  'shares': None,\n",
       "  'views': None,\n",
       "  'created_at': '1713953635.0',\n",
       "  'title': 'Start menu ads are officially here with the latest Windows 11 optional update',\n",
       "  'description': '',\n",
       "  'media': None,\n",
       "  'url': 'https://www.xda-developers.com/windows-11-start-menu-ads-april-preview-update/',\n",
       "  'reason': 'r/technology',\n",
       "  'is_ad': None},\n",
       " {'id': '1c9xthv',\n",
       "  'platform': 'reddit',\n",
       "  'origin': 'home',\n",
       "  'position': 7,\n",
       "  'type': 'post',\n",
       "  'source': 'stars_doulikedem',\n",
       "  'secondary_source': 'entertainment',\n",
       "  'likes': 1549,\n",
       "  'comments': 226,\n",
       "  'shares': None,\n",
       "  'views': None,\n",
       "  'created_at': 1713747364.0,\n",
       "  'title': 'Brian McKnight Calls His Biological Children Products of Sin',\n",
       "  'description': '',\n",
       "  'media': None,\n",
       "  'url': 'https://www.complex.com/music/a/jaelaniturnerwilliams/brian-mcknight-blasted-for-calling-his-children-sin',\n",
       "  'reason': 'r/entertainment',\n",
       "  'is_ad': None},\n",
       " {'id': '1cbi126',\n",
       "  'platform': 'reddit',\n",
       "  'origin': 'home',\n",
       "  'position': 8,\n",
       "  'type': 'post',\n",
       "  'source': 'StatisticianPrize109',\n",
       "  'secondary_source': 'legaladvice',\n",
       "  'likes': 2720,\n",
       "  'comments': 107,\n",
       "  'shares': None,\n",
       "  'views': None,\n",
       "  'created_at': 1713911373.0,\n",
       "  'title': 'Being sued by heir for title of my house',\n",
       "  'description': 'Illinois- I was informed by my title company that I was being sued by a stranger for the possession of my home.  I bought it 3 years ago from a flipper who bought it from a widow.  I guess the widow was never on the title and there was a prenup that said she wouldnt get ownership after the husband passed.  From my understanding, there was never probate.  The heir has now opened probate in order to take my house.  None of this was known to me when I bought and it cleared title examination with a reputable title company.  So my questions are 1) how the heck did it clear title examination and 2) whats the worst case scenario and most likley scenario? I love my house and dont want to lose it!',\n",
       "  'media': None,\n",
       "  'url': 'https://www.reddit.com/r/legaladvice/comments/1cbi126/being_sued_by_heir_for_title_of_my_house/',\n",
       "  'reason': 'Popular on Reddit right now',\n",
       "  'is_ad': None},\n",
       " {'id': '1cbagbm',\n",
       "  'platform': 'reddit',\n",
       "  'origin': 'home',\n",
       "  'position': 9,\n",
       "  'type': 'post',\n",
       "  'source': 'SOERERY',\n",
       "  'secondary_source': 'reddevils',\n",
       "  'likes': 372,\n",
       "  'comments': 169,\n",
       "  'shares': None,\n",
       "  'views': None,\n",
       "  'created_at': 1713893234.0,\n",
       "  'title': 'Manchester United and Newcastle still £13m apart on Dan Ashworth deal',\n",
       "  'description': '',\n",
       "  'media': None,\n",
       "  'url': 'https://www.telegraph.co.uk/football/2024/04/23/manchester-united-newcastle-dan-ashworth-13-million-deal/',\n",
       "  'reason': 'r/reddevils',\n",
       "  'is_ad': None},\n",
       " {'id': '1cb62xe',\n",
       "  'platform': 'reddit',\n",
       "  'origin': 'home',\n",
       "  'position': 10,\n",
       "  'type': 'post',\n",
       "  'source': 'leolmx',\n",
       "  'secondary_source': 'ObsidianMD',\n",
       "  'likes': 10,\n",
       "  'comments': 16,\n",
       "  'shares': None,\n",
       "  'views': None,\n",
       "  'created_at': '1713882572.0',\n",
       "  'title': 'Search for a word and auto-link every result?',\n",
       "  'description': 'I do have some concepts that are very used in my notes and want to link them. I dont want to do this one-by-one. Is there a way to search for a keyword and create a link for them all? Like in the example below, I want every \"ETL\" word to have the double brackets inside.\\n\\nhttps://preview.redd.it/9qjzws8so8wc1.png?width=600&format=png&auto=webp&s=98e3b1728a109e48632e85c7475bb5c39df5750f\\n\\n  \\n',\n",
       "  'media': None,\n",
       "  'url': 'https://www.reddit.com/r/ObsidianMD/comments/1cb62xe/search_for_a_word_and_autolink_every_result/',\n",
       "  'reason': 'r/ObsidianMD',\n",
       "  'is_ad': None},\n",
       " {'id': '1cbe7kj',\n",
       "  'platform': 'reddit',\n",
       "  'origin': 'home',\n",
       "  'position': 11,\n",
       "  'type': 'post',\n",
       "  'source': 'TnnsNbeer',\n",
       "  'secondary_source': 'LinkedInLunatics',\n",
       "  'likes': 8576,\n",
       "  'comments': 2372,\n",
       "  'shares': None,\n",
       "  'views': None,\n",
       "  'created_at': 1713902220.0,\n",
       "  'title': 'Feel bad for this guy who can’t retire on $10mil',\n",
       "  'description': '',\n",
       "  'media': None,\n",
       "  'url': 'https://www.reddit.com/gallery/1cbe7kj',\n",
       "  'reason': '',\n",
       "  'is_ad': None},\n",
       " {'id': '1c9qnfy',\n",
       "  'platform': 'reddit',\n",
       "  'origin': 'home',\n",
       "  'position': 12,\n",
       "  'type': 'post',\n",
       "  'source': 'Cleverman72',\n",
       "  'secondary_source': 'InterestingToRead',\n",
       "  'likes': 1806,\n",
       "  'comments': 72,\n",
       "  'shares': None,\n",
       "  'views': None,\n",
       "  'created_at': 1713728442.0,\n",
       "  'title': 'Elisabeth Of Austria was obsessed with her appearance, and she implemented some bizarre beauty techniques? (Read more in 1st comment)',\n",
       "  'description': '',\n",
       "  'media': None,\n",
       "  'url': 'https://i.redd.it/k4s2oq7cyvvc1.png',\n",
       "  'reason': '',\n",
       "  'is_ad': None},\n",
       " {'id': '1c9p8jh',\n",
       "  'platform': 'reddit',\n",
       "  'origin': 'home',\n",
       "  'position': 13,\n",
       "  'type': 'post',\n",
       "  'source': 'nanobookworm',\n",
       "  'secondary_source': 'reddevils',\n",
       "  'likes': 1756,\n",
       "  'comments': 425,\n",
       "  'shares': None,\n",
       "  'views': None,\n",
       "  'created_at': 1713724884.0,\n",
       "  'title': 'United Players after Højlund Penalty (via @ManUnitedZone_ on Twitter)',\n",
       "  'description': '',\n",
       "  'media': None,\n",
       "  'url': 'https://v.redd.it/or7hs3oxnvvc1',\n",
       "  'reason': '',\n",
       "  'is_ad': None},\n",
       " {'id': '1cac5lq',\n",
       "  'platform': 'reddit',\n",
       "  'origin': 'home',\n",
       "  'position': 14,\n",
       "  'type': 'post',\n",
       "  'source': 'Logibenq',\n",
       "  'secondary_source': 'technology',\n",
       "  'likes': 2662,\n",
       "  'comments': 522,\n",
       "  'shares': None,\n",
       "  'views': None,\n",
       "  'created_at': '1713795917.0',\n",
       "  'title': 'App that warns your loved ones if you watch porn is a hit with the Christian right in the US',\n",
       "  'description': '',\n",
       "  'media': None,\n",
       "  'url': 'https://english.elpais.com/usa/2024-04-22/app-that-warns-your-loved-ones-if-you-watch-porn-is-a-hit-with-the-christian-right-in-the-us.html',\n",
       "  'reason': '',\n",
       "  'is_ad': None},\n",
       " {'id': '1cby844',\n",
       "  'platform': 'reddit',\n",
       "  'origin': 'home',\n",
       "  'position': 15,\n",
       "  'type': 'post',\n",
       "  'source': 'ICumCoffee',\n",
       "  'secondary_source': 'entertainment',\n",
       "  'likes': 1170,\n",
       "  'comments': 135,\n",
       "  'shares': None,\n",
       "  'views': None,\n",
       "  'created_at': '1713965362.0',\n",
       "  'title': 'Ryan Gosling: ‘Angry Birds’ Box Office Success ‘Destroyed’ Chances of ‘The Nice Guys’ Sequel. “So much of a sequel, I think, is decided by the opening weekend of a movie,” the actor said of the 2016 dark comedy',\n",
       "  'description': '',\n",
       "  'media': None,\n",
       "  'url': 'https://www.indiewire.com/news/general-news/ryan-gosling-nice-guys-sequel-scrapped-angry-birds-1234977280/',\n",
       "  'reason': '',\n",
       "  'is_ad': None},\n",
       " {'id': '1c8ky71',\n",
       "  'platform': 'reddit',\n",
       "  'origin': 'home',\n",
       "  'position': 16,\n",
       "  'type': 'post',\n",
       "  'source': 'koalathescientist',\n",
       "  'secondary_source': 'miui',\n",
       "  'likes': 174,\n",
       "  'comments': 66,\n",
       "  'shares': None,\n",
       "  'views': None,\n",
       "  'created_at': 1713601678.0,\n",
       "  'title': 'Are xiaomi developers stupid? ',\n",
       "  'description': 'They literally remove Bluetooth dinamic button to add a big stupid Mobile Data on a MiPad that doesnt have mobile data available. At this point I know they dont use their equipments',\n",
       "  'media': None,\n",
       "  'url': 'https://i.redd.it/yscumitkhlvc1.png',\n",
       "  'reason': '',\n",
       "  'is_ad': None},\n",
       " {'id': '1cb3q70',\n",
       "  'platform': 'reddit',\n",
       "  'origin': 'home',\n",
       "  'position': 17,\n",
       "  'type': 'post',\n",
       "  'source': 'pohudsaijoadsijdas',\n",
       "  'secondary_source': 'reddevils',\n",
       "  'likes': 163,\n",
       "  'comments': 261,\n",
       "  'shares': None,\n",
       "  'views': None,\n",
       "  'created_at': 1713876417.0,\n",
       "  'title': '[Press Conference] YOUR reaction after Coventry A DISGRACE! 😡 EMBARRASSING! | Erik ten Hag | Man Utd v Sheff Utd',\n",
       "  'description': '',\n",
       "  'media': None,\n",
       "  'url': 'https://www.youtube.com/watch?v=5n6zgdnxigo',\n",
       "  'reason': '',\n",
       "  'is_ad': None},\n",
       " {'id': '1ca90iy',\n",
       "  'platform': 'reddit',\n",
       "  'origin': 'home',\n",
       "  'position': 18,\n",
       "  'type': 'post',\n",
       "  'source': 'wideSetup2',\n",
       "  'secondary_source': 'ObsidianMD',\n",
       "  'likes': 24,\n",
       "  'comments': 39,\n",
       "  'shares': None,\n",
       "  'views': None,\n",
       "  'created_at': 1713787609.0,\n",
       "  'title': 'As a Librarian-style user can Obsidian be beneficial?',\n",
       "  'description': 'I know that evernote and onenote are the most recommended for the Librarian-style like me but i still want obsidian because it is more customizable than any other note-taking app out there. Can i make it work?\\n\\n',\n",
       "  'media': None,\n",
       "  'url': 'https://www.reddit.com/r/ObsidianMD/comments/1ca90iy/as_a_librarianstyle_user_can_obsidian_be/',\n",
       "  'reason': '',\n",
       "  'is_ad': None},\n",
       " {'id': '1cbk1fs',\n",
       "  'platform': 'reddit',\n",
       "  'origin': 'home',\n",
       "  'position': 19,\n",
       "  'type': 'post',\n",
       "  'source': 'ThePolluxStar',\n",
       "  'secondary_source': 'NoStupidQuestions',\n",
       "  'likes': 3224,\n",
       "  'comments': 4540,\n",
       "  'shares': None,\n",
       "  'views': None,\n",
       "  'created_at': 1713916671.0,\n",
       "  'title': 'How many showers do you take per day/week?',\n",
       "  'description': 'Well I born in a very tropical country, so I take 2/3 showers per day, las nights I told the for a friend from England and he thinks that’s is bizarre and too many showers.\\n\\nLast week I took 20 showers, it’s strange this in your country?\\n\\nEdit: The average in my country is 12-15 shower p/week. Its de high average in the world\\n\\nWater here is very cheap, I paid 15 USD per month, in summer maybe 18 USD',\n",
       "  'media': None,\n",
       "  'url': 'https://www.reddit.com/r/NoStupidQuestions/comments/1cbk1fs/how_many_showers_do_you_take_per_dayweek/',\n",
       "  'reason': '',\n",
       "  'is_ad': None},\n",
       " {'id': '1cb3l5q',\n",
       "  'platform': 'reddit',\n",
       "  'origin': 'home',\n",
       "  'position': 20,\n",
       "  'type': 'post',\n",
       "  'source': 'nimfrank',\n",
       "  'secondary_source': 'technology',\n",
       "  'likes': 2090,\n",
       "  'comments': 570,\n",
       "  'shares': None,\n",
       "  'views': None,\n",
       "  'created_at': '1713876001.0',\n",
       "  'title': 'Google search boss warns employees of new operating reality, urges them to move faster',\n",
       "  'description': '',\n",
       "  'media': None,\n",
       "  'url': 'https://www.cnbc.com/2024/04/23/google-search-boss-raghavan-warns-employees-of-new-operating-reality.html',\n",
       "  'reason': '',\n",
       "  'is_ad': None},\n",
       " {'id': '1c8r6zx',\n",
       "  'platform': 'reddit',\n",
       "  'origin': 'home',\n",
       "  'position': 21,\n",
       "  'type': 'post',\n",
       "  'source': 'greatyellowshark',\n",
       "  'secondary_source': 'entertainment',\n",
       "  'likes': 6521,\n",
       "  'comments': 1390,\n",
       "  'shares': None,\n",
       "  'views': None,\n",
       "  'created_at': 1713622983.0,\n",
       "  'title': 'Chris Pratt draws ire for razing historic 1950 LA home for sprawling mansion',\n",
       "  'description': '',\n",
       "  'media': None,\n",
       "  'url': 'https://www.theguardian.com/film/2024/apr/19/chris-pratt-katherine-schwarzenegger-zimmerman-destroy-historic-house-los-angeles',\n",
       "  'reason': '',\n",
       "  'is_ad': None},\n",
       " {'id': '1cbf98c',\n",
       "  'platform': 'reddit',\n",
       "  'origin': 'home',\n",
       "  'position': 22,\n",
       "  'type': 'post',\n",
       "  'source': 'Ouroboros_17',\n",
       "  'secondary_source': 'ObsidianMD',\n",
       "  'likes': 3,\n",
       "  'comments': 5,\n",
       "  'shares': None,\n",
       "  'views': None,\n",
       "  'created_at': '1713904698.0',\n",
       "  'title': 'Hey guys just a quick question! ',\n",
       "  'description': 'Hello friends! I want to ask is there a way to expand/collapse only certain folders because I have a folder with pdfs and it takes up the whole sidebar. I read on Google that you have that option when you right click on the folder but I dont have it, I only have the option to explain/collapse all folders. \\n\\nAny information is greatly appreciated! \\n\\nAlso sorry if I posted this on a wrong sub just comment and Ill delete it. ',\n",
       "  'media': None,\n",
       "  'url': 'https://i.redd.it/3kxc6puliawc1.jpeg',\n",
       "  'reason': '',\n",
       "  'is_ad': None},\n",
       " {'id': '1camocm',\n",
       "  'platform': 'reddit',\n",
       "  'origin': 'home',\n",
       "  'position': 23,\n",
       "  'type': 'post',\n",
       "  'source': 'no-this-iz-patrick',\n",
       "  'secondary_source': 'madisonwi',\n",
       "  'likes': 142,\n",
       "  'comments': 84,\n",
       "  'shares': None,\n",
       "  'views': None,\n",
       "  'created_at': 1713821516.0,\n",
       "  'title': 'What are these white traffic lights, and what do each of them indicate?',\n",
       "  'description': 'I assume they’re related the new BRT busses, but does anyone know what they actually indicate, and why they’re separate from the normal lights? When the normal lights were red it had a white horizontal line, when they turned green it lit the bottom section with a white vertical line',\n",
       "  'media': None,\n",
       "  'url': 'https://www.reddit.com/gallery/1camocm',\n",
       "  'reason': '',\n",
       "  'is_ad': None},\n",
       " {'id': '1cbk4b0',\n",
       "  'platform': 'reddit',\n",
       "  'origin': 'home',\n",
       "  'position': 24,\n",
       "  'type': 'post',\n",
       "  'source': 'Maleficent-Fix-7424',\n",
       "  'secondary_source': 'AITA_WIBTA_PUBLIC',\n",
       "  'likes': 3116,\n",
       "  'comments': 3131,\n",
       "  'shares': None,\n",
       "  'views': None,\n",
       "  'created_at': 1713916880.0,\n",
       "  'title': 'AITA for telling my(42m) son(17m) that I love my wife(42f) more than him?\\n',\n",
       "  'description': 'Back when my son, Caleb, was 3, I found out his mother, Debra (42F), was cheating on me with my brother Drew (47M). She left me for him, and I ended up losing half my money as well as losing Caleb 50% of the time. I was quickly replaced by Drew in Calebs eyes, as he was more present (Im a truck driver and owner-operator, so I was gone most of the time), but I did try to make up for it in whatever way I could, though that did nothing. He obviously doesnt respect or love me, or at least not as much as he loves Drew.\\n\\nI was really depressed over my life turning out that way and thought of suicide a lot. The fact that Drew practically stole my life and really didnt face any consequences, as my family, especially my dad, expected me to just move on. Things started getting better after I met my wife, June (42F). She was your typical \"mean librarian,\" and it took me about 7 times to convince her to even talk to me, but it worked, and Im now proud to be her husband.\\n\\nNaturally, I started prioritizing her, and since Caleb didnt seem to care, I put her over him. I didnt want to deal with someone who didnt like me or waste my energy on them. I stopped forcing him to visit me, which he didnt mind. Any free time I had, it was either trips with June or staying home together. We eloped when Caleb was 15. \\n\\nShe’s been nothing but nice to him and is a good stepmom to him even when his begin jerk which Im sure my ex supports and encourages it  but we don’t see him much so June doesnt mind.\\n\\nNow, onto the problem: Caleb had an award ceremony, and I guess Drew couldnt make it, so he invited me. I couldnt go since I had plans with my love. I told him the truth, and he got mad and said it was wrong of me to pick her over him. I told him he could invite his grandpa since I didnt want, nor was I going to, cancel on June, and that seemed to piss him off more. He accused me of loving June over him, and I didnt deny it; I told him I did. He got quiet and then hung up.\\n\\nI later got a call from Debra, calling me all sorts of names for my statement, saying Caleb had been crying nonstop. I just blocked her. My dad messaged me, saying what I said was cruel.\\n\\nMy wife is on my side.\\n\\nAITA?\\n\\nUPDATE ON PROFILE.',\n",
       "  'media': None,\n",
       "  'url': 'https://www.reddit.com/r/AITA_WIBTA_PUBLIC/comments/1cbk4b0/aita_for_telling_my42m_son17m_that_i_love_my/',\n",
       "  'reason': 'Popular on Reddit right now',\n",
       "  'is_ad': None}]"
      ]
     },
     "execution_count": 17,
     "metadata": {},
     "output_type": "execute_result"
    }
   ],
   "source": [
    "p.getPagePosts()"
   ]
  },
  {
   "cell_type": "code",
   "execution_count": 54,
   "metadata": {},
   "outputs": [],
   "source": [
    "posts = p.driver.find_elements(By.XPATH, '//div[@data-testid=\"post-container\"]')\n",
    "posts_urls = []"
   ]
  },
  {
   "cell_type": "code",
   "execution_count": 60,
   "metadata": {},
   "outputs": [],
   "source": [
    "def getReason(post):\n",
    "    post = post.find_element(By.XPATH, './/div[@data-click-id=\"background\"]')\n",
    "    divs = post.find_elements(By.XPATH, './/div')\n",
    "    r = divs[0].text\n",
    "    if 'promoted' in r.lower():\n",
    "        r = ' '.join(r.split('\\n')[:2])\n",
    "    else:\n",
    "        r = r.split('\\n')[0]\n",
    "    return r"
   ]
  },
  {
   "cell_type": "code",
   "execution_count": 14,
   "metadata": {},
   "outputs": [
    {
     "name": "stdout",
     "output_type": "stream",
     "text": [
      "Connecting to server at toutatis.cs.uiowa.edu:61234...\n",
      "Sending MAC address: 98:61:85:17:5f:7e\n",
      "Received assigned ID: 1\n",
      "Assigned ID: 1\n"
     ]
    },
    {
     "data": {
      "text/plain": [
       "'1'"
      ]
     },
     "execution_count": 14,
     "metadata": {},
     "output_type": "execute_result"
    }
   ],
   "source": []
  },
  {
   "cell_type": "code",
   "execution_count": null,
   "metadata": {},
   "outputs": [],
   "source": []
  },
  {
   "cell_type": "code",
   "execution_count": null,
   "metadata": {},
   "outputs": [],
   "source": []
  },
  {
   "cell_type": "code",
   "execution_count": 61,
   "metadata": {},
   "outputs": [
    {
     "name": "stdout",
     "output_type": "stream",
     "text": [
      "Reason: r/ObsidianMD END\n",
      "-------------------\n",
      "Reason: r/technology END\n",
      "-------------------\n",
      "Reason: Similar to r/entertainment END\n",
      "-------------------\n",
      "Reason: u/mediacomcable •Promoted END\n",
      "-------------------\n",
      "Reason: r/entertainment END\n",
      "-------------------\n",
      "Reason: r/ObsidianMD END\n",
      "-------------------\n",
      "Reason: Because you've shown interest in a similar community END\n",
      "-------------------\n",
      "Reason: r/entertainment END\n",
      "-------------------\n",
      "Reason: r/technology END\n",
      "-------------------\n",
      "Reason: Because you've shown interest in a similar community END\n",
      "-------------------\n",
      "Reason: r/ObsidianMD END\n",
      "-------------------\n",
      "Reason: r/entertainment END\n",
      "-------------------\n",
      "Reason: u/hims •Promoted END\n",
      "-------------------\n",
      "Reason: Because you've shown interest in a similar community END\n",
      "-------------------\n",
      "Reason: r/technology END\n",
      "-------------------\n",
      "Reason: r/ObsidianMD END\n",
      "-------------------\n",
      "Reason: Similar to r/entertainment END\n",
      "-------------------\n",
      "Reason: r/technology END\n",
      "-------------------\n",
      "Reason: r/entertainment END\n",
      "-------------------\n",
      "Reason: Because you've shown interest in a similar community END\n",
      "-------------------\n",
      "Reason: r/ObsidianMD END\n",
      "-------------------\n",
      "Reason: r/technology END\n",
      "-------------------\n",
      "Reason: Because you've shown interest in a similar community END\n",
      "-------------------\n",
      "Reason: u/Applebees-Official •Promoted END\n",
      "-------------------\n",
      "Reason: r/entertainment END\n",
      "-------------------\n",
      "Reason: r/ObsidianMD END\n",
      "-------------------\n",
      "Reason: Because you've shown interest in a similar community END\n",
      "-------------------\n",
      "Reason: r/technology END\n",
      "-------------------\n"
     ]
    }
   ],
   "source": [
    "for post in posts:\n",
    "    reason = getReason(post)\n",
    "    print('Reason:', reason, 'END')\n",
    "    print('-------------------')"
   ]
  },
  {
   "cell_type": "code",
   "execution_count": 18,
   "metadata": {},
   "outputs": [
    {
     "data": {
      "text/plain": [
       "'https://twitter.com/home'"
      ]
     },
     "execution_count": 18,
     "metadata": {},
     "output_type": "execute_result"
    }
   ],
   "source": [
    "p.driver.current_url"
   ]
  },
  {
   "cell_type": "code",
   "execution_count": 19,
   "metadata": {},
   "outputs": [],
   "source": [
    "driver = p.driver\n",
    "tweets = driver.find_elements(By.XPATH, '//article[@data-testid=\"tweet\"]')"
   ]
  },
  {
   "cell_type": "code",
   "execution_count": 21,
   "metadata": {},
   "outputs": [
    {
     "data": {
      "text/plain": [
       "'Elon Musk (Parody)\\n@ElonMuskAOC\\n·\\n3h\\nWhy is Biden always confused?\\n0:02 / 0:14\\nFrom \\nRNC Research\\n185\\n126\\n555\\n36K'"
      ]
     },
     "execution_count": 21,
     "metadata": {},
     "output_type": "execute_result"
    }
   ],
   "source": [
    "tweets[0].text"
   ]
  },
  {
   "cell_type": "code",
   "execution_count": 22,
   "metadata": {},
   "outputs": [
    {
     "data": {
      "text/plain": [
       "'Elon Musk (Parody)\\n@ElonMuskAOC\\n·\\n2h\\nIf you ever wonder what’s going on other social media apps:\\n137\\n36\\n181\\n18K'"
      ]
     },
     "execution_count": 22,
     "metadata": {},
     "output_type": "execute_result"
    }
   ],
   "source": [
    "tweets[1].text"
   ]
  },
  {
   "cell_type": "code",
   "execution_count": null,
   "metadata": {},
   "outputs": [],
   "source": [
    "def getReason(tweet):\n",
    "    try:\n",
    "        divs = tweet.find_elements(By.XPATH, './/div')\n",
    "        r = divs[3].text\n",
    "        if r == '':\n",
    "            r = 'none'\n",
    "    except:\n",
    "        r = 'none'\n",
    "    return r"
   ]
  },
  {
   "cell_type": "code",
   "execution_count": 32,
   "metadata": {},
   "outputs": [
    {
     "name": "stdout",
     "output_type": "stream",
     "text": [
      "\n",
      "-------------------\n",
      "\n",
      "-------------------\n",
      "Elon Musk reposted\n",
      "-------------------\n",
      "\n",
      "-------------------\n",
      "Elon Musk (Parody) reposted\n",
      "-------------------\n",
      "\n",
      "-------------------\n",
      "Elon Musk (Parody) reposted\n",
      "-------------------\n"
     ]
    },
    {
     "ename": "StaleElementReferenceException",
     "evalue": "Message: stale element reference: stale element not found in the current frame\n  (Session info: chrome=124.0.6367.62); For documentation on this error, please visit: https://www.selenium.dev/documentation/webdriver/troubleshooting/errors#stale-element-reference-exception\nStacktrace:\n0   undetected_chromedriver             0x0000000104ddf9c8 undetected_chromedriver + 5216712\n1   undetected_chromedriver             0x0000000104dd7603 undetected_chromedriver + 5182979\n2   undetected_chromedriver             0x0000000104949527 undetected_chromedriver + 406823\n3   undetected_chromedriver             0x000000010494ebc4 undetected_chromedriver + 428996\n4   undetected_chromedriver             0x0000000104950929 undetected_chromedriver + 436521\n5   undetected_chromedriver             0x00000001049509cc undetected_chromedriver + 436684\n6   undetected_chromedriver             0x0000000104994dfa undetected_chromedriver + 716282\n7   undetected_chromedriver             0x0000000104995181 undetected_chromedriver + 717185\n8   undetected_chromedriver             0x0000000104989e13 undetected_chromedriver + 671251\n9   undetected_chromedriver             0x00000001049b772d undetected_chromedriver + 857901\n10  undetected_chromedriver             0x0000000104989998 undetected_chromedriver + 670104\n11  undetected_chromedriver             0x00000001049b78be undetected_chromedriver + 858302\n12  undetected_chromedriver             0x00000001049d66bf undetected_chromedriver + 984767\n13  undetected_chromedriver             0x00000001049b74a3 undetected_chromedriver + 857251\n14  undetected_chromedriver             0x0000000104987fe3 undetected_chromedriver + 663523\n15  undetected_chromedriver             0x000000010498892e undetected_chromedriver + 665902\n16  undetected_chromedriver             0x0000000104d9d8e0 undetected_chromedriver + 4946144\n17  undetected_chromedriver             0x0000000104da3994 undetected_chromedriver + 4970900\n18  undetected_chromedriver             0x0000000104d7e3de undetected_chromedriver + 4817886\n19  undetected_chromedriver             0x0000000104da44a9 undetected_chromedriver + 4973737\n20  undetected_chromedriver             0x0000000104d6e664 undetected_chromedriver + 4752996\n21  undetected_chromedriver             0x0000000104dc6b58 undetected_chromedriver + 5114712\n22  undetected_chromedriver             0x0000000104dc6d17 undetected_chromedriver + 5115159\n23  undetected_chromedriver             0x0000000104dd7223 undetected_chromedriver + 5181987\n24  libsystem_pthread.dylib             0x00007ff81567b202 _pthread_start + 99\n25  libsystem_pthread.dylib             0x00007ff815676bab thread_start + 15\n",
     "output_type": "error",
     "traceback": [
      "\u001b[0;31m---------------------------------------------------------------------------\u001b[0m",
      "\u001b[0;31mStaleElementReferenceException\u001b[0m            Traceback (most recent call last)",
      "Cell \u001b[0;32mIn[32], line 2\u001b[0m\n\u001b[1;32m      1\u001b[0m \u001b[38;5;28;01mfor\u001b[39;00m tweet \u001b[38;5;129;01min\u001b[39;00m tweets:\n\u001b[0;32m----> 2\u001b[0m     divs \u001b[38;5;241m=\u001b[39m \u001b[43mtweet\u001b[49m\u001b[38;5;241;43m.\u001b[39;49m\u001b[43mfind_elements\u001b[49m\u001b[43m(\u001b[49m\u001b[43mBy\u001b[49m\u001b[38;5;241;43m.\u001b[39;49m\u001b[43mXPATH\u001b[49m\u001b[43m,\u001b[49m\u001b[43m \u001b[49m\u001b[38;5;124;43m'\u001b[39;49m\u001b[38;5;124;43m.//div\u001b[39;49m\u001b[38;5;124;43m'\u001b[39;49m\u001b[43m)\u001b[49m\n\u001b[1;32m      3\u001b[0m     \u001b[38;5;28mprint\u001b[39m(divs[\u001b[38;5;241m3\u001b[39m]\u001b[38;5;241m.\u001b[39mtext)\n\u001b[1;32m      4\u001b[0m     \u001b[38;5;28mprint\u001b[39m(\u001b[38;5;124m'\u001b[39m\u001b[38;5;124m-------------------\u001b[39m\u001b[38;5;124m'\u001b[39m)\n",
      "File \u001b[0;32m/Library/Frameworks/Python.framework/Versions/3.10/lib/python3.10/site-packages/selenium/webdriver/remote/webelement.py:439\u001b[0m, in \u001b[0;36mWebElement.find_elements\u001b[0;34m(self, by, value)\u001b[0m\n\u001b[1;32m    436\u001b[0m     by \u001b[38;5;241m=\u001b[39m By\u001b[38;5;241m.\u001b[39mCSS_SELECTOR\n\u001b[1;32m    437\u001b[0m     value \u001b[38;5;241m=\u001b[39m \u001b[38;5;124mf\u001b[39m\u001b[38;5;124m'\u001b[39m\u001b[38;5;124m[name=\u001b[39m\u001b[38;5;124m\"\u001b[39m\u001b[38;5;132;01m{\u001b[39;00mvalue\u001b[38;5;132;01m}\u001b[39;00m\u001b[38;5;124m\"\u001b[39m\u001b[38;5;124m]\u001b[39m\u001b[38;5;124m'\u001b[39m\n\u001b[0;32m--> 439\u001b[0m \u001b[38;5;28;01mreturn\u001b[39;00m \u001b[38;5;28;43mself\u001b[39;49m\u001b[38;5;241;43m.\u001b[39;49m\u001b[43m_execute\u001b[49m\u001b[43m(\u001b[49m\u001b[43mCommand\u001b[49m\u001b[38;5;241;43m.\u001b[39;49m\u001b[43mFIND_CHILD_ELEMENTS\u001b[49m\u001b[43m,\u001b[49m\u001b[43m \u001b[49m\u001b[43m{\u001b[49m\u001b[38;5;124;43m\"\u001b[39;49m\u001b[38;5;124;43musing\u001b[39;49m\u001b[38;5;124;43m\"\u001b[39;49m\u001b[43m:\u001b[49m\u001b[43m \u001b[49m\u001b[43mby\u001b[49m\u001b[43m,\u001b[49m\u001b[43m \u001b[49m\u001b[38;5;124;43m\"\u001b[39;49m\u001b[38;5;124;43mvalue\u001b[39;49m\u001b[38;5;124;43m\"\u001b[39;49m\u001b[43m:\u001b[49m\u001b[43m \u001b[49m\u001b[43mvalue\u001b[49m\u001b[43m}\u001b[49m\u001b[43m)\u001b[49m[\u001b[38;5;124m\"\u001b[39m\u001b[38;5;124mvalue\u001b[39m\u001b[38;5;124m\"\u001b[39m]\n",
      "File \u001b[0;32m/Library/Frameworks/Python.framework/Versions/3.10/lib/python3.10/site-packages/selenium/webdriver/remote/webelement.py:395\u001b[0m, in \u001b[0;36mWebElement._execute\u001b[0;34m(self, command, params)\u001b[0m\n\u001b[1;32m    393\u001b[0m     params \u001b[38;5;241m=\u001b[39m {}\n\u001b[1;32m    394\u001b[0m params[\u001b[38;5;124m\"\u001b[39m\u001b[38;5;124mid\u001b[39m\u001b[38;5;124m\"\u001b[39m] \u001b[38;5;241m=\u001b[39m \u001b[38;5;28mself\u001b[39m\u001b[38;5;241m.\u001b[39m_id\n\u001b[0;32m--> 395\u001b[0m \u001b[38;5;28;01mreturn\u001b[39;00m \u001b[38;5;28;43mself\u001b[39;49m\u001b[38;5;241;43m.\u001b[39;49m\u001b[43m_parent\u001b[49m\u001b[38;5;241;43m.\u001b[39;49m\u001b[43mexecute\u001b[49m\u001b[43m(\u001b[49m\u001b[43mcommand\u001b[49m\u001b[43m,\u001b[49m\u001b[43m \u001b[49m\u001b[43mparams\u001b[49m\u001b[43m)\u001b[49m\n",
      "File \u001b[0;32m/Library/Frameworks/Python.framework/Versions/3.10/lib/python3.10/site-packages/selenium/webdriver/remote/webdriver.py:347\u001b[0m, in \u001b[0;36mWebDriver.execute\u001b[0;34m(self, driver_command, params)\u001b[0m\n\u001b[1;32m    345\u001b[0m response \u001b[38;5;241m=\u001b[39m \u001b[38;5;28mself\u001b[39m\u001b[38;5;241m.\u001b[39mcommand_executor\u001b[38;5;241m.\u001b[39mexecute(driver_command, params)\n\u001b[1;32m    346\u001b[0m \u001b[38;5;28;01mif\u001b[39;00m response:\n\u001b[0;32m--> 347\u001b[0m     \u001b[38;5;28;43mself\u001b[39;49m\u001b[38;5;241;43m.\u001b[39;49m\u001b[43merror_handler\u001b[49m\u001b[38;5;241;43m.\u001b[39;49m\u001b[43mcheck_response\u001b[49m\u001b[43m(\u001b[49m\u001b[43mresponse\u001b[49m\u001b[43m)\u001b[49m\n\u001b[1;32m    348\u001b[0m     response[\u001b[38;5;124m\"\u001b[39m\u001b[38;5;124mvalue\u001b[39m\u001b[38;5;124m\"\u001b[39m] \u001b[38;5;241m=\u001b[39m \u001b[38;5;28mself\u001b[39m\u001b[38;5;241m.\u001b[39m_unwrap_value(response\u001b[38;5;241m.\u001b[39mget(\u001b[38;5;124m\"\u001b[39m\u001b[38;5;124mvalue\u001b[39m\u001b[38;5;124m\"\u001b[39m, \u001b[38;5;28;01mNone\u001b[39;00m))\n\u001b[1;32m    349\u001b[0m     \u001b[38;5;28;01mreturn\u001b[39;00m response\n",
      "File \u001b[0;32m/Library/Frameworks/Python.framework/Versions/3.10/lib/python3.10/site-packages/selenium/webdriver/remote/errorhandler.py:229\u001b[0m, in \u001b[0;36mErrorHandler.check_response\u001b[0;34m(self, response)\u001b[0m\n\u001b[1;32m    227\u001b[0m         alert_text \u001b[38;5;241m=\u001b[39m value[\u001b[38;5;124m\"\u001b[39m\u001b[38;5;124malert\u001b[39m\u001b[38;5;124m\"\u001b[39m]\u001b[38;5;241m.\u001b[39mget(\u001b[38;5;124m\"\u001b[39m\u001b[38;5;124mtext\u001b[39m\u001b[38;5;124m\"\u001b[39m)\n\u001b[1;32m    228\u001b[0m     \u001b[38;5;28;01mraise\u001b[39;00m exception_class(message, screen, stacktrace, alert_text)  \u001b[38;5;66;03m# type: ignore[call-arg]  # mypy is not smart enough here\u001b[39;00m\n\u001b[0;32m--> 229\u001b[0m \u001b[38;5;28;01mraise\u001b[39;00m exception_class(message, screen, stacktrace)\n",
      "\u001b[0;31mStaleElementReferenceException\u001b[0m: Message: stale element reference: stale element not found in the current frame\n  (Session info: chrome=124.0.6367.62); For documentation on this error, please visit: https://www.selenium.dev/documentation/webdriver/troubleshooting/errors#stale-element-reference-exception\nStacktrace:\n0   undetected_chromedriver             0x0000000104ddf9c8 undetected_chromedriver + 5216712\n1   undetected_chromedriver             0x0000000104dd7603 undetected_chromedriver + 5182979\n2   undetected_chromedriver             0x0000000104949527 undetected_chromedriver + 406823\n3   undetected_chromedriver             0x000000010494ebc4 undetected_chromedriver + 428996\n4   undetected_chromedriver             0x0000000104950929 undetected_chromedriver + 436521\n5   undetected_chromedriver             0x00000001049509cc undetected_chromedriver + 436684\n6   undetected_chromedriver             0x0000000104994dfa undetected_chromedriver + 716282\n7   undetected_chromedriver             0x0000000104995181 undetected_chromedriver + 717185\n8   undetected_chromedriver             0x0000000104989e13 undetected_chromedriver + 671251\n9   undetected_chromedriver             0x00000001049b772d undetected_chromedriver + 857901\n10  undetected_chromedriver             0x0000000104989998 undetected_chromedriver + 670104\n11  undetected_chromedriver             0x00000001049b78be undetected_chromedriver + 858302\n12  undetected_chromedriver             0x00000001049d66bf undetected_chromedriver + 984767\n13  undetected_chromedriver             0x00000001049b74a3 undetected_chromedriver + 857251\n14  undetected_chromedriver             0x0000000104987fe3 undetected_chromedriver + 663523\n15  undetected_chromedriver             0x000000010498892e undetected_chromedriver + 665902\n16  undetected_chromedriver             0x0000000104d9d8e0 undetected_chromedriver + 4946144\n17  undetected_chromedriver             0x0000000104da3994 undetected_chromedriver + 4970900\n18  undetected_chromedriver             0x0000000104d7e3de undetected_chromedriver + 4817886\n19  undetected_chromedriver             0x0000000104da44a9 undetected_chromedriver + 4973737\n20  undetected_chromedriver             0x0000000104d6e664 undetected_chromedriver + 4752996\n21  undetected_chromedriver             0x0000000104dc6b58 undetected_chromedriver + 5114712\n22  undetected_chromedriver             0x0000000104dc6d17 undetected_chromedriver + 5115159\n23  undetected_chromedriver             0x0000000104dd7223 undetected_chromedriver + 5181987\n24  libsystem_pthread.dylib             0x00007ff81567b202 _pthread_start + 99\n25  libsystem_pthread.dylib             0x00007ff815676bab thread_start + 15\n"
     ]
    }
   ],
   "source": [
    "for tweet in tweets:\n",
    "    divs = tweet.find_elements(By.XPATH, './/div')\n",
    "    print(divs[3].text)\n",
    "    print('-------------------')"
   ]
  },
  {
   "cell_type": "code",
   "execution_count": 30,
   "metadata": {},
   "outputs": [],
   "source": [
    "tweet = tweets[1]\n",
    "# get all divs\n",
    "divs = tweet.find_elements(By.XPATH, './/div')"
   ]
  },
  {
   "cell_type": "code",
   "execution_count": 31,
   "metadata": {},
   "outputs": [
    {
     "data": {
      "text/plain": [
       "''"
      ]
     },
     "execution_count": 31,
     "metadata": {},
     "output_type": "execute_result"
    }
   ],
   "source": []
  },
  {
   "cell_type": "code",
   "execution_count": 27,
   "metadata": {},
   "outputs": [
    {
     "data": {
      "text/plain": [
       "'Elon Musk reposted'"
      ]
     },
     "execution_count": 27,
     "metadata": {},
     "output_type": "execute_result"
    }
   ],
   "source": []
  },
  {
   "cell_type": "code",
   "execution_count": 50,
   "metadata": {},
   "outputs": [],
   "source": [
    "# get current url\n",
    "url = p.driver.current_url\n",
    "driver = p.driver"
   ]
  },
  {
   "cell_type": "code",
   "execution_count": 59,
   "metadata": {},
   "outputs": [],
   "source": [
    "def likePost(driver):\n",
    "    tab = driver.find_element(By.ID, \"tabs-0-tab-search_video\")\n",
    "    tab.click()\n",
    "    sleep(4)\n",
    "    results = driver.find_element(By.XPATH, '//*[@data-e2e=\"search_video-item-list\"]')\n",
    "    result = results.find_elements(By.TAG_NAME, 'div')[0]\n",
    "    caption = result.find_element(By.XPATH, '//*[@data-e2e=\"search-card-video-caption\"]').get_attribute('innerText')\n",
    "    userlink = result.find_element(By.XPATH, '//*[@data-e2e=\"search-card-user-link\"]').get_attribute('href')\n",
    "    name = result.find_element(By.XPATH, '//*[@data-e2e=\"search-card-user-unique-id\"]').text\n",
    "    result.click()\n",
    "    sleep(10)\n",
    "    driver.find_element(By.TAG_NAME, 'body').send_keys('l')\n",
    "    sleep(4)\n",
    "    post = {\n",
    "        'caption': caption,\n",
    "        'userlink': userlink,\n",
    "        'name': name\n",
    "    }\n",
    "    return post"
   ]
  },
  {
   "cell_type": "code",
   "execution_count": null,
   "metadata": {},
   "outputs": [],
   "source": [
    "# def followUser():"
   ]
  },
  {
   "cell_type": "code",
   "execution_count": 61,
   "metadata": {},
   "outputs": [],
   "source": []
  },
  {
   "cell_type": "code",
   "execution_count": 67,
   "metadata": {},
   "outputs": [
    {
     "ename": "IndexError",
     "evalue": "list index out of range",
     "output_type": "error",
     "traceback": [
      "\u001b[0;31m---------------------------------------------------------------------------\u001b[0m",
      "\u001b[0;31mIndexError\u001b[0m                                Traceback (most recent call last)",
      "Cell \u001b[0;32mIn[67], line 3\u001b[0m\n\u001b[1;32m      1\u001b[0m \u001b[38;5;66;03m# data-e2e=\"search-user-container\"\u001b[39;00m\n\u001b[1;32m      2\u001b[0m users \u001b[38;5;241m=\u001b[39m driver\u001b[38;5;241m.\u001b[39mfind_elements(By\u001b[38;5;241m.\u001b[39mXPATH, \u001b[38;5;124m'\u001b[39m\u001b[38;5;124m//*[@data-e2e=\u001b[39m\u001b[38;5;124m\"\u001b[39m\u001b[38;5;124msearch-user-container\u001b[39m\u001b[38;5;124m\"\u001b[39m\u001b[38;5;124m]\u001b[39m\u001b[38;5;124m'\u001b[39m)\n\u001b[0;32m----> 3\u001b[0m user \u001b[38;5;241m=\u001b[39m \u001b[43musers\u001b[49m\u001b[43m[\u001b[49m\u001b[38;5;241;43m0\u001b[39;49m\u001b[43m]\u001b[49m\n\u001b[1;32m      4\u001b[0m user\u001b[38;5;241m.\u001b[39mclick()\n",
      "\u001b[0;31mIndexError\u001b[0m: list index out of range"
     ]
    }
   ],
   "source": []
  },
  {
   "cell_type": "code",
   "execution_count": 69,
   "metadata": {},
   "outputs": [],
   "source": [
    "# aria-label=\"Follow NBA\""
   ]
  },
  {
   "cell_type": "code",
   "execution_count": null,
   "metadata": {},
   "outputs": [],
   "source": [
    "sleep(4)\n",
    "results = driver.find_element(By.XPATH, '//*[@data-e2e=\"search_video-item-list\"]')\n",
    "result = results.find_elements(By.TAG_NAME, 'div')[0]\n",
    "caption = result.find_element(By.XPATH, '//*[@data-e2e=\"search-card-video-caption\"]').get_attribute('innerText')\n",
    "userlink = result.find_element(By.XPATH, '//*[@data-e2e=\"search-card-user-link\"]').get_attribute('href')\n",
    "name = result.find_element(By.XPATH, '//*[@data-e2e=\"search-card-user-unique-id\"]').text\n",
    "result.click()\n",
    "sleep(10)\n",
    "driver.find_element(By.TAG_NAME, 'body').send_keys('l')\n",
    "sleep(4)\n",
    "post = {\n",
    "    'caption': caption,\n",
    "    'userlink': userlink,\n",
    "    'name': name\n",
    "}"
   ]
  },
  {
   "cell_type": "code",
   "execution_count": 60,
   "metadata": {},
   "outputs": [
    {
     "data": {
      "text/plain": [
       "{'caption': 'A day in the life of a red devil 👹 #manutdacademy #manutd #reddevils #footballacademy',\n",
       " 'userlink': 'https://www.tiktok.com/@traineffectiveofficial',\n",
       " 'name': 'traineffectiveofficial'}"
      ]
     },
     "execution_count": 60,
     "metadata": {},
     "output_type": "execute_result"
    }
   ],
   "source": [
    "likePost(driver)"
   ]
  },
  {
   "cell_type": "code",
   "execution_count": 53,
   "metadata": {},
   "outputs": [],
   "source": []
  },
  {
   "cell_type": "code",
   "execution_count": 55,
   "metadata": {},
   "outputs": [],
   "source": [
    "# press the l key to like the post "
   ]
  },
  {
   "cell_type": "code",
   "execution_count": 41,
   "metadata": {},
   "outputs": [],
   "source": [
    "desc.click()"
   ]
  },
  {
   "cell_type": "code",
   "execution_count": null,
   "metadata": {},
   "outputs": [],
   "source": [
    "        wait(2)\n",
    "        self.goHome()\n",
    "        wait(2)\n",
    "        self.search(topic)\n",
    "        info('Term searched: %s' % topic)\n",
    "        post, opened = self.platform.likePost()\n",
    "\n",
    "        if post == None:\n",
    "            error('No post found to like')\n",
    "            raise Exception('No post found to like')\n",
    "\n",
    "        # for open in opened:\n",
    "        #     self.takeScreenshot()\n",
    "        #     self.addSignal('open', open, 'post', info=f'searched-{topic}')\n",
    "\n",
    "        if post != None:\n",
    "            signal = self.addSignal('like', post, 'post', info=f'searched-{topic}')\n",
    "\n",
    "        return signal"
   ]
  },
  {
   "cell_type": "code",
   "execution_count": 20,
   "metadata": {},
   "outputs": [],
   "source": [
    "sleep(2)\n",
    "btn[0].click()"
   ]
  },
  {
   "cell_type": "code",
   "execution_count": 12,
   "metadata": {},
   "outputs": [
    {
     "data": {
      "text/plain": [
       "'https://www.tiktok.com/foryou?lang=en'"
      ]
     },
     "execution_count": 12,
     "metadata": {},
     "output_type": "execute_result"
    }
   ],
   "source": [
    "url"
   ]
  },
  {
   "cell_type": "code",
   "execution_count": 16,
   "metadata": {},
   "outputs": [],
   "source": [
    "btn.click()"
   ]
  },
  {
   "cell_type": "code",
   "execution_count": 8,
   "metadata": {},
   "outputs": [
    {
     "ename": "NoSuchWindowException",
     "evalue": "Message: no such window: target window already closed\nfrom unknown error: web view not found\n  (Session info: chrome=124.0.6367.62)\nStacktrace:\n0   undetected_chromedriver             0x0000000102c8bcf8 undetected_chromedriver + 5188856\n1   undetected_chromedriver             0x0000000102c83863 undetected_chromedriver + 5154915\n2   undetected_chromedriver             0x00000001027fc047 undetected_chromedriver + 405575\n3   undetected_chromedriver             0x00000001027d254e undetected_chromedriver + 234830\n4   undetected_chromedriver             0x00000001028727ed undetected_chromedriver + 890861\n5   undetected_chromedriver             0x0000000102888818 undetected_chromedriver + 981016\n6   undetected_chromedriver             0x0000000102869c53 undetected_chromedriver + 855123\n7   undetected_chromedriver             0x000000010283a953 undetected_chromedriver + 661843\n8   undetected_chromedriver             0x000000010283b29e undetected_chromedriver + 664222\n9   undetected_chromedriver             0x0000000102c4a0c0 undetected_chromedriver + 4919488\n10  undetected_chromedriver             0x0000000102c50175 undetected_chromedriver + 4944245\n11  undetected_chromedriver             0x0000000102c2af8e undetected_chromedriver + 4792206\n12  undetected_chromedriver             0x0000000102c50c99 undetected_chromedriver + 4947097\n13  undetected_chromedriver             0x0000000102c1b5e4 undetected_chromedriver + 4728292\n14  undetected_chromedriver             0x0000000102c72d08 undetected_chromedriver + 5086472\n15  undetected_chromedriver             0x0000000102c72ec7 undetected_chromedriver + 5086919\n16  undetected_chromedriver             0x0000000102c83483 undetected_chromedriver + 5153923\n17  libsystem_pthread.dylib             0x00007ff81567b202 _pthread_start + 99\n18  libsystem_pthread.dylib             0x00007ff815676bab thread_start + 15\n",
     "output_type": "error",
     "traceback": [
      "\u001b[0;31m---------------------------------------------------------------------------\u001b[0m",
      "\u001b[0;31mNoSuchWindowException\u001b[0m                     Traceback (most recent call last)",
      "Cell \u001b[0;32mIn[8], line 2\u001b[0m\n\u001b[1;32m      1\u001b[0m \u001b[38;5;66;03m# get page url\u001b[39;00m\n\u001b[0;32m----> 2\u001b[0m \u001b[43mp\u001b[49m\u001b[38;5;241;43m.\u001b[39;49m\u001b[43mdriver\u001b[49m\u001b[38;5;241;43m.\u001b[39;49m\u001b[43mcurrent_url\u001b[49m\n",
      "File \u001b[0;32m/Library/Frameworks/Python.framework/Versions/3.10/lib/python3.10/site-packages/undetected_chromedriver/__init__.py:806\u001b[0m, in \u001b[0;36mChrome.__getattribute__\u001b[0;34m(self, item)\u001b[0m\n\u001b[1;32m    804\u001b[0m \u001b[38;5;28;01mdef\u001b[39;00m \u001b[38;5;21m__getattribute__\u001b[39m(\u001b[38;5;28mself\u001b[39m, item):\n\u001b[1;32m    805\u001b[0m     \u001b[38;5;28;01mif\u001b[39;00m \u001b[38;5;129;01mnot\u001b[39;00m \u001b[38;5;28msuper\u001b[39m()\u001b[38;5;241m.\u001b[39m\u001b[38;5;21m__getattribute__\u001b[39m(\u001b[38;5;124m\"\u001b[39m\u001b[38;5;124mdebug\u001b[39m\u001b[38;5;124m\"\u001b[39m):\n\u001b[0;32m--> 806\u001b[0m         \u001b[38;5;28;01mreturn\u001b[39;00m \u001b[38;5;28;43msuper\u001b[39;49m\u001b[43m(\u001b[49m\u001b[43m)\u001b[49m\u001b[38;5;241;43m.\u001b[39;49m\u001b[38;5;21;43m__getattribute__\u001b[39;49m\u001b[43m(\u001b[49m\u001b[43mitem\u001b[49m\u001b[43m)\u001b[49m\n\u001b[1;32m    807\u001b[0m     \u001b[38;5;28;01melse\u001b[39;00m:\n\u001b[1;32m    808\u001b[0m         \u001b[38;5;28;01mimport\u001b[39;00m \u001b[38;5;21;01minspect\u001b[39;00m\n",
      "File \u001b[0;32m/Library/Frameworks/Python.framework/Versions/3.10/lib/python3.10/site-packages/selenium/webdriver/remote/webdriver.py:437\u001b[0m, in \u001b[0;36mWebDriver.current_url\u001b[0;34m(self)\u001b[0m\n\u001b[1;32m    428\u001b[0m \u001b[38;5;129m@property\u001b[39m\n\u001b[1;32m    429\u001b[0m \u001b[38;5;28;01mdef\u001b[39;00m \u001b[38;5;21mcurrent_url\u001b[39m(\u001b[38;5;28mself\u001b[39m) \u001b[38;5;241m-\u001b[39m\u001b[38;5;241m>\u001b[39m \u001b[38;5;28mstr\u001b[39m:\n\u001b[1;32m    430\u001b[0m \u001b[38;5;250m    \u001b[39m\u001b[38;5;124;03m\"\"\"Gets the URL of the current page.\u001b[39;00m\n\u001b[1;32m    431\u001b[0m \n\u001b[1;32m    432\u001b[0m \u001b[38;5;124;03m    :Usage:\u001b[39;00m\n\u001b[0;32m   (...)\u001b[0m\n\u001b[1;32m    435\u001b[0m \u001b[38;5;124;03m            driver.current_url\u001b[39;00m\n\u001b[1;32m    436\u001b[0m \u001b[38;5;124;03m    \"\"\"\u001b[39;00m\n\u001b[0;32m--> 437\u001b[0m     \u001b[38;5;28;01mreturn\u001b[39;00m \u001b[38;5;28;43mself\u001b[39;49m\u001b[38;5;241;43m.\u001b[39;49m\u001b[43mexecute\u001b[49m\u001b[43m(\u001b[49m\u001b[43mCommand\u001b[49m\u001b[38;5;241;43m.\u001b[39;49m\u001b[43mGET_CURRENT_URL\u001b[49m\u001b[43m)\u001b[49m[\u001b[38;5;124m\"\u001b[39m\u001b[38;5;124mvalue\u001b[39m\u001b[38;5;124m\"\u001b[39m]\n",
      "File \u001b[0;32m/Library/Frameworks/Python.framework/Versions/3.10/lib/python3.10/site-packages/selenium/webdriver/remote/webdriver.py:347\u001b[0m, in \u001b[0;36mWebDriver.execute\u001b[0;34m(self, driver_command, params)\u001b[0m\n\u001b[1;32m    345\u001b[0m response \u001b[38;5;241m=\u001b[39m \u001b[38;5;28mself\u001b[39m\u001b[38;5;241m.\u001b[39mcommand_executor\u001b[38;5;241m.\u001b[39mexecute(driver_command, params)\n\u001b[1;32m    346\u001b[0m \u001b[38;5;28;01mif\u001b[39;00m response:\n\u001b[0;32m--> 347\u001b[0m     \u001b[38;5;28;43mself\u001b[39;49m\u001b[38;5;241;43m.\u001b[39;49m\u001b[43merror_handler\u001b[49m\u001b[38;5;241;43m.\u001b[39;49m\u001b[43mcheck_response\u001b[49m\u001b[43m(\u001b[49m\u001b[43mresponse\u001b[49m\u001b[43m)\u001b[49m\n\u001b[1;32m    348\u001b[0m     response[\u001b[38;5;124m\"\u001b[39m\u001b[38;5;124mvalue\u001b[39m\u001b[38;5;124m\"\u001b[39m] \u001b[38;5;241m=\u001b[39m \u001b[38;5;28mself\u001b[39m\u001b[38;5;241m.\u001b[39m_unwrap_value(response\u001b[38;5;241m.\u001b[39mget(\u001b[38;5;124m\"\u001b[39m\u001b[38;5;124mvalue\u001b[39m\u001b[38;5;124m\"\u001b[39m, \u001b[38;5;28;01mNone\u001b[39;00m))\n\u001b[1;32m    349\u001b[0m     \u001b[38;5;28;01mreturn\u001b[39;00m response\n",
      "File \u001b[0;32m/Library/Frameworks/Python.framework/Versions/3.10/lib/python3.10/site-packages/selenium/webdriver/remote/errorhandler.py:229\u001b[0m, in \u001b[0;36mErrorHandler.check_response\u001b[0;34m(self, response)\u001b[0m\n\u001b[1;32m    227\u001b[0m         alert_text \u001b[38;5;241m=\u001b[39m value[\u001b[38;5;124m\"\u001b[39m\u001b[38;5;124malert\u001b[39m\u001b[38;5;124m\"\u001b[39m]\u001b[38;5;241m.\u001b[39mget(\u001b[38;5;124m\"\u001b[39m\u001b[38;5;124mtext\u001b[39m\u001b[38;5;124m\"\u001b[39m)\n\u001b[1;32m    228\u001b[0m     \u001b[38;5;28;01mraise\u001b[39;00m exception_class(message, screen, stacktrace, alert_text)  \u001b[38;5;66;03m# type: ignore[call-arg]  # mypy is not smart enough here\u001b[39;00m\n\u001b[0;32m--> 229\u001b[0m \u001b[38;5;28;01mraise\u001b[39;00m exception_class(message, screen, stacktrace)\n",
      "\u001b[0;31mNoSuchWindowException\u001b[0m: Message: no such window: target window already closed\nfrom unknown error: web view not found\n  (Session info: chrome=124.0.6367.62)\nStacktrace:\n0   undetected_chromedriver             0x0000000102c8bcf8 undetected_chromedriver + 5188856\n1   undetected_chromedriver             0x0000000102c83863 undetected_chromedriver + 5154915\n2   undetected_chromedriver             0x00000001027fc047 undetected_chromedriver + 405575\n3   undetected_chromedriver             0x00000001027d254e undetected_chromedriver + 234830\n4   undetected_chromedriver             0x00000001028727ed undetected_chromedriver + 890861\n5   undetected_chromedriver             0x0000000102888818 undetected_chromedriver + 981016\n6   undetected_chromedriver             0x0000000102869c53 undetected_chromedriver + 855123\n7   undetected_chromedriver             0x000000010283a953 undetected_chromedriver + 661843\n8   undetected_chromedriver             0x000000010283b29e undetected_chromedriver + 664222\n9   undetected_chromedriver             0x0000000102c4a0c0 undetected_chromedriver + 4919488\n10  undetected_chromedriver             0x0000000102c50175 undetected_chromedriver + 4944245\n11  undetected_chromedriver             0x0000000102c2af8e undetected_chromedriver + 4792206\n12  undetected_chromedriver             0x0000000102c50c99 undetected_chromedriver + 4947097\n13  undetected_chromedriver             0x0000000102c1b5e4 undetected_chromedriver + 4728292\n14  undetected_chromedriver             0x0000000102c72d08 undetected_chromedriver + 5086472\n15  undetected_chromedriver             0x0000000102c72ec7 undetected_chromedriver + 5086919\n16  undetected_chromedriver             0x0000000102c83483 undetected_chromedriver + 5153923\n17  libsystem_pthread.dylib             0x00007ff81567b202 _pthread_start + 99\n18  libsystem_pthread.dylib             0x00007ff815676bab thread_start + 15\n"
     ]
    }
   ],
   "source": [
    "# get page url\n",
    "p.driver.current_url"
   ]
  },
  {
   "cell_type": "code",
   "execution_count": null,
   "metadata": {},
   "outputs": [],
   "source": []
  },
  {
   "cell_type": "code",
   "execution_count": null,
   "metadata": {},
   "outputs": [],
   "source": []
  },
  {
   "cell_type": "code",
   "execution_count": 7,
   "metadata": {},
   "outputs": [
    {
     "name": "stdout",
     "output_type": "stream",
     "text": [
      "\u001b[33mscreenshot:\u001b[37m\t Taking screenshot\n",
      "\u001b[33mscreenshot:\u001b[37m\t Screenshot saved: /Users/hussam/Desktop/Projects/algopologist/data/screenshots/local/inner1/reddit/search/06fa.png\n",
      "\u001b[33mscreenshot:\u001b[37m\t Taking screenshot\n",
      "\u001b[33mscreenshot:\u001b[37m\t Screenshot saved: /Users/hussam/Desktop/Projects/algopologist/data/screenshots/local/inner1/reddit/search/e9f1.png\n",
      "/Users/hussam/Desktop/Projects/algopologist/data/screenshots local inner1 Reddit search 51b4ce91\n",
      "\u001b[33maddSignal:\u001b[37m\t Signal added: search\n",
      "\u001b[33mfollowUser:\u001b[37m\t Term searched\n",
      "\u001b[33m_joinNthUser:\u001b[37m\t https://www.reddit.com/user/nba/\n",
      "\u001b[33mscreenshot:\u001b[37m\t Taking screenshot\n",
      "\u001b[33mscreenshot:\u001b[37m\t Screenshot saved: /Users/hussam/Desktop/Projects/algopologist/data/screenshots/local/inner1/reddit/followUser/3c43.png\n",
      "\u001b[32maddSignal:\u001b[31m\t Error adding object: 'NoneType' object has no attribute 'replace'\n",
      "/Users/hussam/Desktop/Projects/algopologist/data/screenshots local inner1 Reddit follow 68b89715\n",
      "\u001b[33maddSignal:\u001b[37m\t Signal added: follow\n"
     ]
    }
   ],
   "source": [
    "signal = user.followUser('nba')"
   ]
  },
  {
   "cell_type": "code",
   "execution_count": 8,
   "metadata": {},
   "outputs": [
    {
     "name": "stdout",
     "output_type": "stream",
     "text": [
      "\u001b[33mscreenshot:\u001b[37m\t Taking screenshot\n",
      "\u001b[33mscreenshot:\u001b[37m\t Screenshot saved: /Users/hussam/Desktop/Projects/algopologist/data/screenshots/local/inner1/reddit/search/060d.png\n",
      "\u001b[33mscreenshot:\u001b[37m\t Taking screenshot\n",
      "\u001b[33mscreenshot:\u001b[37m\t Screenshot saved: /Users/hussam/Desktop/Projects/algopologist/data/screenshots/local/inner1/reddit/search/f76a.png\n",
      "/Users/hussam/Desktop/Projects/algopologist/data/screenshots local inner1 Reddit search 4c1ae438\n",
      "\u001b[33maddSignal:\u001b[37m\t Signal added: search\n",
      "\u001b[33mjoinCommunity:\u001b[37m\t Term searched\n",
      "\u001b[33m_joinNthSubreddit:\u001b[37m\t nba\n",
      "\u001b[33mscreenshot:\u001b[37m\t Taking screenshot\n",
      "\u001b[33mscreenshot:\u001b[37m\t Screenshot saved: /Users/hussam/Desktop/Projects/algopologist/data/screenshots/local/inner1/reddit/joinCommunity/27b4.png\n",
      "\u001b[32maddSignal:\u001b[31m\t Error adding object: 'NoneType' object has no attribute 'replace'\n",
      "/Users/hussam/Desktop/Projects/algopologist/data/screenshots local inner1 Reddit join e1437771\n",
      "\u001b[33maddSignal:\u001b[37m\t Signal added: join\n"
     ]
    }
   ],
   "source": [
    "user.joinCommunity('nba')"
   ]
  },
  {
   "cell_type": "code",
   "execution_count": null,
   "metadata": {},
   "outputs": [],
   "source": [
    "user.search('nba')"
   ]
  },
  {
   "cell_type": "code",
   "execution_count": 9,
   "metadata": {},
   "outputs": [
    {
     "name": "stdout",
     "output_type": "stream",
     "text": [
      "\u001b[32mopenPost:\u001b[37m\t Opeining post for nba\n",
      "\u001b[33mscreenshot:\u001b[37m\t Taking screenshot\n",
      "\u001b[33mscreenshot:\u001b[37m\t Screenshot saved: /Users/hussam/Desktop/Projects/algopologist/data/screenshots/local/inner1/reddit/search/6673.png\n",
      "\u001b[33mscreenshot:\u001b[37m\t Taking screenshot\n",
      "\u001b[33mscreenshot:\u001b[37m\t Screenshot saved: /Users/hussam/Desktop/Projects/algopologist/data/screenshots/local/inner1/reddit/search/3d03.png\n",
      "/Users/hussam/Desktop/Projects/algopologist/data/screenshots local inner1 Reddit search 8e4097d1\n",
      "\u001b[33maddSignal:\u001b[37m\t Signal added: search\n",
      "\u001b[33mopenPost:\u001b[37m\t Posts: 21\n"
     ]
    },
    {
     "ename": "ValueError",
     "evalue": "too many values to unpack (expected 2)",
     "output_type": "error",
     "traceback": [
      "\u001b[0;31m---------------------------------------------------------------------------\u001b[0m",
      "\u001b[0;31mValueError\u001b[0m                                Traceback (most recent call last)",
      "Cell \u001b[0;32mIn[9], line 1\u001b[0m\n\u001b[0;32m----> 1\u001b[0m \u001b[43muser\u001b[49m\u001b[38;5;241;43m.\u001b[39;49m\u001b[43mopenPost\u001b[49m\u001b[43m(\u001b[49m\u001b[38;5;124;43m'\u001b[39;49m\u001b[38;5;124;43mnba\u001b[39;49m\u001b[38;5;124;43m'\u001b[39;49m\u001b[43m)\u001b[49m\n",
      "File \u001b[0;32m~/Desktop/Projects/algopologist/scripts/../core/users/User.py:137\u001b[0m, in \u001b[0;36mUser.openPost\u001b[0;34m(self, topic)\u001b[0m\n\u001b[1;32m    135\u001b[0m \u001b[38;5;28mself\u001b[39m\u001b[38;5;241m.\u001b[39msearch(topic)\n\u001b[1;32m    136\u001b[0m opened_posts \u001b[38;5;241m=\u001b[39m \u001b[38;5;28mself\u001b[39m\u001b[38;5;241m.\u001b[39mgetOpenedPosts()\n\u001b[0;32m--> 137\u001b[0m post, opened \u001b[38;5;241m=\u001b[39m \u001b[38;5;28mself\u001b[39m\u001b[38;5;241m.\u001b[39mplatform\u001b[38;5;241m.\u001b[39mopenPost(already_opened\u001b[38;5;241m=\u001b[39mopened_posts)\n\u001b[1;32m    138\u001b[0m \u001b[38;5;28mself\u001b[39m\u001b[38;5;241m.\u001b[39mtakeScreenshot()\n\u001b[1;32m    139\u001b[0m \u001b[38;5;28mself\u001b[39m\u001b[38;5;241m.\u001b[39maddSignal(\u001b[38;5;124m'\u001b[39m\u001b[38;5;124mopen\u001b[39m\u001b[38;5;124m'\u001b[39m, post, \u001b[38;5;124m'\u001b[39m\u001b[38;5;124mpost\u001b[39m\u001b[38;5;124m'\u001b[39m, info\u001b[38;5;241m=\u001b[39m\u001b[38;5;124mf\u001b[39m\u001b[38;5;124m'\u001b[39m\u001b[38;5;124msearched-\u001b[39m\u001b[38;5;132;01m{\u001b[39;00mtopic\u001b[38;5;132;01m}\u001b[39;00m\u001b[38;5;124m'\u001b[39m)\n",
      "\u001b[0;31mValueError\u001b[0m: too many values to unpack (expected 2)"
     ]
    }
   ],
   "source": [
    "user.openPost('nba')"
   ]
  },
  {
   "cell_type": "code",
   "execution_count": null,
   "metadata": {},
   "outputs": [],
   "source": [
    "user.likePost('nba')"
   ]
  },
  {
   "cell_type": "code",
   "execution_count": null,
   "metadata": {},
   "outputs": [],
   "source": []
  },
  {
   "cell_type": "code",
   "execution_count": 10,
   "metadata": {},
   "outputs": [
    {
     "name": "stderr",
     "output_type": "stream",
     "text": [
      "sh: taskkill: command not found\n"
     ]
    }
   ],
   "source": [
    "BrowserFactory().getBrowser('').forceCloseDriver()"
   ]
  },
  {
   "cell_type": "code",
   "execution_count": 3,
   "metadata": {},
   "outputs": [],
   "source": [
    "path = './test'\n",
    "driver = uc.Chrome(user_data_dir=path, use_subprocess=False, version_main=122)"
   ]
  },
  {
   "cell_type": "code",
   "execution_count": 4,
   "metadata": {},
   "outputs": [],
   "source": [
    "channels = driver.find_elements(By.XPATH, '//div[@id=\"content-section\"]')\n",
    "position = -1"
   ]
  },
  {
   "cell_type": "code",
   "execution_count": 33,
   "metadata": {},
   "outputs": [
    {
     "ename": "KeyError",
     "evalue": "'descriptionSnippet'",
     "output_type": "error",
     "traceback": [
      "\u001b[1;31m---------------------------------------------------------------------------\u001b[0m",
      "\u001b[1;31mKeyError\u001b[0m                                  Traceback (most recent call last)",
      "Cell \u001b[1;32mIn[33], line 14\u001b[0m\n\u001b[0;32m     12\u001b[0m channel_id \u001b[38;5;241m=\u001b[39m hrefs[\u001b[38;5;241m0\u001b[39m]\u001b[38;5;241m.\u001b[39msplit(\u001b[38;5;124m'\u001b[39m\u001b[38;5;124m@\u001b[39m\u001b[38;5;124m'\u001b[39m)[\u001b[38;5;241m-\u001b[39m\u001b[38;5;241m1\u001b[39m]\n\u001b[0;32m     13\u001b[0m channel \u001b[38;5;241m=\u001b[39m \u001b[38;5;28mdict\u001b[39m()\n\u001b[1;32m---> 14\u001b[0m channel \u001b[38;5;241m=\u001b[39m \u001b[43mtube\u001b[49m\u001b[38;5;241;43m.\u001b[39;49m\u001b[43mgetChannelInfo\u001b[49m\u001b[43m(\u001b[49m\u001b[43mchannel_id\u001b[49m\u001b[43m)\u001b[49m\n\u001b[0;32m     15\u001b[0m channel[\u001b[38;5;124m'\u001b[39m\u001b[38;5;124mtype\u001b[39m\u001b[38;5;124m'\u001b[39m] \u001b[38;5;241m=\u001b[39m \u001b[38;5;124m'\u001b[39m\u001b[38;5;124muser\u001b[39m\u001b[38;5;124m'\u001b[39m\n\u001b[0;32m     16\u001b[0m channel[\u001b[38;5;124m'\u001b[39m\u001b[38;5;124mposition\u001b[39m\u001b[38;5;124m'\u001b[39m] \u001b[38;5;241m=\u001b[39m position\n",
      "Cell \u001b[1;32mIn[27], line 20\u001b[0m, in \u001b[0;36mMyTube.getChannelInfo\u001b[1;34m(self, channel_id)\u001b[0m\n\u001b[0;32m     18\u001b[0m name \u001b[38;5;241m=\u001b[39m channel[\u001b[38;5;124m'\u001b[39m\u001b[38;5;124mtitle\u001b[39m\u001b[38;5;124m'\u001b[39m][\u001b[38;5;124m'\u001b[39m\u001b[38;5;124msimpleText\u001b[39m\u001b[38;5;124m'\u001b[39m]\n\u001b[0;32m     19\u001b[0m \u001b[38;5;28mid\u001b[39m \u001b[38;5;241m=\u001b[39m channel[\u001b[38;5;124m'\u001b[39m\u001b[38;5;124mchannelId\u001b[39m\u001b[38;5;124m'\u001b[39m]\n\u001b[1;32m---> 20\u001b[0m runs \u001b[38;5;241m=\u001b[39m \u001b[43mchannel\u001b[49m\u001b[43m[\u001b[49m\u001b[38;5;124;43m'\u001b[39;49m\u001b[38;5;124;43mdescriptionSnippet\u001b[39;49m\u001b[38;5;124;43m'\u001b[39;49m\u001b[43m]\u001b[49m[\u001b[38;5;124m'\u001b[39m\u001b[38;5;124mruns\u001b[39m\u001b[38;5;124m'\u001b[39m]\n\u001b[0;32m     21\u001b[0m description \u001b[38;5;241m=\u001b[39m [i[\u001b[38;5;124m'\u001b[39m\u001b[38;5;124mtext\u001b[39m\u001b[38;5;124m'\u001b[39m] \u001b[38;5;28;01mfor\u001b[39;00m i \u001b[38;5;129;01min\u001b[39;00m runs]\n\u001b[0;32m     22\u001b[0m description \u001b[38;5;241m=\u001b[39m \u001b[38;5;124m'\u001b[39m\u001b[38;5;124m'\u001b[39m\u001b[38;5;241m.\u001b[39mjoin(description)\n",
      "\u001b[1;31mKeyError\u001b[0m: 'descriptionSnippet'"
     ]
    }
   ],
   "source": [
    "tag = 'ytd-channel-renderer'\n",
    "channels = driver.find_elements(By.XPATH, f'//{tag}')\n",
    "\n",
    "channel_descs = []\n",
    "for channel in channels:\n",
    "    if 'Subscribed' in channel.text:\n",
    "        position +=1\n",
    "        continue\n",
    "\n",
    "    tag = 'a'\n",
    "    hrefs = channel.find_elements(By.XPATH, f'.//{tag}')\n",
    "    hrefs = [href.get_attribute('href') for href in hrefs]\n",
    "    channel_id = hrefs[0].split('@')[-1]\n",
    "    channel = dict()\n",
    "    channel = tube.getChannelInfo(channel_id)\n",
    "    channel['type'] = 'user'\n",
    "    channel['position'] = position\n",
    "    channel_descs.append(channel)\n",
    "\n",
    "    continue   \n",
    "\n",
    "    tag = 'button'\n",
    "    buttons = channel.find_elements(By.XPATH, f'.//{tag}')\n",
    "\n",
    "    subscribed = False\n",
    "    for button in buttons:\n",
    "        if 'Subscribe' in button.text:\n",
    "            button.click()\n",
    "            print('subscribed')\n",
    "            subscribed = True\n",
    "            break\n",
    "\n",
    "    if subscribed:\n",
    "        channel = dict()\n",
    "        channel = tube.getChannelInfo(channel_id)\n",
    "        channel['type'] = 'user'\n",
    "        channel['position'] = position\n",
    "        break\n",
    "\n",
    "        "
   ]
  },
  {
   "cell_type": "code",
   "execution_count": 34,
   "metadata": {},
   "outputs": [
    {
     "data": {
      "text/plain": [
       "{}"
      ]
     },
     "execution_count": 34,
     "metadata": {},
     "output_type": "execute_result"
    }
   ],
   "source": [
    "channel"
   ]
  },
  {
   "cell_type": "code",
   "execution_count": 24,
   "metadata": {},
   "outputs": [],
   "source": [
    "tag = 'ytd-channel-renderer'\n",
    "channels = driver.find_elements(By.XPATH, f'//{tag}')"
   ]
  },
  {
   "cell_type": "code",
   "execution_count": 25,
   "metadata": {},
   "outputs": [
    {
     "ename": "NameError",
     "evalue": "name 'href' is not defined",
     "output_type": "error",
     "traceback": [
      "\u001b[1;31m---------------------------------------------------------------------------\u001b[0m",
      "\u001b[1;31mNameError\u001b[0m                                 Traceback (most recent call last)",
      "Cell \u001b[1;32mIn[25], line 7\u001b[0m\n\u001b[0;32m      4\u001b[0m hrefs \u001b[38;5;241m=\u001b[39m channel\u001b[38;5;241m.\u001b[39mfind_elements(By\u001b[38;5;241m.\u001b[39mXPATH, \u001b[38;5;124mf\u001b[39m\u001b[38;5;124m'\u001b[39m\u001b[38;5;124m.//\u001b[39m\u001b[38;5;132;01m{\u001b[39;00mtag\u001b[38;5;132;01m}\u001b[39;00m\u001b[38;5;124m'\u001b[39m)\n\u001b[0;32m      5\u001b[0m hrefs \u001b[38;5;241m=\u001b[39m [href\u001b[38;5;241m.\u001b[39mget_attribute(\u001b[38;5;124m'\u001b[39m\u001b[38;5;124mhref\u001b[39m\u001b[38;5;124m'\u001b[39m) \u001b[38;5;28;01mfor\u001b[39;00m href \u001b[38;5;129;01min\u001b[39;00m hrefs]\n\u001b[1;32m----> 7\u001b[0m \u001b[43mhref\u001b[49m\n",
      "\u001b[1;31mNameError\u001b[0m: name 'href' is not defined"
     ]
    }
   ],
   "source": [
    "channel = channels[1]\n",
    "# get all hrefs within"
   ]
  },
  {
   "cell_type": "code",
   "execution_count": 27,
   "metadata": {},
   "outputs": [],
   "source": [
    "from innertube import InnerTube\n",
    "\n",
    "class MyTube():\n",
    "    def __init__(self):\n",
    "        self.tube = InnerTube(\"WEB\")\n",
    "        \n",
    "    def getChannelInfo(self, channel_id):\n",
    "        PARAMS_TYPE_CHANNEL = \"EgIQAg%3D%3D\"\n",
    "        data = self.tube.search(channel_id, params=PARAMS_TYPE_CHANNEL)\n",
    "\n",
    "        channels = data['contents']['twoColumnSearchResultsRenderer']['primaryContents']['sectionListRenderer']['contents'][0]['itemSectionRenderer']['contents']\n",
    "        for channel in channels:\n",
    "            if 'channelRenderer' not in channel:\n",
    "                continue\n",
    "            channel = channel['channelRenderer']\n",
    "            break\n",
    "\n",
    "        name = channel['title']['simpleText']\n",
    "        id = channel['channelId']\n",
    "        runs = channel['descriptionSnippet']['runs']\n",
    "        description = [i['text'] for i in runs]\n",
    "        description = ''.join(description)\n",
    "        subscribers = channel['videoCountText']['simpleText']\n",
    "\n",
    "        channel = {\n",
    "            'name': name,\n",
    "            'urlId': channel_id,\n",
    "            'id': id,\n",
    "            'description': description,\n",
    "            'subscribers': subscribers\n",
    "        }\n",
    "        return channel"
   ]
  },
  {
   "cell_type": "code",
   "execution_count": 28,
   "metadata": {},
   "outputs": [
    {
     "data": {
      "text/plain": [
       "['https://www.youtube.com/@NBAHighlights-rt1di',\n",
       " 'https://www.youtube.com/@NBAHighlights-rt1di']"
      ]
     },
     "execution_count": 28,
     "metadata": {},
     "output_type": "execute_result"
    }
   ],
   "source": [
    "hrefs"
   ]
  },
  {
   "cell_type": "code",
   "execution_count": 29,
   "metadata": {},
   "outputs": [
    {
     "data": {
      "text/plain": [
       "{'name': 'NBA Highlights 2024',\n",
       " 'urlId': 'NBAHighlights-rt1di',\n",
       " 'id': 'UC3x4rHaszl7OIyEYC_J6aPA',\n",
       " 'description': 'Look no further than our favorite group! Join now at: https://www.facebook.com/groups/210879048389833 and NEVER miss the\\xa0...',\n",
       " 'subscribers': '467K subscribers'}"
      ]
     },
     "execution_count": 29,
     "metadata": {},
     "output_type": "execute_result"
    }
   ],
   "source": [
    "tube = MyTube()\n",
    "tube.getChannelInfo('NBAHighlights-rt1di')"
   ]
  },
  {
   "cell_type": "code",
   "execution_count": 15,
   "metadata": {},
   "outputs": [
    {
     "data": {
      "text/plain": [
       "'Subscribe'"
      ]
     },
     "execution_count": 15,
     "metadata": {},
     "output_type": "execute_result"
    }
   ],
   "source": [
    "buttons[0].text"
   ]
  },
  {
   "cell_type": "code",
   "execution_count": 11,
   "metadata": {},
   "outputs": [
    {
     "data": {
      "text/plain": [
       "'NBA\\n@NBA•21.6M subscribers\\nThe NBA is the premier professional basketball league in the United States and Canada. The league is truly global, with games ...\\nSign up\\nSubscribed'"
      ]
     },
     "execution_count": 11,
     "metadata": {},
     "output_type": "execute_result"
    }
   ],
   "source": [
    "channels[0].text"
   ]
  },
  {
   "cell_type": "code",
   "execution_count": 7,
   "metadata": {},
   "outputs": [
    {
     "name": "stdout",
     "output_type": "stream",
     "text": [
      "ERROR\n",
      "ERROR\n",
      "ERROR\n",
      "ERROR\n",
      "ERROR\n",
      "ERROR\n",
      "ERROR\n",
      "ERROR\n",
      "ERROR\n",
      "ERROR\n",
      "ERROR\n",
      "ERROR\n",
      "ERROR\n",
      "ERROR\n",
      "ERROR\n",
      "ERROR\n",
      "ERROR\n",
      "ERROR\n",
      "ERROR\n",
      "ERROR\n"
     ]
    }
   ],
   "source": [
    "for channel in channels:\n",
    "    try:\n",
    "        channel_id = channel.find_element(By.XPATH, './/span[@id=\"subscribers\"]')\n",
    "        channel_id = channel_id.text\n",
    "    except:\n",
    "        print(\"ERROR\")\n",
    "    "
   ]
  },
  {
   "cell_type": "code",
   "execution_count": null,
   "metadata": {},
   "outputs": [],
   "source": [
    "for channel in channels:\n",
    "    position += 1\n",
    "    try:\n",
    "        channel_id = channel.find_element(By.XPATH, './/span[@id=\"subscribers\"]')\n",
    "        channel_id = channel_id.text\n",
    "\n",
    "        subscribe_button = channel.find_elements(By.XPATH, './/div[@id=\"subscribe-button\"]')\n",
    "        debug(channel_id)\n",
    "        if len(subscribe_button) == 0:\n",
    "            error('No subscribe button found...: ' + channel_id)\n",
    "            continue\n",
    "\n",
    "        text = subscribe_button[0].text\n",
    "        if text == 'Subscribed':\n",
    "            debug('Already subscribed...: ' + channel_id)\n",
    "            continue\n",
    "        elif text == 'Subscribe':\n",
    "            subscribe_button[0].click()\n",
    "            channel = tube.getChannelInfo(channel_id)\n",
    "            channel['type'] = 'user'\n",
    "            channel['position'] = position\n",
    "            debug('Subscribed: ' + channel['name'])\n",
    "            wait(1)\n",
    "            channel = self.convertToSource(channel, 'search')\n",
    "            return channel\n",
    "        else:\n",
    "            error('Unknown subscribe button text...: ' + channel_id)\n",
    "            continue\n",
    "    except Exception as e:\n",
    "        error('Error')"
   ]
  },
  {
   "cell_type": "code",
   "execution_count": 33,
   "metadata": {},
   "outputs": [],
   "source": [
    "driver.quit()"
   ]
  },
  {
   "cell_type": "code",
   "execution_count": 32,
   "metadata": {},
   "outputs": [
    {
     "ename": "WebDriverException",
     "evalue": "Message: no such execution context: frame does not have execution context\n  (Session info: chrome=123.0.6312.86)\nStacktrace:\n0   undetected_chromedriver             0x00000001049ea2a8 undetected_chromedriver + 4625064\n1   undetected_chromedriver             0x00000001049e1e53 undetected_chromedriver + 4591187\n2   undetected_chromedriver             0x00000001045e0e6a undetected_chromedriver + 392810\n3   undetected_chromedriver             0x00000001045cc704 undetected_chromedriver + 308996\n4   undetected_chromedriver             0x00000001045e4cd5 undetected_chromedriver + 408789\n5   undetected_chromedriver             0x00000001045e812b undetected_chromedriver + 422187\n6   undetected_chromedriver             0x00000001045e81cc undetected_chromedriver + 422348\n7   undetected_chromedriver             0x00000001046706c2 undetected_chromedriver + 980674\n8   undetected_chromedriver             0x0000000104670289 undetected_chromedriver + 979593\n9   undetected_chromedriver             0x000000010464e872 undetected_chromedriver + 841842\n10  undetected_chromedriver             0x000000010466d68f undetected_chromedriver + 968335\n11  undetected_chromedriver             0x000000010464e613 undetected_chromedriver + 841235\n12  undetected_chromedriver             0x000000010461f3da undetected_chromedriver + 648154\n13  undetected_chromedriver             0x000000010461fd1e undetected_chromedriver + 650526\n14  undetected_chromedriver             0x00000001049aaa70 undetected_chromedriver + 4364912\n15  undetected_chromedriver             0x00000001049afe36 undetected_chromedriver + 4386358\n16  undetected_chromedriver             0x000000010498f6de undetected_chromedriver + 4253406\n17  undetected_chromedriver             0x00000001049b0b79 undetected_chromedriver + 4389753\n18  undetected_chromedriver             0x0000000104981a29 undetected_chromedriver + 4196905\n19  undetected_chromedriver             0x00000001049d0b28 undetected_chromedriver + 4520744\n20  undetected_chromedriver             0x00000001049d0d07 undetected_chromedriver + 4521223\n21  undetected_chromedriver             0x00000001049e1a93 undetected_chromedriver + 4590227\n22  libsystem_pthread.dylib             0x00007ff81567b202 _pthread_start + 99\n23  libsystem_pthread.dylib             0x00007ff815676bab thread_start + 15\n",
     "output_type": "error",
     "traceback": [
      "\u001b[0;31m---------------------------------------------------------------------------\u001b[0m",
      "\u001b[0;31mWebDriverException\u001b[0m                        Traceback (most recent call last)",
      "Cell \u001b[0;32mIn[32], line 1\u001b[0m\n\u001b[0;32m----> 1\u001b[0m \u001b[43mdriver\u001b[49m\u001b[38;5;241;43m.\u001b[39;49m\u001b[43mcurrent_url\u001b[49m\n",
      "File \u001b[0;32m/Library/Frameworks/Python.framework/Versions/3.10/lib/python3.10/site-packages/undetected_chromedriver/__init__.py:806\u001b[0m, in \u001b[0;36mChrome.__getattribute__\u001b[0;34m(self, item)\u001b[0m\n\u001b[1;32m    804\u001b[0m \u001b[38;5;28;01mdef\u001b[39;00m \u001b[38;5;21m__getattribute__\u001b[39m(\u001b[38;5;28mself\u001b[39m, item):\n\u001b[1;32m    805\u001b[0m     \u001b[38;5;28;01mif\u001b[39;00m \u001b[38;5;129;01mnot\u001b[39;00m \u001b[38;5;28msuper\u001b[39m()\u001b[38;5;241m.\u001b[39m\u001b[38;5;21m__getattribute__\u001b[39m(\u001b[38;5;124m\"\u001b[39m\u001b[38;5;124mdebug\u001b[39m\u001b[38;5;124m\"\u001b[39m):\n\u001b[0;32m--> 806\u001b[0m         \u001b[38;5;28;01mreturn\u001b[39;00m \u001b[38;5;28;43msuper\u001b[39;49m\u001b[43m(\u001b[49m\u001b[43m)\u001b[49m\u001b[38;5;241;43m.\u001b[39;49m\u001b[38;5;21;43m__getattribute__\u001b[39;49m\u001b[43m(\u001b[49m\u001b[43mitem\u001b[49m\u001b[43m)\u001b[49m\n\u001b[1;32m    807\u001b[0m     \u001b[38;5;28;01melse\u001b[39;00m:\n\u001b[1;32m    808\u001b[0m         \u001b[38;5;28;01mimport\u001b[39;00m \u001b[38;5;21;01minspect\u001b[39;00m\n",
      "File \u001b[0;32m/Library/Frameworks/Python.framework/Versions/3.10/lib/python3.10/site-packages/selenium/webdriver/remote/webdriver.py:437\u001b[0m, in \u001b[0;36mWebDriver.current_url\u001b[0;34m(self)\u001b[0m\n\u001b[1;32m    428\u001b[0m \u001b[38;5;129m@property\u001b[39m\n\u001b[1;32m    429\u001b[0m \u001b[38;5;28;01mdef\u001b[39;00m \u001b[38;5;21mcurrent_url\u001b[39m(\u001b[38;5;28mself\u001b[39m) \u001b[38;5;241m-\u001b[39m\u001b[38;5;241m>\u001b[39m \u001b[38;5;28mstr\u001b[39m:\n\u001b[1;32m    430\u001b[0m \u001b[38;5;250m    \u001b[39m\u001b[38;5;124;03m\"\"\"Gets the URL of the current page.\u001b[39;00m\n\u001b[1;32m    431\u001b[0m \n\u001b[1;32m    432\u001b[0m \u001b[38;5;124;03m    :Usage:\u001b[39;00m\n\u001b[0;32m   (...)\u001b[0m\n\u001b[1;32m    435\u001b[0m \u001b[38;5;124;03m            driver.current_url\u001b[39;00m\n\u001b[1;32m    436\u001b[0m \u001b[38;5;124;03m    \"\"\"\u001b[39;00m\n\u001b[0;32m--> 437\u001b[0m     \u001b[38;5;28;01mreturn\u001b[39;00m \u001b[38;5;28;43mself\u001b[39;49m\u001b[38;5;241;43m.\u001b[39;49m\u001b[43mexecute\u001b[49m\u001b[43m(\u001b[49m\u001b[43mCommand\u001b[49m\u001b[38;5;241;43m.\u001b[39;49m\u001b[43mGET_CURRENT_URL\u001b[49m\u001b[43m)\u001b[49m[\u001b[38;5;124m\"\u001b[39m\u001b[38;5;124mvalue\u001b[39m\u001b[38;5;124m\"\u001b[39m]\n",
      "File \u001b[0;32m/Library/Frameworks/Python.framework/Versions/3.10/lib/python3.10/site-packages/selenium/webdriver/remote/webdriver.py:347\u001b[0m, in \u001b[0;36mWebDriver.execute\u001b[0;34m(self, driver_command, params)\u001b[0m\n\u001b[1;32m    345\u001b[0m response \u001b[38;5;241m=\u001b[39m \u001b[38;5;28mself\u001b[39m\u001b[38;5;241m.\u001b[39mcommand_executor\u001b[38;5;241m.\u001b[39mexecute(driver_command, params)\n\u001b[1;32m    346\u001b[0m \u001b[38;5;28;01mif\u001b[39;00m response:\n\u001b[0;32m--> 347\u001b[0m     \u001b[38;5;28;43mself\u001b[39;49m\u001b[38;5;241;43m.\u001b[39;49m\u001b[43merror_handler\u001b[49m\u001b[38;5;241;43m.\u001b[39;49m\u001b[43mcheck_response\u001b[49m\u001b[43m(\u001b[49m\u001b[43mresponse\u001b[49m\u001b[43m)\u001b[49m\n\u001b[1;32m    348\u001b[0m     response[\u001b[38;5;124m\"\u001b[39m\u001b[38;5;124mvalue\u001b[39m\u001b[38;5;124m\"\u001b[39m] \u001b[38;5;241m=\u001b[39m \u001b[38;5;28mself\u001b[39m\u001b[38;5;241m.\u001b[39m_unwrap_value(response\u001b[38;5;241m.\u001b[39mget(\u001b[38;5;124m\"\u001b[39m\u001b[38;5;124mvalue\u001b[39m\u001b[38;5;124m\"\u001b[39m, \u001b[38;5;28;01mNone\u001b[39;00m))\n\u001b[1;32m    349\u001b[0m     \u001b[38;5;28;01mreturn\u001b[39;00m response\n",
      "File \u001b[0;32m/Library/Frameworks/Python.framework/Versions/3.10/lib/python3.10/site-packages/selenium/webdriver/remote/errorhandler.py:229\u001b[0m, in \u001b[0;36mErrorHandler.check_response\u001b[0;34m(self, response)\u001b[0m\n\u001b[1;32m    227\u001b[0m         alert_text \u001b[38;5;241m=\u001b[39m value[\u001b[38;5;124m\"\u001b[39m\u001b[38;5;124malert\u001b[39m\u001b[38;5;124m\"\u001b[39m]\u001b[38;5;241m.\u001b[39mget(\u001b[38;5;124m\"\u001b[39m\u001b[38;5;124mtext\u001b[39m\u001b[38;5;124m\"\u001b[39m)\n\u001b[1;32m    228\u001b[0m     \u001b[38;5;28;01mraise\u001b[39;00m exception_class(message, screen, stacktrace, alert_text)  \u001b[38;5;66;03m# type: ignore[call-arg]  # mypy is not smart enough here\u001b[39;00m\n\u001b[0;32m--> 229\u001b[0m \u001b[38;5;28;01mraise\u001b[39;00m exception_class(message, screen, stacktrace)\n",
      "\u001b[0;31mWebDriverException\u001b[0m: Message: no such execution context: frame does not have execution context\n  (Session info: chrome=123.0.6312.86)\nStacktrace:\n0   undetected_chromedriver             0x00000001049ea2a8 undetected_chromedriver + 4625064\n1   undetected_chromedriver             0x00000001049e1e53 undetected_chromedriver + 4591187\n2   undetected_chromedriver             0x00000001045e0e6a undetected_chromedriver + 392810\n3   undetected_chromedriver             0x00000001045cc704 undetected_chromedriver + 308996\n4   undetected_chromedriver             0x00000001045e4cd5 undetected_chromedriver + 408789\n5   undetected_chromedriver             0x00000001045e812b undetected_chromedriver + 422187\n6   undetected_chromedriver             0x00000001045e81cc undetected_chromedriver + 422348\n7   undetected_chromedriver             0x00000001046706c2 undetected_chromedriver + 980674\n8   undetected_chromedriver             0x0000000104670289 undetected_chromedriver + 979593\n9   undetected_chromedriver             0x000000010464e872 undetected_chromedriver + 841842\n10  undetected_chromedriver             0x000000010466d68f undetected_chromedriver + 968335\n11  undetected_chromedriver             0x000000010464e613 undetected_chromedriver + 841235\n12  undetected_chromedriver             0x000000010461f3da undetected_chromedriver + 648154\n13  undetected_chromedriver             0x000000010461fd1e undetected_chromedriver + 650526\n14  undetected_chromedriver             0x00000001049aaa70 undetected_chromedriver + 4364912\n15  undetected_chromedriver             0x00000001049afe36 undetected_chromedriver + 4386358\n16  undetected_chromedriver             0x000000010498f6de undetected_chromedriver + 4253406\n17  undetected_chromedriver             0x00000001049b0b79 undetected_chromedriver + 4389753\n18  undetected_chromedriver             0x0000000104981a29 undetected_chromedriver + 4196905\n19  undetected_chromedriver             0x00000001049d0b28 undetected_chromedriver + 4520744\n20  undetected_chromedriver             0x00000001049d0d07 undetected_chromedriver + 4521223\n21  undetected_chromedriver             0x00000001049e1a93 undetected_chromedriver + 4590227\n22  libsystem_pthread.dylib             0x00007ff81567b202 _pthread_start + 99\n23  libsystem_pthread.dylib             0x00007ff815676bab thread_start + 15\n"
     ]
    }
   ],
   "source": [
    "driver.current_url()"
   ]
  },
  {
   "cell_type": "code",
   "execution_count": 6,
   "metadata": {},
   "outputs": [],
   "source": [
    "recommendations = driver.find_elements(By.XPATH, '//a[@class=\"yt-simple-endpoint style-scope ytd-compact-video-renderer\"]')\n",
    "r2 = [recommendation.get_attribute('href').split('?v=')[1] for recommendation in recommendations if recommendation.get_attribute('href')]"
   ]
  },
  {
   "cell_type": "code",
   "execution_count": 7,
   "metadata": {},
   "outputs": [],
   "source": [
    "recommendations = driver.find_elements(By.XPATH, '//a[@class=\"yt-simple-endpoint style-scope ytd-compact-video-renderer\"]')\n",
    "r4 = [recommendation.get_attribute('href').split('?v=')[1] for recommendation in recommendations if recommendation.get_attribute('href')]"
   ]
  },
  {
   "cell_type": "code",
   "execution_count": 17,
   "metadata": {},
   "outputs": [],
   "source": [
    "recommendations = driver.find_elements(By.XPATH, '//a[@class=\"yt-simple-endpoint style-scope ytd-compact-video-renderer\"]')\n",
    "r5 = [recommendation.get_attribute('href').split('?v=')[1] for recommendation in recommendations if recommendation.get_attribute('href')]"
   ]
  },
  {
   "cell_type": "code",
   "execution_count": 8,
   "metadata": {},
   "outputs": [],
   "source": [
    "driver.quit()"
   ]
  },
  {
   "cell_type": "code",
   "execution_count": 9,
   "metadata": {},
   "outputs": [],
   "source": [
    "recs = [r1, r2, r4]"
   ]
  },
  {
   "cell_type": "code",
   "execution_count": 11,
   "metadata": {},
   "outputs": [
    {
     "name": "stdout",
     "output_type": "stream",
     "text": [
      "orMtwOz6Db0\n",
      "JXZpac6TREw\n",
      "DxL2HoqLbyA\n",
      "lFlu60qs7_4\n",
      "E7oEq6CE78g\n",
      "6Mp84uZjPD0\n",
      "RsBc0Yuodq0\n",
      "_IkaetPoBZM\n",
      "Zrv1EDIqHkY\n",
      "s6sdy20_QMM\n",
      "d6iQrh2TK98\n",
      "A5w-dEgIU1M\n",
      "XnhkiF4GXxM\n",
      "-wg9YMOsyBE\n",
      "sZ41zgWHs_I\n",
      "CKJuC5CUMgU\n",
      "cUzklzVXJwo\n",
      "nkh2KkJPy2g\n",
      "vFNgd3pitAI\n",
      "nr4BAnV3E54\n",
      "\n",
      "orMtwOz6Db0\n",
      "JXZpac6TREw\n",
      "DxL2HoqLbyA\n",
      "lFlu60qs7_4\n",
      "nhGwJLXzHs8\n",
      "iWwY6K5Vjyo\n",
      "6Mp84uZjPD0\n",
      "RsBc0Yuodq0\n",
      "Zrv1EDIqHkY\n",
      "s6sdy20_QMM\n",
      "d6iQrh2TK98\n",
      "nkh2KkJPy2g\n",
      "XnhkiF4GXxM\n",
      "-wg9YMOsyBE\n",
      "A5w-dEgIU1M\n",
      "Unzc731iCUY\n",
      "nr4BAnV3E54\n",
      "rbfFt2uNEyQ\n",
      "leoBccWOZfo\n",
      "sZ41zgWHs_I\n",
      "\n",
      "JXZpac6TREw\n",
      "orMtwOz6Db0\n",
      "DxL2HoqLbyA\n",
      "lFlu60qs7_4\n",
      "yPVQtvbiS4Y\n",
      "6Mp84uZjPD0\n",
      "iWwY6K5Vjyo\n",
      "lkLxH2lSJnM\n",
      "RsBc0Yuodq0\n",
      "s6sdy20_QMM\n",
      "A5w-dEgIU1M\n",
      "Zrv1EDIqHkY\n",
      "XnhkiF4GXxM\n",
      "rGn1zHhXUWY\n",
      "nr4BAnV3E54\n",
      "068rdc75mHM\n",
      "leoBccWOZfo\n",
      "QB5xgOhLLVw\n",
      "d6iQrh2TK98\n",
      "nkh2KkJPy2g\n",
      "\n"
     ]
    }
   ],
   "source": [
    "recs = [r1, r2, r4]\n",
    "\n",
    "for r in recs:\n",
    "    for i in r[:20]:\n",
    "        print(i.split('&t=')[0])\n",
    "    print('')"
   ]
  },
  {
   "cell_type": "code",
   "execution_count": 37,
   "metadata": {},
   "outputs": [
    {
     "name": "stdout",
     "output_type": "stream",
     "text": [
      "orMtwOz6Db0\n",
      "DxL2HoqLbyA\n",
      "kD5yc1LQrpQ\n",
      "JXZpac6TREw\n",
      "lFlu60qs7_4\n",
      "6Mp84uZjPD0\n",
      "RsBc0Yuodq0\n",
      "O8hhwSn1iaU\n",
      "s6sdy20_QMM\n",
      "7xcBDg2JYkg\n",
      "d6iQrh2TK98\n",
      "nkh2KkJPy2g\n",
      "-wg9YMOsyBE\n",
      "XnhkiF4GXxM\n",
      "QaKwqsSIbIo\n",
      "leoBccWOZfo\n",
      "z5_BDLnE818\n",
      "b1lcAX354cg\n",
      "8ePu81ssU4M\n",
      "5hVmeOCJjOU\n",
      "\n"
     ]
    }
   ],
   "source": [
    "for i in r1:\n",
    "    print(i.split('&t=')[0])\n",
    "print('')"
   ]
  },
  {
   "cell_type": "code",
   "execution_count": 12,
   "metadata": {},
   "outputs": [],
   "source": [
    "import pyautogui as gui\n",
    "sleep(4)\n",
    "gui.moveTo(1140, 726)"
   ]
  },
  {
   "cell_type": "code",
   "execution_count": 19,
   "metadata": {},
   "outputs": [
    {
     "ename": "SyntaxError",
     "evalue": "'return' outside function (606186253.py, line 10)",
     "output_type": "error",
     "traceback": [
      "\u001b[1;36m  Cell \u001b[1;32mIn[19], line 10\u001b[1;36m\u001b[0m\n\u001b[1;33m    return\u001b[0m\n\u001b[1;37m    ^\u001b[0m\n\u001b[1;31mSyntaxError\u001b[0m\u001b[1;31m:\u001b[0m 'return' outside function\n"
     ]
    }
   ],
   "source": [
    "sleep(4)\n",
    "monkey.GotIt()\n",
    "sleep(2)\n",
    "monkey.GotIt()\n",
    "sleep(1)\n",
    "monkey.remindMeLater()\n",
    "sleep(3)\n",
    "gui.hotkey('win', 'up')\n",
    "sleep(5)\n",
    "return "
   ]
  },
  {
   "cell_type": "code",
   "execution_count": 21,
   "metadata": {},
   "outputs": [],
   "source": [
    "driver.quit()"
   ]
  },
  {
   "cell_type": "code",
   "execution_count": null,
   "metadata": {},
   "outputs": [],
   "source": []
  }
 ],
 "metadata": {
  "kernelspec": {
   "display_name": "Python 3",
   "language": "python",
   "name": "python3"
  },
  "language_info": {
   "codemirror_mode": {
    "name": "ipython",
    "version": 3
   },
   "file_extension": ".py",
   "mimetype": "text/x-python",
   "name": "python",
   "nbconvert_exporter": "python",
   "pygments_lexer": "ipython3",
   "version": "3.10.4"
  }
 },
 "nbformat": 4,
 "nbformat_minor": 2
}
