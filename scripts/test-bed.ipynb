{
 "cells": [
  {
   "cell_type": "code",
   "execution_count": 5,
   "metadata": {},
   "outputs": [],
   "source": [
    "import sys\n",
    "sys.path.append('C:\\\\Users\\\\hussa\\\\Desktop\\\\algopologist')\n",
    "\n",
    "from core.utils.log import *\n",
    "import os\n",
    "import pyautogui as gui\n",
    "from selenium import webdriver\n",
    "from selenium.webdriver.chrome.service import Service\n",
    "from selenium.webdriver.chrome.options import Options\n",
    "from webdriver_manager.chrome import ChromeDriverManager\n",
    "import undetected_chromedriver as uc\n",
    "from seleniumwire import undetected_chromedriver as seleniumwire_uc\n",
    "from time import sleep\n",
    "import core.constants as constants\n",
    "import pickle as pkl\n",
    "import core.utils.monkey as monkey\n",
    "from core.utils.IPManager import IPManager\n",
    "\n",
    "\n",
    "session = 'xp1nba1'\n",
    "path = os.path.join(constants.SESSIONS_PATH, session)\n",
    "options = uc.ChromeOptions()\n",
    "options.add_argument(\"--disable-notifications\")\n",
    "options.add_argument('--no-sandbox')\n",
    "options.add_argument(\"--disable-infobars\")\n",
    "\n",
    "ip = IPManager.get_ip(session)\n",
    "\n",
    "sw_options = {\n",
    "    'proxy': {\n",
    "        'https': f'https://{ip}'\n",
    "    }\n",
    "}"
   ]
  },
  {
   "cell_type": "code",
   "execution_count": 6,
   "metadata": {},
   "outputs": [
    {
     "data": {
      "text/plain": [
       "'atzjccgt:nbx7cscbtyai@103.4.248.201:6509'"
      ]
     },
     "execution_count": 6,
     "metadata": {},
     "output_type": "execute_result"
    }
   ],
   "source": [
    "ip"
   ]
  },
  {
   "cell_type": "code",
   "execution_count": 7,
   "metadata": {},
   "outputs": [],
   "source": [
    "driver = seleniumwire_uc.Chrome(user_data_dir=path, options=options, use_subprocess=False, seleniumwire_options=sw_options, version_main=122)"
   ]
  },
  {
   "cell_type": "code",
   "execution_count": 20,
   "metadata": {},
   "outputs": [],
   "source": [
    "driver.get('https://www.whatismyip.com/')"
   ]
  },
  {
   "cell_type": "code",
   "execution_count": 12,
   "metadata": {},
   "outputs": [],
   "source": [
    "import pyautogui as gui\n",
    "sleep(4)\n",
    "gui.moveTo(1140, 726)"
   ]
  },
  {
   "cell_type": "code",
   "execution_count": 19,
   "metadata": {},
   "outputs": [
    {
     "ename": "SyntaxError",
     "evalue": "'return' outside function (606186253.py, line 10)",
     "output_type": "error",
     "traceback": [
      "\u001b[1;36m  Cell \u001b[1;32mIn[19], line 10\u001b[1;36m\u001b[0m\n\u001b[1;33m    return\u001b[0m\n\u001b[1;37m    ^\u001b[0m\n\u001b[1;31mSyntaxError\u001b[0m\u001b[1;31m:\u001b[0m 'return' outside function\n"
     ]
    }
   ],
   "source": [
    "sleep(4)\n",
    "monkey.GotIt()\n",
    "sleep(2)\n",
    "monkey.GotIt()\n",
    "sleep(1)\n",
    "monkey.remindMeLater()\n",
    "sleep(3)\n",
    "gui.hotkey('win', 'up')\n",
    "sleep(5)\n",
    "return "
   ]
  },
  {
   "cell_type": "code",
   "execution_count": 21,
   "metadata": {},
   "outputs": [],
   "source": [
    "driver.quit()"
   ]
  },
  {
   "cell_type": "code",
   "execution_count": null,
   "metadata": {},
   "outputs": [],
   "source": []
  }
 ],
 "metadata": {
  "kernelspec": {
   "display_name": "Python 3",
   "language": "python",
   "name": "python3"
  },
  "language_info": {
   "codemirror_mode": {
    "name": "ipython",
    "version": 3
   },
   "file_extension": ".py",
   "mimetype": "text/x-python",
   "name": "python",
   "nbconvert_exporter": "python",
   "pygments_lexer": "ipython3",
   "version": "3.11.8"
  }
 },
 "nbformat": 4,
 "nbformat_minor": 2
}
