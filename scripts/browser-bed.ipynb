{
 "cells": [
  {
   "cell_type": "code",
   "execution_count": 1,
   "metadata": {},
   "outputs": [],
   "source": [
    "import sys\n",
    "import os\n",
    "sys.path.append(os.path.join('Users', 'hussam', 'Desktop', 'Projects', 'Platform behavior' ))\n",
    "\n",
    "import os\n",
    "import pyautogui as gui\n",
    "from selenium import webdriver\n",
    "from selenium.webdriver.chrome.service import Service\n",
    "from selenium.webdriver.chrome.options import Options\n",
    "from webdriver_manager.chrome import ChromeDriverManager\n",
    "import undetected_chromedriver as uc\n",
    "from seleniumwire import undetected_chromedriver as seleniumwire_uc\n",
    "from time import sleep\n",
    "import pickle as pkl"
   ]
  },
  {
   "cell_type": "code",
   "execution_count": 2,
   "metadata": {},
   "outputs": [],
   "source": [
    "from selenium.webdriver.common.by import By"
   ]
  },
  {
   "cell_type": "code",
   "execution_count": 3,
   "metadata": {},
   "outputs": [],
   "source": [
    "path = '/Users/hussam/Desktop/dump'\n",
    "driver = uc.Chrome(user_data_dir=path, use_subprocess=False, version_main=122)"
   ]
  },
  {
   "cell_type": "code",
   "execution_count": 5,
   "metadata": {},
   "outputs": [],
   "source": [
    "youtube_video = 'https://www.youtube.com/watch?v=6ZfuNTqbHE8'\n",
    "driver.get(youtube_video)"
   ]
  },
  {
   "cell_type": "code",
   "execution_count": 6,
   "metadata": {},
   "outputs": [],
   "source": [
    "recommendations = driver.find_elements(By.XPATH, '//a[@class=\"yt-simple-endpoint style-scope ytd-compact-video-renderer\"]')\n",
    "r5 = [recommendation.get_attribute('href').split('?v=')[1] for recommendation in recommendations if recommendation.get_attribute('href')]"
   ]
  },
  {
   "cell_type": "code",
   "execution_count": 7,
   "metadata": {},
   "outputs": [
    {
     "data": {
      "text/plain": [
       "['TcMBFSGVi1c',\n",
       " 'QwievZ1Tx-8',\n",
       " 'ThgmWpXkKMI',\n",
       " 'er3h_STlp-k',\n",
       " 'StIyBuss5J8',\n",
       " 'i1nN8vYjZQA',\n",
       " '_aSS66X30Ag',\n",
       " 'sGbxmsDFVnE',\n",
       " 'NWepvH6LnEw',\n",
       " 'gonAaBYuB-g',\n",
       " '0jNvJU52LvU',\n",
       " 'uJMCNJP2ipI',\n",
       " 'ivT0cjLSkPk',\n",
       " 'fe23qEYoVy4',\n",
       " '8Qn_spdM5Zg',\n",
       " 'GV9AEEIeHrQ',\n",
       " 'TWB31WFomz4',\n",
       " 'FkTybqcX-Yo',\n",
       " 'Lb2wwEx6DVw',\n",
       " 'h5_uli_U7Fg']"
      ]
     },
     "execution_count": 7,
     "metadata": {},
     "output_type": "execute_result"
    }
   ],
   "source": [
    "r5"
   ]
  },
  {
   "cell_type": "code",
   "execution_count": 8,
   "metadata": {},
   "outputs": [],
   "source": [
    "driver.quit()"
   ]
  },
  {
   "cell_type": "code",
   "execution_count": 9,
   "metadata": {},
   "outputs": [],
   "source": [
    "recs = [r1, r2, r4]"
   ]
  },
  {
   "cell_type": "code",
   "execution_count": 11,
   "metadata": {},
   "outputs": [
    {
     "name": "stdout",
     "output_type": "stream",
     "text": [
      "orMtwOz6Db0\n",
      "JXZpac6TREw\n",
      "DxL2HoqLbyA\n",
      "lFlu60qs7_4\n",
      "E7oEq6CE78g\n",
      "6Mp84uZjPD0\n",
      "RsBc0Yuodq0\n",
      "_IkaetPoBZM\n",
      "Zrv1EDIqHkY\n",
      "s6sdy20_QMM\n",
      "d6iQrh2TK98\n",
      "A5w-dEgIU1M\n",
      "XnhkiF4GXxM\n",
      "-wg9YMOsyBE\n",
      "sZ41zgWHs_I\n",
      "CKJuC5CUMgU\n",
      "cUzklzVXJwo\n",
      "nkh2KkJPy2g\n",
      "vFNgd3pitAI\n",
      "nr4BAnV3E54\n",
      "\n",
      "orMtwOz6Db0\n",
      "JXZpac6TREw\n",
      "DxL2HoqLbyA\n",
      "lFlu60qs7_4\n",
      "nhGwJLXzHs8\n",
      "iWwY6K5Vjyo\n",
      "6Mp84uZjPD0\n",
      "RsBc0Yuodq0\n",
      "Zrv1EDIqHkY\n",
      "s6sdy20_QMM\n",
      "d6iQrh2TK98\n",
      "nkh2KkJPy2g\n",
      "XnhkiF4GXxM\n",
      "-wg9YMOsyBE\n",
      "A5w-dEgIU1M\n",
      "Unzc731iCUY\n",
      "nr4BAnV3E54\n",
      "rbfFt2uNEyQ\n",
      "leoBccWOZfo\n",
      "sZ41zgWHs_I\n",
      "\n",
      "JXZpac6TREw\n",
      "orMtwOz6Db0\n",
      "DxL2HoqLbyA\n",
      "lFlu60qs7_4\n",
      "yPVQtvbiS4Y\n",
      "6Mp84uZjPD0\n",
      "iWwY6K5Vjyo\n",
      "lkLxH2lSJnM\n",
      "RsBc0Yuodq0\n",
      "s6sdy20_QMM\n",
      "A5w-dEgIU1M\n",
      "Zrv1EDIqHkY\n",
      "XnhkiF4GXxM\n",
      "rGn1zHhXUWY\n",
      "nr4BAnV3E54\n",
      "068rdc75mHM\n",
      "leoBccWOZfo\n",
      "QB5xgOhLLVw\n",
      "d6iQrh2TK98\n",
      "nkh2KkJPy2g\n",
      "\n"
     ]
    }
   ],
   "source": [
    "recs = [r1, r2, r4]\n",
    "\n",
    "for r in recs:\n",
    "    for i in r[:20]:\n",
    "        print(i.split('&t=')[0])\n",
    "    print('')"
   ]
  },
  {
   "cell_type": "code",
   "execution_count": 37,
   "metadata": {},
   "outputs": [
    {
     "name": "stdout",
     "output_type": "stream",
     "text": [
      "orMtwOz6Db0\n",
      "DxL2HoqLbyA\n",
      "kD5yc1LQrpQ\n",
      "JXZpac6TREw\n",
      "lFlu60qs7_4\n",
      "6Mp84uZjPD0\n",
      "RsBc0Yuodq0\n",
      "O8hhwSn1iaU\n",
      "s6sdy20_QMM\n",
      "7xcBDg2JYkg\n",
      "d6iQrh2TK98\n",
      "nkh2KkJPy2g\n",
      "-wg9YMOsyBE\n",
      "XnhkiF4GXxM\n",
      "QaKwqsSIbIo\n",
      "leoBccWOZfo\n",
      "z5_BDLnE818\n",
      "b1lcAX354cg\n",
      "8ePu81ssU4M\n",
      "5hVmeOCJjOU\n",
      "\n"
     ]
    }
   ],
   "source": [
    "for i in r1:\n",
    "    print(i.split('&t=')[0])\n",
    "print('')"
   ]
  },
  {
   "cell_type": "code",
   "execution_count": 12,
   "metadata": {},
   "outputs": [],
   "source": [
    "import pyautogui as gui\n",
    "sleep(4)\n",
    "gui.moveTo(1140, 726)"
   ]
  },
  {
   "cell_type": "code",
   "execution_count": 19,
   "metadata": {},
   "outputs": [
    {
     "ename": "SyntaxError",
     "evalue": "'return' outside function (606186253.py, line 10)",
     "output_type": "error",
     "traceback": [
      "\u001b[1;36m  Cell \u001b[1;32mIn[19], line 10\u001b[1;36m\u001b[0m\n\u001b[1;33m    return\u001b[0m\n\u001b[1;37m    ^\u001b[0m\n\u001b[1;31mSyntaxError\u001b[0m\u001b[1;31m:\u001b[0m 'return' outside function\n"
     ]
    }
   ],
   "source": [
    "sleep(4)\n",
    "monkey.GotIt()\n",
    "sleep(2)\n",
    "monkey.GotIt()\n",
    "sleep(1)\n",
    "monkey.remindMeLater()\n",
    "sleep(3)\n",
    "gui.hotkey('win', 'up')\n",
    "sleep(5)\n",
    "return "
   ]
  },
  {
   "cell_type": "code",
   "execution_count": 21,
   "metadata": {},
   "outputs": [],
   "source": [
    "driver.quit()"
   ]
  },
  {
   "cell_type": "code",
   "execution_count": null,
   "metadata": {},
   "outputs": [],
   "source": []
  }
 ],
 "metadata": {
  "kernelspec": {
   "display_name": "Python 3",
   "language": "python",
   "name": "python3"
  },
  "language_info": {
   "codemirror_mode": {
    "name": "ipython",
    "version": 3
   },
   "file_extension": ".py",
   "mimetype": "text/x-python",
   "name": "python",
   "nbconvert_exporter": "python",
   "pygments_lexer": "ipython3",
   "version": "3.10.4"
  }
 },
 "nbformat": 4,
 "nbformat_minor": 2
}
