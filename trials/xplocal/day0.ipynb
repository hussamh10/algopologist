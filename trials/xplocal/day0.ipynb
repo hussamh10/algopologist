{
 "cells": [
  {
   "cell_type": "code",
   "execution_count": 1,
   "metadata": {},
   "outputs": [
    {
     "name": "stdout",
     "output_type": "stream",
     "text": [
      "{'treatments': [{'action': 'like', 'topic': 'oscars'}, {'action': '', 'topic': ''}], 'replication': 1, 'days': 2, 'experiment_id': 'xpbig', 'platforms': ['Twitter', 'Facebook'], 'email_template': 'xpbigaceap', 'database': 'experiment.db', 'path': 'H:\\\\Desktop\\\\spartaaceap-master\\\\engine\\\\xpbig\\\\data'}\n"
     ]
    }
   ],
   "source": [
    "import json\n",
    "from experiment.Experiment import Experiment\n",
    "from account_creation.GoogleWorkspace import GoogleWorkspace\n",
    "from utils import shuffleIP as IP\n",
    "from utils.log import debug, error, logging\n",
    "from utils.util import wait, bigWait\n",
    "\n",
    "config = json.load(open('config.json', 'r'))\n",
    "platforms = config['platforms']\n",
    "print(config)"
   ]
  },
  {
   "cell_type": "code",
   "execution_count": null,
   "metadata": {},
   "outputs": [],
   "source": [
    "import json\n",
    "from experiment.Experiment import Experiment\n",
    "from account_creation.GoogleWorkspace import GoogleWorkspace\n",
    "from utils import shuffleIP as IP\n",
    "from utils.log import debug, error, logging\n",
    "from utils.util import wait, bigWait\n",
    "\n",
    "config = json.load(open('config.json', 'r'))\n",
    "platforms = config['platforms']\n",
    "print(config)\n",
    "\n",
    "GW = GoogleWorkspace()\n",
    "if GW.needUsers(config):\n",
    "    GW.createUsers(config)\n",
    "\n",
    "experiment_subjects = dict()\n",
    "for platform in platforms:\n",
    "    experiment = Experiment('config.json', platform)\n",
    "    experiment.initiate()\n",
    "    experiment_subjects[platform] = experiment.get_subjects()\n",
    "\n",
    "subjects = dict()\n",
    "for platform in platforms:\n",
    "    for subject in experiment_subjects[platform]:\n",
    "        if subject.id not in subjects:\n",
    "            subjects[subject.id] = dict()\n",
    "        subjects[subject.id][platform] = subject\n",
    "\n",
    "subject_names = list(subjects.keys())\n",
    "for subject_name in subject_names:\n",
    "    chrome = subjects[subject_name]['Twitter']\n",
    "    signed = chrome.checkChromeSignin()\n",
    "    debug(f'Chrome signed in: {signed}')\n",
    "    if not signed:\n",
    "        error(f'Chrome not signed in: {subject_name}')\n",
    "        chrome.chromeSignIn()\n",
    "\n",
    "    for platform in platforms:\n",
    "        logging(f'Platform: {platform}, Subject: {subject_name}')\n",
    "        subject = subjects[subject_name][platform]\n",
    "        try:\n",
    "            logging(f'\\t Signing in {subject_name} on {platform}')\n",
    "            signed = subject.platformSignIn()\n",
    "        except Exception as e:\n",
    "            error(f'\\t Error signing in {subject_name} on {platform}')\n",
    "            error(f'\\t {e}')\n",
    "        debug(f'Signed in {subject_name} on {platform}')\n",
    "    bigWait(5)"
   ]
  },
  {
   "cell_type": "code",
   "execution_count": 6,
   "metadata": {},
   "outputs": [],
   "source": []
  },
  {
   "cell_type": "code",
   "execution_count": 2,
   "metadata": {},
   "outputs": [
    {
     "name": "stdout",
     "output_type": "stream",
     "text": [
      "\u001b[33m__init__:\u001b[30m\t Loading experiment config\n",
      "\u001b[33m__init__:\u001b[30m\t Saving experiment\n",
      "\u001b[33minitiate:\u001b[30m\t Initiating Twitter experiment...\n",
      "\u001b[33minitiate:\u001b[30m\t \t Creating subjects\n",
      "\u001b[33massignChrome:\u001b[30m\t \t\t\t Assigning xpbigaceap0 chrome for like_oscars_0\n",
      "\u001b[33massignChrome:\u001b[30m\t \t\t\t Assigning xpbigaceap1 chrome for __0\n",
      "\u001b[33m__init__:\u001b[30m\t Loading experiment config\n",
      "\u001b[33m__init__:\u001b[30m\t Saving experiment\n",
      "\u001b[33minitiate:\u001b[30m\t Initiating Facebook experiment...\n",
      "\u001b[33minitiate:\u001b[30m\t \t Creating subjects\n",
      "\u001b[33massignChrome:\u001b[30m\t \t\t\t Assigning xpbigaceap0 chrome for like_oscars_0\n",
      "\u001b[33massignChrome:\u001b[30m\t \t\t\t Assigning xpbigaceap1 chrome for __0\n"
     ]
    }
   ],
   "source": [
    "experiment_subjects = dict()\n",
    "for platform in platforms:\n",
    "    experiment = Experiment('config.json', platform)\n",
    "    experiment.initiate()\n",
    "    experiment_subjects[platform] = experiment.get_subjects()\n",
    "\n",
    "subjects = dict()\n",
    "for platform in platforms:\n",
    "    for subject in experiment_subjects[platform]:\n",
    "        if subject.id not in subjects:\n",
    "            subjects[subject.id] = dict()\n",
    "        subjects[subject.id][platform] = subject"
   ]
  },
  {
   "cell_type": "markdown",
   "metadata": {},
   "source": []
  },
  {
   "cell_type": "code",
   "execution_count": 3,
   "metadata": {},
   "outputs": [
    {
     "name": "stdout",
     "output_type": "stream",
     "text": [
      "\u001b[33m<module>:\u001b[30m\t Chrome signed in: True\n",
      "\u001b[33mlogging:\u001b[30m\t Platform: Twitter, Subject: like_oscars_0\n",
      "\u001b[33mlogging:\u001b[30m\t \t Signing in like_oscars_0 on Twitter\n",
      "\u001b[33mchromeSignUp:\u001b[30m\t Email: None\n",
      "H:\\Desktop\\spartaaceap-master\\engine\\data\\screenshots xpbig xpbigaceap0 Twitter create 82458fad\n",
      "\u001b[33mscreenshot:\u001b[30m\t Taking screenshot\n",
      "\u001b[33mscreenshot:\u001b[30m\t Screenshot saved: H:\\Desktop\\spartaaceap-master\\engine\\data\\screenshots\\xpbig\\xpbigaceap0\\Twitter\\create-82458fad.png\n",
      "\u001b[33maddSignal:\u001b[30m\t Signal added: create\n",
      "\u001b[32mcloseDriver:\u001b[30m\t Closing browser\n",
      "\u001b[32mcloseDriver:\u001b[31m\t Could not close browser\n",
      "\u001b[32mcloseDriver:\u001b[31m\t [WinError 5] Access is denied\n",
      "\u001b[33m<module>:\u001b[30m\t Signed in like_oscars_0 on Twitter\n",
      "\u001b[33mlogging:\u001b[30m\t Platform: Facebook, Subject: like_oscars_0\n",
      "\u001b[33mlogging:\u001b[30m\t \t Signing in like_oscars_0 on Facebook\n",
      "\u001b[33mget_phone_number:\u001b[30m\t Trying US\n",
      "\u001b[33mget_phone_number:\u001b[30m\t ORDER_ID_3610814_NUMBER_7162594270\n",
      "\u001b[33mcreateUserMobile:\u001b[30m\t USA\n",
      "\u001b[33mcreateUserMobile:\u001b[30m\t 7162594270\n",
      "\u001b[33mget_code:\u001b[30m\t key: 991e49c07e4d5ba878b66a1828c602b8\n",
      "\u001b[33mget_code:\u001b[30m\t order_number: 3610814\n",
      "\u001b[33mget_code:\u001b[30m\t WAITING\n",
      "\u001b[33mget_code:\u001b[30m\t key: 991e49c07e4d5ba878b66a1828c602b8\n",
      "\u001b[33mget_code:\u001b[30m\t order_number: 3610814\n",
      "\u001b[33mget_code:\u001b[30m\t WAITING\n",
      "\u001b[33mget_code:\u001b[30m\t key: 991e49c07e4d5ba878b66a1828c602b8\n",
      "\u001b[33mget_code:\u001b[30m\t order_number: 3610814\n",
      "\u001b[33mget_code:\u001b[30m\t WAITING\n",
      "\u001b[33mget_code:\u001b[30m\t key: 991e49c07e4d5ba878b66a1828c602b8\n",
      "\u001b[33mget_code:\u001b[30m\t order_number: 3610814\n",
      "\u001b[33mget_code:\u001b[30m\t WAITING\n",
      "\u001b[33mget_code:\u001b[30m\t key: 991e49c07e4d5ba878b66a1828c602b8\n",
      "\u001b[33mget_code:\u001b[30m\t order_number: 3610814\n",
      "\u001b[33mget_code:\u001b[30m\t SUCCESS_FB-37608 is your Facebook confirmation code\n",
      "\u001b[33mget_code:\u001b[30m\t 37608\n",
      "\u001b[33mcreateUserMobile:\u001b[30m\t 37608\n",
      "\u001b[33mchromeSignUp:\u001b[30m\t Email: Catherine_Manning@spartaaceap.com\n",
      "H:\\Desktop\\spartaaceap-master\\engine\\data\\screenshots xpbig xpbigaceap0 Facebook create f6efe9ee\n",
      "\u001b[33mscreenshot:\u001b[30m\t Taking screenshot\n",
      "\u001b[33mscreenshot:\u001b[30m\t Screenshot saved: H:\\Desktop\\spartaaceap-master\\engine\\data\\screenshots\\xpbig\\xpbigaceap0\\Facebook\\create-f6efe9ee.png\n",
      "\u001b[33maddSignal:\u001b[30m\t Signal added: create\n",
      "\u001b[32mcloseDriver:\u001b[30m\t Closing browser\n",
      "\u001b[32mcloseDriver:\u001b[31m\t Could not close browser\n",
      "\u001b[32mcloseDriver:\u001b[31m\t [WinError 5] Access is denied\n",
      "\u001b[33m<module>:\u001b[30m\t Signed in like_oscars_0 on Facebook\n",
      "\u001b[33mbigWait:\u001b[30m\t Waiting for 5 minutes\n"
     ]
    },
    {
     "name": "stderr",
     "output_type": "stream",
     "text": [
      "100%|██████████| 300/300 [05:00<00:00,  1.00s/it]\n"
     ]
    },
    {
     "name": "stdout",
     "output_type": "stream",
     "text": [
      "\u001b[33m<module>:\u001b[30m\t Chrome signed in: True\n",
      "\u001b[33mlogging:\u001b[30m\t Platform: Twitter, Subject: __0\n",
      "\u001b[33mlogging:\u001b[30m\t \t Signing in __0 on Twitter\n",
      "\u001b[33mchromeSignUp:\u001b[30m\t Email: None\n",
      "H:\\Desktop\\spartaaceap-master\\engine\\data\\screenshots xpbig xpbigaceap1 Twitter create c3d9f00c\n",
      "\u001b[33mscreenshot:\u001b[30m\t Taking screenshot\n",
      "\u001b[33mscreenshot:\u001b[30m\t Screenshot saved: H:\\Desktop\\spartaaceap-master\\engine\\data\\screenshots\\xpbig\\xpbigaceap1\\Twitter\\create-c3d9f00c.png\n",
      "\u001b[33maddSignal:\u001b[30m\t Signal added: create\n",
      "\u001b[32mcloseDriver:\u001b[30m\t Closing browser\n",
      "\u001b[32mcloseDriver:\u001b[31m\t Could not close browser\n",
      "\u001b[32mcloseDriver:\u001b[31m\t [WinError 5] Access is denied\n",
      "\u001b[33m<module>:\u001b[30m\t Signed in __0 on Twitter\n",
      "\u001b[33mlogging:\u001b[30m\t Platform: Facebook, Subject: __0\n",
      "\u001b[33mlogging:\u001b[30m\t \t Signing in __0 on Facebook\n",
      "\u001b[33mget_phone_number:\u001b[30m\t Trying US\n",
      "\u001b[33mget_phone_number:\u001b[30m\t ORDER_ID_3610861_NUMBER_8125529561\n",
      "\u001b[33mcreateUserMobile:\u001b[30m\t USA\n",
      "\u001b[33mcreateUserMobile:\u001b[30m\t 8125529561\n",
      "\u001b[33mget_code:\u001b[30m\t key: 991e49c07e4d5ba878b66a1828c602b8\n",
      "\u001b[33mget_code:\u001b[30m\t order_number: 3610861\n",
      "\u001b[33mget_code:\u001b[30m\t WAITING\n",
      "\u001b[33mget_code:\u001b[30m\t key: 991e49c07e4d5ba878b66a1828c602b8\n",
      "\u001b[33mget_code:\u001b[30m\t order_number: 3610861\n",
      "\u001b[33mget_code:\u001b[30m\t WAITING\n",
      "\u001b[33mget_code:\u001b[30m\t key: 991e49c07e4d5ba878b66a1828c602b8\n",
      "\u001b[33mget_code:\u001b[30m\t order_number: 3610861\n",
      "\u001b[33mget_code:\u001b[30m\t SUCCESS_FB-36638 is your Facebook confirmation code\n",
      "\u001b[33mget_code:\u001b[30m\t 36638\n",
      "\u001b[33mcreateUserMobile:\u001b[30m\t 36638\n",
      "\u001b[33mchromeSignUp:\u001b[30m\t Email: Glenda_Hartl@spartaaceap.com\n",
      "H:\\Desktop\\spartaaceap-master\\engine\\data\\screenshots xpbig xpbigaceap1 Facebook create d22b07bd\n",
      "\u001b[33mscreenshot:\u001b[30m\t Taking screenshot\n",
      "\u001b[33mscreenshot:\u001b[30m\t Screenshot saved: H:\\Desktop\\spartaaceap-master\\engine\\data\\screenshots\\xpbig\\xpbigaceap1\\Facebook\\create-d22b07bd.png\n",
      "\u001b[33maddSignal:\u001b[30m\t Signal added: create\n",
      "\u001b[32mcloseDriver:\u001b[30m\t Closing browser\n",
      "\u001b[32mcloseDriver:\u001b[31m\t Could not close browser\n",
      "\u001b[32mcloseDriver:\u001b[31m\t [WinError 5] Access is denied\n",
      "\u001b[33m<module>:\u001b[30m\t Signed in __0 on Facebook\n",
      "\u001b[33mbigWait:\u001b[30m\t Waiting for 5 minutes\n"
     ]
    },
    {
     "name": "stderr",
     "output_type": "stream",
     "text": [
      " 96%|█████████▌| 288/300 [04:49<00:12,  1.01s/it]\n"
     ]
    },
    {
     "ename": "KeyboardInterrupt",
     "evalue": "",
     "output_type": "error",
     "traceback": [
      "\u001b[1;31m---------------------------------------------------------------------------\u001b[0m",
      "\u001b[1;31mKeyboardInterrupt\u001b[0m                         Traceback (most recent call last)",
      "\u001b[1;32mh:\\Desktop\\spartaaceap-master\\engine\\xpbig\\day0.ipynb Cell 6\u001b[0m line \u001b[0;36m2\n\u001b[0;32m     <a href='vscode-notebook-cell:/h%3A/Desktop/spartaaceap-master/engine/xpbig/day0.ipynb#W4sZmlsZQ%3D%3D?line=17'>18</a>\u001b[0m         error(\u001b[39mf\u001b[39m\u001b[39m'\u001b[39m\u001b[39m\\t\u001b[39;00m\u001b[39m \u001b[39m\u001b[39m{\u001b[39;00me\u001b[39m}\u001b[39;00m\u001b[39m'\u001b[39m)\n\u001b[0;32m     <a href='vscode-notebook-cell:/h%3A/Desktop/spartaaceap-master/engine/xpbig/day0.ipynb#W4sZmlsZQ%3D%3D?line=18'>19</a>\u001b[0m     debug(\u001b[39mf\u001b[39m\u001b[39m'\u001b[39m\u001b[39mSigned in \u001b[39m\u001b[39m{\u001b[39;00msubject_name\u001b[39m}\u001b[39;00m\u001b[39m on \u001b[39m\u001b[39m{\u001b[39;00mplatform\u001b[39m}\u001b[39;00m\u001b[39m'\u001b[39m)\n\u001b[1;32m---> <a href='vscode-notebook-cell:/h%3A/Desktop/spartaaceap-master/engine/xpbig/day0.ipynb#W4sZmlsZQ%3D%3D?line=19'>20</a>\u001b[0m bigWait(\u001b[39m5\u001b[39;49m)\n",
      "File \u001b[1;32mH:\\Desktop\\spartaaceap-master\\engine\\src\\utils\\util.py:33\u001b[0m, in \u001b[0;36mbigWait\u001b[1;34m(minutes)\u001b[0m\n\u001b[0;32m     31\u001b[0m seconds \u001b[39m=\u001b[39m minutes \u001b[39m*\u001b[39m \u001b[39m60\u001b[39m\n\u001b[0;32m     32\u001b[0m \u001b[39mfor\u001b[39;00m i \u001b[39min\u001b[39;00m tqdm(\u001b[39mlist\u001b[39m(\u001b[39mrange\u001b[39m(seconds))):\n\u001b[1;32m---> 33\u001b[0m     sleep(\u001b[39m1\u001b[39;49m)\n",
      "\u001b[1;31mKeyboardInterrupt\u001b[0m: "
     ]
    }
   ],
   "source": [
    "subject_names = list(subjects.keys())\n",
    "for subject_name in subject_names:\n",
    "    chrome = subjects[subject_name]['Twitter']\n",
    "    signed = chrome.checkChromeSignin()\n",
    "    debug(f'Chrome signed in: {signed}')\n",
    "    if not signed:\n",
    "        error(f'Chrome not signed in: {subject_name}')\n",
    "        chrome.chromeSignIn()\n",
    "\n",
    "    for platform in platforms:\n",
    "        logging(f'Platform: {platform}, Subject: {subject_name}')\n",
    "        subject = subjects[subject_name][platform]\n",
    "        try:\n",
    "            logging(f'\\t Signing in {subject_name} on {platform}')\n",
    "            signed = subject.platformSignIn()\n",
    "        except Exception as e:\n",
    "            error(f'\\t Error signing in {subject_name} on {platform}')\n",
    "            error(f'\\t {e}')\n",
    "        debug(f'Signed in {subject_name} on {platform}')\n",
    "    bigWait(5)"
   ]
  },
  {
   "cell_type": "markdown",
   "metadata": {},
   "source": [
    "# Observation"
   ]
  },
  {
   "cell_type": "code",
   "execution_count": 4,
   "metadata": {},
   "outputs": [
    {
     "name": "stdout",
     "output_type": "stream",
     "text": [
      "\u001b[33m<module>:\u001b[30m\t Chrome signed in: True\n"
     ]
    },
    {
     "ename": "NameError",
     "evalue": "name 'alkdjf' is not defined",
     "output_type": "error",
     "traceback": [
      "\u001b[1;31m---------------------------------------------------------------------------\u001b[0m",
      "\u001b[1;31mNameError\u001b[0m                                 Traceback (most recent call last)",
      "Cell \u001b[1;32mIn[4], line 11\u001b[0m\n\u001b[0;32m      8\u001b[0m     error(\u001b[38;5;124mf\u001b[39m\u001b[38;5;124m'\u001b[39m\u001b[38;5;124mChrome not signed in: \u001b[39m\u001b[38;5;132;01m{\u001b[39;00msubject_name\u001b[38;5;132;01m}\u001b[39;00m\u001b[38;5;124m'\u001b[39m)\n\u001b[0;32m      9\u001b[0m     chrome\u001b[38;5;241m.\u001b[39mchromeSignIn()\n\u001b[1;32m---> 11\u001b[0m \u001b[43malkdjf\u001b[49m\n\u001b[0;32m     12\u001b[0m \u001b[38;5;28;01mfor\u001b[39;00m platform \u001b[38;5;129;01min\u001b[39;00m [\u001b[38;5;124m'\u001b[39m\u001b[38;5;124mFacebook\u001b[39m\u001b[38;5;124m'\u001b[39m]:\n\u001b[0;32m     13\u001b[0m     \u001b[38;5;28mprint\u001b[39m(\u001b[38;5;124mf\u001b[39m\u001b[38;5;124m'\u001b[39m\u001b[38;5;124mPlatform: \u001b[39m\u001b[38;5;132;01m{\u001b[39;00mplatform\u001b[38;5;132;01m}\u001b[39;00m\u001b[38;5;124m, Subject: \u001b[39m\u001b[38;5;132;01m{\u001b[39;00msubject_name\u001b[38;5;132;01m}\u001b[39;00m\u001b[38;5;124m'\u001b[39m)\n",
      "\u001b[1;31mNameError\u001b[0m: name 'alkdjf' is not defined"
     ]
    }
   ],
   "source": [
    "subject_names = list(subjects.keys())\n",
    "for subject_name in subject_names[2:]:\n",
    "    # IP.shuffle(subject_name)\n",
    "    chrome = subjects[subject_name]['YouTube']\n",
    "    signed = chrome.checkChromeSignin()\n",
    "    debug(f'Chrome signed in: {signed}')\n",
    "    if not signed:\n",
    "        error(f'Chrome not signed in: {subject_name}')\n",
    "        chrome.chromeSignIn()\n",
    "\n",
    "    alkdjf\n",
    "    for platform in ['Facebook']:\n",
    "        print(f'Platform: {platform}, Subject: {subject_name}')\n",
    "        subject = subjects[subject_name][platform]\n",
    "        debug(f'Checking signin for {subject_name} on {platform}')\n",
    "        wait(3)\n",
    "        if not subject.checkSignin():\n",
    "            error(f'{subject_name} not signed in on {platform}')\n",
    "            error(f'Attempting to sign in {subject_name} on {platform}')\n",
    "            wait(3)\n",
    "            try:\n",
    "                subject.platformSignIn()\n",
    "            except Exception as e:\n",
    "                error(f'Error signing in {subject_name} on {platform}')\n",
    "                error(e)\n",
    "                continue\n",
    "            wait(3)\n",
    "\n",
    "        try:\n",
    "            subject.observe(pre=True)\n",
    "        except Exception as e:\n",
    "            error(f'Error observing {subject_name} on {platform}')\n",
    "            error(e)\n",
    "    bigWait(5)"
   ]
  },
  {
   "cell_type": "markdown",
   "metadata": {},
   "source": [
    "# Treatment"
   ]
  },
  {
   "cell_type": "code",
   "execution_count": 16,
   "metadata": {},
   "outputs": [],
   "source": [
    "import os\n",
    "def closeAllChrome():\n",
    "    try:\n",
    "        os.system(\"taskkill /im chrome.exe /f\")\n",
    "    except Exception as e:\n",
    "        error(e)\n",
    "\n",
    "closeAllChrome()"
   ]
  },
  {
   "cell_type": "code",
   "execution_count": 18,
   "metadata": {},
   "outputs": [
    {
     "data": {
      "text/plain": [
       "['like_oscars_0',\n",
       " 'like_oscars_1',\n",
       " 'like_oscars_2',\n",
       " 'follow_oscars_0',\n",
       " 'follow_oscars_1',\n",
       " 'follow_oscars_2',\n",
       " 'open_oscars_0',\n",
       " 'open_oscars_1',\n",
       " 'open_oscars_2',\n",
       " 'join_oscars_0',\n",
       " 'join_oscars_1',\n",
       " 'join_oscars_2',\n",
       " 'search_oscars_0',\n",
       " 'search_oscars_1',\n",
       " 'search_oscars_2',\n",
       " '__0',\n",
       " '__1',\n",
       " '__2']"
      ]
     },
     "execution_count": 18,
     "metadata": {},
     "output_type": "execute_result"
    }
   ],
   "source": [
    "subject_names"
   ]
  },
  {
   "cell_type": "code",
   "execution_count": 6,
   "metadata": {},
   "outputs": [
    {
     "name": "stdout",
     "output_type": "stream",
     "text": [
      "\u001b[33m<module>:\u001b[30m\t Chrome signed in: True\n",
      "Platform: YouTube, Subject: join_oscars_0\n",
      "\u001b[33m<module>:\u001b[30m\t Checking signin for join_oscars_0 on YouTube\n",
      "\u001b[33mcheckSignin:\u001b[30m\t SIGNING IN: xp9aceap9\n",
      "\u001b[33mloggedIn:\u001b[30m\t Checking if logged in\n",
      "\u001b[33mloggedIn:\u001b[30m\t Checking if logged in: https://www.youtube.com/account\n",
      "\u001b[32mcloseDriver:\u001b[30m\t Closing browser\n",
      "\u001b[32mcloseDriver:\u001b[31m\t Could not close browser\n",
      "\u001b[32mcloseDriver:\u001b[31m\t [WinError 87] The parameter is incorrect\n",
      "\u001b[33m<module>:\u001b[30m\t Treatment join_oscars_0 on YouTube\n",
      "\u001b[33mchromeSignIn:\u001b[30m\t SIGNING IN: xp9aceap9\n",
      "\u001b[33mrunExperiment:\u001b[30m\t User loaded\n",
      "\u001b[33m_searchTermBar:\u001b[30m\t <undetected_chromedriver.webelement.WebElement (session=\"596dba3793ec95cfc625018fb97a68a5\", element=\"f.69479D0C1EE6B1148FC8E42023A69948.d.8F07A78D23CCAA395BDE1A97254A54F6.e.4\")>\n",
      "\u001b[33mscreenshot:\u001b[30m\t Taking screenshot\n",
      "\u001b[33mscreenshot:\u001b[30m\t Screenshot saved: C:\\Users\\hussa\\Desktop\\sparta-aceap\\engine\\data\\screenshots\\search-a75daf79.png\n",
      "\u001b[33maddSignal:\u001b[30m\t Signal added: search\n",
      "\u001b[33mjoinCommunity:\u001b[30m\t Term searched\n",
      "\u001b[32mtreatment:\u001b[31m\t No communities in Youtube\n",
      "\u001b[32mcloseDriver:\u001b[30m\t Closing browser\n",
      "\u001b[32mcloseDriver:\u001b[31m\t Could not close browser\n",
      "\u001b[32mcloseDriver:\u001b[31m\t [WinError 87] The parameter is incorrect\n",
      "Platform: Reddit, Subject: join_oscars_0\n",
      "\u001b[33m<module>:\u001b[30m\t Checking signin for join_oscars_0 on Reddit\n",
      "\u001b[33mcheckSignin:\u001b[30m\t SIGNING IN: xp9aceap9\n",
      "\u001b[32mcloseDriver:\u001b[30m\t Closing browser\n",
      "\u001b[32mcloseDriver:\u001b[31m\t Could not close browser\n",
      "\u001b[32mcloseDriver:\u001b[31m\t [WinError 87] The parameter is incorrect\n",
      "\u001b[33m<module>:\u001b[30m\t Treatment join_oscars_0 on Reddit\n",
      "\u001b[33mchromeSignIn:\u001b[30m\t SIGNING IN: xp9aceap9\n",
      "\u001b[33mrunExperiment:\u001b[30m\t User loaded\n",
      "\u001b[33mscreenshot:\u001b[30m\t Taking screenshot\n",
      "\u001b[33mscreenshot:\u001b[30m\t Screenshot saved: C:\\Users\\hussa\\Desktop\\sparta-aceap\\engine\\data\\screenshots\\search-ae47afd1.png\n",
      "\u001b[33maddSignal:\u001b[30m\t Signal added: search\n",
      "\u001b[33mjoinCommunity:\u001b[30m\t Term searched\n",
      "\u001b[33m_joinNthSubreddit:\u001b[30m\t Oscars\n",
      "\u001b[32maddSignal:\u001b[31m\t Error adding object: 'NoneType' object has no attribute 'replace'\n",
      "\u001b[33mscreenshot:\u001b[30m\t Taking screenshot\n",
      "\u001b[33mscreenshot:\u001b[30m\t Screenshot saved: C:\\Users\\hussa\\Desktop\\sparta-aceap\\engine\\data\\screenshots\\join-ae6bf9e5.png\n",
      "\u001b[33maddSignal:\u001b[30m\t Signal added: join\n",
      "\u001b[32mcloseDriver:\u001b[30m\t Closing browser\n",
      "\u001b[32mcloseDriver:\u001b[31m\t Could not close browser\n",
      "\u001b[32mcloseDriver:\u001b[31m\t [WinError 5] Access is denied\n",
      "Platform: Twitter, Subject: join_oscars_0\n",
      "\u001b[33m<module>:\u001b[30m\t Checking signin for join_oscars_0 on Twitter\n",
      "\u001b[33mcheckSignin:\u001b[30m\t SIGNING IN: xp9aceap9\n",
      "\u001b[32mcloseDriver:\u001b[30m\t Closing browser\n",
      "\u001b[32mcloseDriver:\u001b[31m\t Could not close browser\n",
      "\u001b[32mcloseDriver:\u001b[31m\t [WinError 5] Access is denied\n",
      "\u001b[33m<module>:\u001b[30m\t Treatment join_oscars_0 on Twitter\n",
      "\u001b[33mchromeSignIn:\u001b[30m\t SIGNING IN: xp9aceap9\n",
      "\u001b[33mrunExperiment:\u001b[30m\t User loaded\n",
      "\u001b[33mscreenshot:\u001b[30m\t Taking screenshot\n",
      "\u001b[33mscreenshot:\u001b[30m\t Screenshot saved: C:\\Users\\hussa\\Desktop\\sparta-aceap\\engine\\data\\screenshots\\search-0e562851.png\n",
      "\u001b[33maddSignal:\u001b[30m\t Signal added: search\n",
      "\u001b[33mjoinCommunity:\u001b[30m\t Term searched\n",
      "\u001b[33mjoinCommunity:\u001b[30m\t Oscars\n",
      "\u001b[33mjoinCommunity:\u001b[30m\t ·36 members\n",
      "\u001b[33mjoinCommunity:\u001b[30m\t 63 followers including @skocherhan\n",
      "\u001b[33mjoinCommunity:\u001b[30m\t Already followed Oscars\n",
      "\u001b[33mjoinCommunity:\u001b[30m\t oscars\n",
      "\u001b[33mjoinCommunity:\u001b[30m\t ·37 members\n",
      "\u001b[33mjoinCommunity:\u001b[30m\t 12 followers including @losExtras_es\n",
      "\u001b[33mjoinCommunity:\u001b[30m\t Followed oscars\n",
      "\u001b[32maddSignal:\u001b[31m\t Error adding object: 'str' object has no attribute 'get'\n",
      "\u001b[33mscreenshot:\u001b[30m\t Taking screenshot\n",
      "\u001b[33mscreenshot:\u001b[30m\t Screenshot saved: C:\\Users\\hussa\\Desktop\\sparta-aceap\\engine\\data\\screenshots\\join-0da6cfd4.png\n",
      "\u001b[33maddSignal:\u001b[30m\t Signal added: join\n",
      "\u001b[32mcloseDriver:\u001b[30m\t Closing browser\n",
      "\u001b[32mcloseDriver:\u001b[31m\t Could not close browser\n",
      "\u001b[32mcloseDriver:\u001b[31m\t [WinError 5] Access is denied\n",
      "Platform: Facebook, Subject: join_oscars_0\n",
      "\u001b[33m<module>:\u001b[30m\t Checking signin for join_oscars_0 on Facebook\n",
      "\u001b[33mcheckSignin:\u001b[30m\t SIGNING IN: xp9aceap9\n",
      "\u001b[32mcloseDriver:\u001b[30m\t Closing browser\n"
     ]
    },
    {
     "ename": "KeyboardInterrupt",
     "evalue": "",
     "output_type": "error",
     "traceback": [
      "\u001b[1;31m---------------------------------------------------------------------------\u001b[0m",
      "\u001b[1;31mKeyboardInterrupt\u001b[0m                         Traceback (most recent call last)",
      "Cell \u001b[1;32mIn[6], line 15\u001b[0m\n\u001b[0;32m     13\u001b[0m debug(\u001b[38;5;124mf\u001b[39m\u001b[38;5;124m'\u001b[39m\u001b[38;5;124mChecking signin for \u001b[39m\u001b[38;5;132;01m{\u001b[39;00msubject_name\u001b[38;5;132;01m}\u001b[39;00m\u001b[38;5;124m on \u001b[39m\u001b[38;5;132;01m{\u001b[39;00mplatform\u001b[38;5;132;01m}\u001b[39;00m\u001b[38;5;124m'\u001b[39m)\n\u001b[0;32m     14\u001b[0m wait(\u001b[38;5;241m3\u001b[39m)\n\u001b[1;32m---> 15\u001b[0m \u001b[38;5;28;01mif\u001b[39;00m \u001b[38;5;129;01mnot\u001b[39;00m \u001b[43msubject\u001b[49m\u001b[38;5;241;43m.\u001b[39;49m\u001b[43mcheckSignin\u001b[49m\u001b[43m(\u001b[49m\u001b[43m)\u001b[49m:\n\u001b[0;32m     16\u001b[0m     error(\u001b[38;5;124mf\u001b[39m\u001b[38;5;124m'\u001b[39m\u001b[38;5;132;01m{\u001b[39;00msubject_name\u001b[38;5;132;01m}\u001b[39;00m\u001b[38;5;124m not signed in on \u001b[39m\u001b[38;5;132;01m{\u001b[39;00mplatform\u001b[38;5;132;01m}\u001b[39;00m\u001b[38;5;124m'\u001b[39m)\n\u001b[0;32m     17\u001b[0m     error(\u001b[38;5;124mf\u001b[39m\u001b[38;5;124m'\u001b[39m\u001b[38;5;124mAttempting to sign in \u001b[39m\u001b[38;5;132;01m{\u001b[39;00msubject_name\u001b[38;5;132;01m}\u001b[39;00m\u001b[38;5;124m on \u001b[39m\u001b[38;5;132;01m{\u001b[39;00mplatform\u001b[38;5;132;01m}\u001b[39;00m\u001b[38;5;124m'\u001b[39m)\n",
      "File \u001b[1;32m~\\Desktop\\sparta-aceap\\engine\\src\\experiment\\Subject.py:172\u001b[0m, in \u001b[0;36mSubject.checkSignin\u001b[1;34m(self)\u001b[0m\n\u001b[0;32m    170\u001b[0m     trial\u001b[38;5;241m.\u001b[39mcloseDriver()\n\u001b[0;32m    171\u001b[0m     \u001b[38;5;28;01mreturn\u001b[39;00m \u001b[38;5;28;01mFalse\u001b[39;00m\n\u001b[1;32m--> 172\u001b[0m \u001b[43mtrial\u001b[49m\u001b[38;5;241;43m.\u001b[39;49m\u001b[43mcloseDriver\u001b[49m\u001b[43m(\u001b[49m\u001b[43m)\u001b[49m\n\u001b[0;32m    173\u001b[0m \u001b[38;5;28;01mreturn\u001b[39;00m signed\n",
      "File \u001b[1;32m~\\Desktop\\sparta-aceap\\engine\\src\\experiment\\Trial.py:33\u001b[0m, in \u001b[0;36mTrial.closeDriver\u001b[1;34m(self)\u001b[0m\n\u001b[0;32m     32\u001b[0m \u001b[38;5;28;01mdef\u001b[39;00m \u001b[38;5;21mcloseDriver\u001b[39m(\u001b[38;5;28mself\u001b[39m):\n\u001b[1;32m---> 33\u001b[0m     \u001b[38;5;28;43mself\u001b[39;49m\u001b[38;5;241;43m.\u001b[39;49m\u001b[43muser\u001b[49m\u001b[38;5;241;43m.\u001b[39;49m\u001b[43mcloseDriver\u001b[49m\u001b[43m(\u001b[49m\u001b[43m)\u001b[49m\n",
      "File \u001b[1;32m~\\Desktop\\sparta-aceap\\engine\\src\\users\\User.py:218\u001b[0m, in \u001b[0;36mUser.closeDriver\u001b[1;34m(self)\u001b[0m\n\u001b[0;32m    217\u001b[0m \u001b[38;5;28;01mdef\u001b[39;00m \u001b[38;5;21mcloseDriver\u001b[39m(\u001b[38;5;28mself\u001b[39m):\n\u001b[1;32m--> 218\u001b[0m     \u001b[38;5;28;43mself\u001b[39;49m\u001b[38;5;241;43m.\u001b[39;49m\u001b[43mplatform\u001b[49m\u001b[38;5;241;43m.\u001b[39;49m\u001b[43mcloseDriver\u001b[49m\u001b[43m(\u001b[49m\u001b[43m)\u001b[49m\n",
      "File \u001b[1;32m~\\Desktop\\sparta-aceap\\engine\\src\\platforms\\Platform.py:101\u001b[0m, in \u001b[0;36mPlatform.closeDriver\u001b[1;34m(self)\u001b[0m\n\u001b[0;32m     99\u001b[0m wait(\u001b[38;5;241m1\u001b[39m)\n\u001b[0;32m    100\u001b[0m \u001b[38;5;28mself\u001b[39m\u001b[38;5;241m.\u001b[39mdriver\u001b[38;5;241m.\u001b[39mquit()\n\u001b[1;32m--> 101\u001b[0m \u001b[43mwait\u001b[49m\u001b[43m(\u001b[49m\u001b[38;5;241;43m3\u001b[39;49m\u001b[43m)\u001b[49m\n\u001b[0;32m    102\u001b[0m \u001b[38;5;28;01mif\u001b[39;00m \u001b[38;5;28mhasattr\u001b[39m(\u001b[38;5;28mself\u001b[39m\u001b[38;5;241m.\u001b[39mdriver, \u001b[38;5;124m\"\u001b[39m\u001b[38;5;124mservice\u001b[39m\u001b[38;5;124m\"\u001b[39m) \u001b[38;5;129;01mand\u001b[39;00m \u001b[38;5;28mgetattr\u001b[39m(\u001b[38;5;28mself\u001b[39m\u001b[38;5;241m.\u001b[39mdriver\u001b[38;5;241m.\u001b[39mservice, \u001b[38;5;124m\"\u001b[39m\u001b[38;5;124mprocess\u001b[39m\u001b[38;5;124m\"\u001b[39m, \u001b[38;5;28;01mNone\u001b[39;00m):\n\u001b[0;32m    103\u001b[0m     \u001b[38;5;28mself\u001b[39m\u001b[38;5;241m.\u001b[39mdriver\u001b[38;5;241m.\u001b[39mservice\u001b[38;5;241m.\u001b[39mprocess\u001b[38;5;241m.\u001b[39mwait(\u001b[38;5;241m3\u001b[39m)\n",
      "File \u001b[1;32m~\\Desktop\\sparta-aceap\\engine\\src\\utils\\util.py:26\u001b[0m, in \u001b[0;36mwait\u001b[1;34m(sec)\u001b[0m\n\u001b[0;32m     23\u001b[0m \u001b[38;5;28;01mdef\u001b[39;00m \u001b[38;5;21mwait\u001b[39m(sec):\n\u001b[0;32m     24\u001b[0m     \u001b[38;5;66;03m# sleep for sec but preturb randomly\u001b[39;00m\n\u001b[0;32m     25\u001b[0m     sec \u001b[38;5;241m=\u001b[39m sec \u001b[38;5;241m+\u001b[39m random\u001b[38;5;241m.\u001b[39muniform(\u001b[38;5;241m0\u001b[39m, \u001b[38;5;241m1\u001b[39m)\n\u001b[1;32m---> 26\u001b[0m     sleep(sec)\n",
      "\u001b[1;31mKeyboardInterrupt\u001b[0m: "
     ]
    },
    {
     "ename": "",
     "evalue": "",
     "output_type": "error",
     "traceback": [
      "\u001b[1;31mThe Kernel crashed while executing code in the current cell or a previous cell. \n",
      "\u001b[1;31mPlease review the code in the cell(s) to identify a possible cause of the failure. \n",
      "\u001b[1;31mClick <a href='https://aka.ms/vscodeJupyterKernelCrash'>here</a> for more info. \n",
      "\u001b[1;31mView Jupyter <a href='command:jupyter.viewOutput'>log</a> for further details."
     ]
    }
   ],
   "source": [
    "for subject_name in ['join_oscars_0']:\n",
    "    # IP.shuffle(subject_name)\n",
    "    chrome = subjects[subject_name]['YouTube']\n",
    "    signed = chrome.checkChromeSignin()\n",
    "    debug(f'Chrome signed in: {signed}')\n",
    "    if not signed:\n",
    "        error(f'Chrome not signed in: {subject_name}')\n",
    "        chrome.chromeSignIn()\n",
    "\n",
    "    for platform in platforms:\n",
    "        print(f'Platform: {platform}, Subject: {subject_name}')\n",
    "        subject = subjects[subject_name][platform]\n",
    "        debug(f'Checking signin for {subject_name} on {platform}')\n",
    "        wait(3)\n",
    "        if not subject.checkSignin():\n",
    "            error(f'{subject_name} not signed in on {platform}')\n",
    "            error(f'Attempting to sign in {subject_name} on {platform}')\n",
    "            wait(3)\n",
    "            try:\n",
    "                subject.platformSignIn()\n",
    "            except Exception as e:\n",
    "                subject.close()\n",
    "                error(f'Error signing in {subject_name} on {platform}')\n",
    "                error(e)\n",
    "                continue\n",
    "            wait(3)\n",
    "\n",
    "        try:\n",
    "            debug(f'Treatment {subject_name} on {platform}')\n",
    "            subject.treatment()\n",
    "        except Exception as e:\n",
    "            error(f'Error observing {subject_name} on {platform}')\n",
    "            error(e)\n",
    "    closeAllChrome()\n",
    "    bigWait(10)"
   ]
  },
  {
   "cell_type": "code",
   "execution_count": null,
   "metadata": {},
   "outputs": [],
   "source": [
    "subject_names = list(subjects.keys())\n",
    "for subject_name in subject_names:\n",
    "    IP.shuffle(subject_name)\n",
    "    chrome = subjects[subject_name]['YouTube']\n",
    "    signed = chrome.checkChromeSignin()\n",
    "    debug(f'Chrome signed in: {signed}')\n",
    "    if not signed:\n",
    "        error(f'Chrome not signed in: {subject_name}')\n",
    "        chrome.chromeSignIn()\n",
    "\n",
    "    for platform in platforms:\n",
    "        print(f'Platform: {platform}, Subject: {subject_name}')\n",
    "        subject = subjects[subject_name][platform]\n",
    "        debug(f'Checking signin for {subject_name} on {platform}')\n",
    "        wait(3)\n",
    "        if not subject.checkSignin():\n",
    "            error(f'{subject_name} not signed in on {platform}')\n",
    "            error(f'Attempting to sign in {subject_name} on {platform}')\n",
    "            wait(3)\n",
    "            try:\n",
    "                subject.platformSignIn()\n",
    "            except Exception as e:\n",
    "                error(f'Error signing in {subject_name} on {platform}')\n",
    "                error(e)\n",
    "                continue\n",
    "            wait(3)\n",
    "\n",
    "        try:\n",
    "            debug(f'Observing {subject_name} on {platform}')\n",
    "            subject.observe(pre=True)\n",
    "        except Exception as e:\n",
    "            error(f'Error observing {subject_name} on {platform}')\n",
    "            error(e)\n",
    "    bigWait(5)"
   ]
  },
  {
   "cell_type": "code",
   "execution_count": null,
   "metadata": {},
   "outputs": [],
   "source": [
    "treatments = dict()\n",
    "subject_names = list(subjects.keys())\n",
    "for subject_name in subject_names:\n",
    "    treatments[subject_name] = dict()\n",
    "    for platform in subjects[subject_name]:\n",
    "        try:\n",
    "            treatments[subject_name][platform] = subject.get_treatments()\n",
    "        except Exception as e:\n",
    "            error(e)"
   ]
  },
  {
   "cell_type": "code",
   "execution_count": null,
   "metadata": {},
   "outputs": [],
   "source": []
  },
  {
   "cell_type": "code",
   "execution_count": null,
   "metadata": {},
   "outputs": [],
   "source": [
    "import pickle as pkl\n",
    "import pandas as pd\n",
    "import json\n",
    "import sqlite3 as sql\n",
    "\n",
    "from experiment.Experiment import Experiment\n",
    "from experiment.Subject import Subject\n",
    "\n",
    "def uploadResults(platform):\n",
    "    config_file = 'config.json'\n",
    "    config = json.load(open(config_file, 'r'))\n",
    "    experiment = Experiment(config_file, platform)\n",
    "    subjects = experiment.get_subjects()\n",
    "\n",
    "    users = []\n",
    "    for user in subjects:\n",
    "        treatments = user.get_treatments()\n",
    "        for tick in treatments:\n",
    "            pre, post = user.get_observations(tick)\n",
    "            treatments[tick]['pre'] = pre\n",
    "            treatments[tick]['post'] = post\n",
    "\n",
    "        users.append(treatments)\n",
    "\n",
    "    pkl.dump(users, open(f'{platform}-results.pkl', 'wb'))\n",
    "\n",
    "    return users"
   ]
  }
 ],
 "metadata": {
  "kernelspec": {
   "display_name": "Python 3",
   "language": "python",
   "name": "python3"
  },
  "language_info": {
   "codemirror_mode": {
    "name": "ipython",
    "version": 3
   },
   "file_extension": ".py",
   "mimetype": "text/x-python",
   "name": "python",
   "nbconvert_exporter": "python",
   "pygments_lexer": "ipython3",
   "version": "3.12.2"
  }
 },
 "nbformat": 4,
 "nbformat_minor": 2
}
