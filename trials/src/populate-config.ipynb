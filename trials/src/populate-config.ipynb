{
 "cells": [
  {
   "cell_type": "code",
   "execution_count": 2,
   "metadata": {},
   "outputs": [
    {
     "name": "stdout",
     "output_type": "stream",
     "text": [
      "LAB 317...\n",
      "BASE_DIR: /Users/hussam/Desktop/Projects/algopologist\n"
     ]
    }
   ],
   "source": [
    "import sys\n",
    "import os\n",
    "sys.path.append('../../')\n",
    "from core.constants import BASE_DIR"
   ]
  },
  {
   "cell_type": "code",
   "execution_count": 3,
   "metadata": {},
   "outputs": [],
   "source": [
    "config = dict()\n",
    "config['experiment_id'] = 'kitkat'\n",
    "config['email_template'] = config['experiment_id']\n",
    "config['actions'] = ['like', 'follow', 'join', 'open', '']\n",
    "config['platforms'] = ['YouTube', 'Reddit', 'Facebook', 'Twitter']\n",
    "topics = ['NBA']\n",
    "config['replications'] = 5\n",
    "num_users = len(config['actions']) * config['replications'] * len(topics)"
   ]
  },
  {
   "cell_type": "code",
   "execution_count": 5,
   "metadata": {},
   "outputs": [],
   "source": [
    "config['topics'] = dict()\n",
    "for topic in topics:\n",
    "    config['topics'][f'{topic}'] = dict()\n",
    "    for platform in config['platforms']:\n",
    "        p = platform.lower()\n",
    "        config['topics'][topic][f'{p}'] = dict()\n",
    "        for action in config['actions']:\n",
    "            config['topics'][topic][f'{p}'][f'{action}'] = topic\n",
    "\n",
    "users = dict()\n",
    "i = 0\n",
    "for topic in topics:\n",
    "    for action in config['actions']:\n",
    "        for replication in range(config['replications']):\n",
    "            users[f'{i}'] = dict()\n",
    "            users[f'{i}']['topic'] = topic\n",
    "            users[f'{i}']['action'] = action\n",
    "            users[f'{i}']['replication'] = replication\n",
    "            users[f'{i}']['email'] = f\"{config['email_template']}{i}@spartaaceap.com\"\n",
    "            i += 1\n",
    "\n",
    "config['users'] = users"
   ]
  },
  {
   "cell_type": "code",
   "execution_count": 6,
   "metadata": {},
   "outputs": [],
   "source": [
    "path = os.path.join(BASE_DIR, 'trials', 'data', config[\"experiment_id\"])\n",
    "if not os.path.exists(os.path.dirname(path)):\n",
    "    os.makedirs(os.path.dirname(path))\n",
    "config_path = os.path.join(path, 'config.json')\n",
    "import json\n",
    "\n",
    "if not os.path.exists(config_path):\n",
    "    os.makedirs(os.path.dirname(config_path))\n",
    "\n",
    "with open(config_path, 'w') as f:\n",
    "    json.dump(config, f, indent=4)"
   ]
  },
  {
   "cell_type": "code",
   "execution_count": 2,
   "metadata": {},
   "outputs": [],
   "source": []
  },
  {
   "cell_type": "code",
   "execution_count": 4,
   "metadata": {},
   "outputs": [],
   "source": [
    "experiment_id = 'butterfinger'\n",
    "from core.account_creation.GoogleWorkspace import GoogleWorkspace\n",
    "from core.experiment.Experiment import Experiment\n",
    "xp = Experiment(experiment_id=experiment_id, client_id=\"admin\")\n",
    "GW = GoogleWorkspace()"
   ]
  },
  {
   "cell_type": "code",
   "execution_count": 5,
   "metadata": {},
   "outputs": [],
   "source": [
    "config = xp.config\n",
    "GW.uploadUsers(users=config['users'], xp_id=config['experiment_id'], path=xp.experiment_path())"
   ]
  },
  {
   "cell_type": "code",
   "execution_count": 6,
   "metadata": {},
   "outputs": [
    {
     "ename": "IsADirectoryError",
     "evalue": "[Errno 21] Is a directory: '/Users/hussam/Desktop/Projects/algopologist/trials/data/butterfinger'",
     "output_type": "error",
     "traceback": [
      "\u001b[0;31m---------------------------------------------------------------------------\u001b[0m",
      "\u001b[0;31mIsADirectoryError\u001b[0m                         Traceback (most recent call last)",
      "Cell \u001b[0;32mIn[6], line 1\u001b[0m\n\u001b[0;32m----> 1\u001b[0m \u001b[43mGW\u001b[49m\u001b[38;5;241;43m.\u001b[39;49m\u001b[43msignUp\u001b[49m\u001b[43m(\u001b[49m\u001b[43mnum_users\u001b[49m\u001b[43m,\u001b[49m\u001b[43m \u001b[49m\u001b[43mxp\u001b[49m\u001b[38;5;241;43m.\u001b[39;49m\u001b[43mconfig\u001b[49m\u001b[43m[\u001b[49m\u001b[38;5;124;43m'\u001b[39;49m\u001b[38;5;124;43memail_template\u001b[39;49m\u001b[38;5;124;43m'\u001b[39;49m\u001b[43m]\u001b[49m\u001b[43m,\u001b[49m\u001b[43m \u001b[49m\u001b[43mxp\u001b[49m\u001b[38;5;241;43m.\u001b[39;49m\u001b[43mconfig\u001b[49m\u001b[43m[\u001b[49m\u001b[38;5;124;43m'\u001b[39;49m\u001b[38;5;124;43mexperiment_id\u001b[39;49m\u001b[38;5;124;43m'\u001b[39;49m\u001b[43m]\u001b[49m\u001b[43m,\u001b[49m\u001b[43m \u001b[49m\u001b[43mxp\u001b[49m\u001b[38;5;241;43m.\u001b[39;49m\u001b[43mexperiment_path\u001b[49m\u001b[43m(\u001b[49m\u001b[43m)\u001b[49m\u001b[43m)\u001b[49m\n",
      "File \u001b[0;32m~/Desktop/Projects/algopologist/trials/src/../../core/account_creation/GoogleWorkspace.py:187\u001b[0m, in \u001b[0;36mGoogleWorkspace.signUp\u001b[0;34m(self, N, email_template, experiment_id, path)\u001b[0m\n\u001b[1;32m    184\u001b[0m     line \u001b[38;5;241m=\u001b[39m \u001b[38;5;28mself\u001b[39m\u001b[38;5;241m.\u001b[39mcreateUserLine(user)\n\u001b[1;32m    185\u001b[0m     lines\u001b[38;5;241m.\u001b[39mappend(line)\n\u001b[0;32m--> 187\u001b[0m \u001b[38;5;28;01mwith\u001b[39;00m \u001b[38;5;28;43mopen\u001b[39;49m\u001b[43m(\u001b[49m\u001b[43mpath\u001b[49m\u001b[43m,\u001b[49m\u001b[43m \u001b[49m\u001b[38;5;124;43m'\u001b[39;49m\u001b[38;5;124;43mw\u001b[39;49m\u001b[38;5;124;43m'\u001b[39;49m\u001b[43m)\u001b[49m \u001b[38;5;28;01mas\u001b[39;00m f:\n\u001b[1;32m    188\u001b[0m     f\u001b[38;5;241m.\u001b[39mwrite(\u001b[38;5;124m'\u001b[39m\u001b[38;5;130;01m\\n\u001b[39;00m\u001b[38;5;124m'\u001b[39m\u001b[38;5;241m.\u001b[39mjoin([header] \u001b[38;5;241m+\u001b[39m lines))\n\u001b[1;32m    190\u001b[0m \u001b[38;5;28;01mreturn\u001b[39;00m users\n",
      "\u001b[0;31mIsADirectoryError\u001b[0m: [Errno 21] Is a directory: '/Users/hussam/Desktop/Projects/algopologist/trials/data/butterfinger'"
     ]
    }
   ],
   "source": [
    "GW.signUp(num_users, xp.config['email_template'], xp.config['experiment_id'], xp.experiment_path())"
   ]
  },
  {
   "cell_type": "code",
   "execution_count": null,
   "metadata": {},
   "outputs": [],
   "source": []
  }
 ],
 "metadata": {
  "kernelspec": {
   "display_name": "Python 3",
   "language": "python",
   "name": "python3"
  },
  "language_info": {
   "codemirror_mode": {
    "name": "ipython",
    "version": 3
   },
   "file_extension": ".py",
   "mimetype": "text/x-python",
   "name": "python",
   "nbconvert_exporter": "python",
   "pygments_lexer": "ipython3",
   "version": "3.10.4"
  }
 },
 "nbformat": 4,
 "nbformat_minor": 2
}
