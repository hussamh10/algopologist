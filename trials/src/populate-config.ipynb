{
 "cells": [
  {
   "cell_type": "code",
   "execution_count": 1,
   "metadata": {},
   "outputs": [
    {
     "name": "stdout",
     "output_type": "stream",
     "text": [
      "LAB 317...\n",
      "BASE_DIR: /Users/hussam/Desktop/Projects/algopologist\n"
     ]
    }
   ],
   "source": [
    "import sys\n",
    "import os\n",
    "sys.path.append('../../')\n",
    "from core.constants import BASE_DIR"
   ]
  },
  {
   "cell_type": "code",
   "execution_count": 2,
   "metadata": {},
   "outputs": [],
   "source": [
    "config = dict()\n",
    "config['experiment_id'] = 'compound-post'\n",
    "config['email_template'] = config['experiment_id']"
   ]
  },
  {
   "cell_type": "code",
   "execution_count": 3,
   "metadata": {},
   "outputs": [],
   "source": [
    "config['actions'] = ['like', 'follow', 'join', 'open', '']\n",
    "config['platforms'] = ['YouTube', 'Reddit', 'Facebook', 'Twitter']\n",
    "topics = ['Elections', 'NBA']\n",
    "config['replications'] = 2\n",
    "\n",
    "num_users = len(config['actions']) * config['replications'] * len(topics)\n",
    "\n",
    "config['topics'] = dict()\n",
    "for topic in topics:\n",
    "    config['topics'][f'{topic}'] = dict()\n",
    "    for platform in config['platforms']:\n",
    "        p = platform.lower()\n",
    "        config['topics'][topic][f'{p}'] = dict()\n",
    "        for action in config['actions']:\n",
    "            config['topics'][topic][f'{p}'][f'{action}'] = topic\n",
    "\n",
    "users = dict()\n",
    "i = 0\n",
    "for topic in topics:\n",
    "    for action in config['actions']:\n",
    "        for replication in range(config['replications']):\n",
    "            users[f'{i}'] = dict()\n",
    "            users[f'{i}']['topic'] = topic\n",
    "            users[f'{i}']['action'] = action\n",
    "            users[f'{i}']['replication'] = replication\n",
    "            users[f'{i}']['email'] = f\"{config['email_template']}{i}@spartaaceap.com\"\n",
    "            i += 1\n",
    "\n",
    "config['users'] = users"
   ]
  },
  {
   "cell_type": "code",
   "execution_count": 6,
   "metadata": {},
   "outputs": [],
   "source": [
    "path = os.path.join(BASE_DIR, 'trials', 'data', config[\"experiment_id\"])\n",
    "if not os.path.exists(os.path.dirname(path)):\n",
    "    os.makedirs(os.path.dirname(path))\n",
    "config_path = os.path.join(path, 'config.json')\n",
    "import json\n",
    "\n",
    "if not os.path.exists(config_path):\n",
    "    os.makedirs(os.path.dirname(config_path))\n",
    "\n",
    "with open(config_path, 'w') as f:\n",
    "    json.dump(config, f, indent=4)"
   ]
  },
  {
   "cell_type": "code",
   "execution_count": 2,
   "metadata": {},
   "outputs": [],
   "source": [
    "from core.account_creation.GoogleWorkspace import GoogleWorkspace\n",
    "from core.experiment.Experiment import Experiment\n",
    "\n",
    "xp = Experiment(experiment_id=\"compound\", client_id=\"admin\")"
   ]
  },
  {
   "cell_type": "code",
   "execution_count": 3,
   "metadata": {},
   "outputs": [],
   "source": [
    "GW = GoogleWorkspace()"
   ]
  },
  {
   "cell_type": "code",
   "execution_count": 4,
   "metadata": {},
   "outputs": [],
   "source": [
    "config = xp.config\n",
    "GW.uploadUsers(users=config['users'], xp_id=config['experiment_id'], path=xp.experiment_path())"
   ]
  },
  {
   "cell_type": "code",
   "execution_count": 6,
   "metadata": {},
   "outputs": [
    {
     "ename": "NameError",
     "evalue": "name 'GW' is not defined",
     "output_type": "error",
     "traceback": [
      "\u001b[0;31m---------------------------------------------------------------------------\u001b[0m",
      "\u001b[0;31mNameError\u001b[0m                                 Traceback (most recent call last)",
      "Cell \u001b[0;32mIn[6], line 1\u001b[0m\n\u001b[0;32m----> 1\u001b[0m \u001b[43mGW\u001b[49m\u001b[38;5;241m.\u001b[39msignUp(num_users, xp\u001b[38;5;241m.\u001b[39mconfig[\u001b[38;5;124m'\u001b[39m\u001b[38;5;124memail_template\u001b[39m\u001b[38;5;124m'\u001b[39m], xp\u001b[38;5;241m.\u001b[39mconfig[\u001b[38;5;124m'\u001b[39m\u001b[38;5;124mexperiment_id\u001b[39m\u001b[38;5;124m'\u001b[39m], xp\u001b[38;5;241m.\u001b[39mexperiment_path())\n",
      "\u001b[0;31mNameError\u001b[0m: name 'GW' is not defined"
     ]
    }
   ],
   "source": [
    "GW.signUp(num_users, xp.config['email_template'], xp.config['experiment_id'], xp.experiment_path())"
   ]
  }
 ],
 "metadata": {
  "kernelspec": {
   "display_name": "Python 3",
   "language": "python",
   "name": "python3"
  },
  "language_info": {
   "codemirror_mode": {
    "name": "ipython",
    "version": 3
   },
   "file_extension": ".py",
   "mimetype": "text/x-python",
   "name": "python",
   "nbconvert_exporter": "python",
   "pygments_lexer": "ipython3",
   "version": "3.10.4"
  }
 },
 "nbformat": 4,
 "nbformat_minor": 2
}
