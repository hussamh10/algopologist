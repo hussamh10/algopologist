{
 "cells": [
  {
   "cell_type": "code",
   "execution_count": 1,
   "metadata": {},
   "outputs": [],
   "source": [
    "import json\n",
    "\n",
    "config = json.load(open('config_local.json'))"
   ]
  },
  {
   "cell_type": "code",
   "execution_count": 7,
   "metadata": {},
   "outputs": [],
   "source": [
    "treatments = config['treatments']\n",
    "replications = config['replication']\n",
    "email = config['email_template']\n",
    "\n",
    "num_users = len(treatments) * replications\n",
    "num_users"
   ]
  },
  {
   "cell_type": "code",
   "execution_count": 11,
   "metadata": {},
   "outputs": [],
   "source": [
    "users = dict()\n",
    "for user in range(num_users):\n",
    "    users[user] = dict()\n",
    "    users[user]['action'] = treatments[user % len(treatments)]\n",
    "    users[user]['replication'] = user // len(treatments)\n",
    "    users[user]['email'] = f\"{email}{user}@spartaaceap.com\""
   ]
  },
  {
   "cell_type": "code",
   "execution_count": null,
   "metadata": {},
   "outputs": [],
   "source": [
    " \"2\": {\n",
    "        \"email\": \"xpjungleaceap2@spartaaceap.com\",\n",
    "        \"action\": \"open\",\n",
    "        \"topic\": \"oscars\",\n",
    "        \"replicate\": \"0\"\n",
    "    },"
   ]
  }
 ],
 "metadata": {
  "kernelspec": {
   "display_name": "Python 3",
   "language": "python",
   "name": "python3"
  },
  "language_info": {
   "codemirror_mode": {
    "name": "ipython",
    "version": 3
   },
   "file_extension": ".py",
   "mimetype": "text/x-python",
   "name": "python",
   "nbconvert_exporter": "python",
   "pygments_lexer": "ipython3",
   "version": "3.10.4"
  }
 },
 "nbformat": 4,
 "nbformat_minor": 2
}
