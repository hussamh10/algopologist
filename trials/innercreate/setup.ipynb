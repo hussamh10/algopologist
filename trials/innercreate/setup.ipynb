{
 "cells": [
  {
   "cell_type": "code",
   "execution_count": 1,
   "metadata": {},
   "outputs": [],
   "source": [
    "import json\n",
    "\n",
    "config = json.load(open('config_local.json'))"
   ]
  },
  {
   "cell_type": "code",
   "execution_count": 4,
   "metadata": {},
   "outputs": [
    {
     "data": {
      "text/plain": [
       "20"
      ]
     },
     "execution_count": 4,
     "metadata": {},
     "output_type": "execute_result"
    }
   ],
   "source": [
    "treatments = [{'action': '', 'topic': ''}]\n",
    "replications = 20\n",
    "email = 'inner'\n",
    "\n",
    "num_users = len(treatments) * replications\n",
    "num_users"
   ]
  },
  {
   "cell_type": "code",
   "execution_count": 7,
   "metadata": {},
   "outputs": [],
   "source": [
    "users = dict()\n",
    "for user in range(num_users):\n",
    "    users[user] = dict()\n",
    "    users[user]['action'] = treatments[user % len(treatments)]['action']\n",
    "    users[user]['topic'] = treatments[user % len(treatments)]['topic']\n",
    "    users[user]['replication'] = user // len(treatments)\n",
    "    users[user]['email'] = f\"{email}{user}@spartaaceap.com\""
   ]
  },
  {
   "cell_type": "code",
   "execution_count": 8,
   "metadata": {},
   "outputs": [
    {
     "name": "stdout",
     "output_type": "stream",
     "text": [
      "{\n",
      "    \"0\": {\n",
      "        \"action\": \"\",\n",
      "        \"topic\": \"\",\n",
      "        \"replication\": 0,\n",
      "        \"email\": \"inner0@spartaaceap.com\"\n",
      "    },\n",
      "    \"1\": {\n",
      "        \"action\": \"\",\n",
      "        \"topic\": \"\",\n",
      "        \"replication\": 1,\n",
      "        \"email\": \"inner1@spartaaceap.com\"\n",
      "    },\n",
      "    \"2\": {\n",
      "        \"action\": \"\",\n",
      "        \"topic\": \"\",\n",
      "        \"replication\": 2,\n",
      "        \"email\": \"inner2@spartaaceap.com\"\n",
      "    },\n",
      "    \"3\": {\n",
      "        \"action\": \"\",\n",
      "        \"topic\": \"\",\n",
      "        \"replication\": 3,\n",
      "        \"email\": \"inner3@spartaaceap.com\"\n",
      "    },\n",
      "    \"4\": {\n",
      "        \"action\": \"\",\n",
      "        \"topic\": \"\",\n",
      "        \"replication\": 4,\n",
      "        \"email\": \"inner4@spartaaceap.com\"\n",
      "    },\n",
      "    \"5\": {\n",
      "        \"action\": \"\",\n",
      "        \"topic\": \"\",\n",
      "        \"replication\": 5,\n",
      "        \"email\": \"inner5@spartaaceap.com\"\n",
      "    },\n",
      "    \"6\": {\n",
      "        \"action\": \"\",\n",
      "        \"topic\": \"\",\n",
      "        \"replication\": 6,\n",
      "        \"email\": \"inner6@spartaaceap.com\"\n",
      "    },\n",
      "    \"7\": {\n",
      "        \"action\": \"\",\n",
      "        \"topic\": \"\",\n",
      "        \"replication\": 7,\n",
      "        \"email\": \"inner7@spartaaceap.com\"\n",
      "    },\n",
      "    \"8\": {\n",
      "        \"action\": \"\",\n",
      "        \"topic\": \"\",\n",
      "        \"replication\": 8,\n",
      "        \"email\": \"inner8@spartaaceap.com\"\n",
      "    },\n",
      "    \"9\": {\n",
      "        \"action\": \"\",\n",
      "        \"topic\": \"\",\n",
      "        \"replication\": 9,\n",
      "        \"email\": \"inner9@spartaaceap.com\"\n",
      "    },\n",
      "    \"10\": {\n",
      "        \"action\": \"\",\n",
      "        \"topic\": \"\",\n",
      "        \"replication\": 10,\n",
      "        \"email\": \"inner10@spartaaceap.com\"\n",
      "    },\n",
      "    \"11\": {\n",
      "        \"action\": \"\",\n",
      "        \"topic\": \"\",\n",
      "        \"replication\": 11,\n",
      "        \"email\": \"inner11@spartaaceap.com\"\n",
      "    },\n",
      "    \"12\": {\n",
      "        \"action\": \"\",\n",
      "        \"topic\": \"\",\n",
      "        \"replication\": 12,\n",
      "        \"email\": \"inner12@spartaaceap.com\"\n",
      "    },\n",
      "    \"13\": {\n",
      "        \"action\": \"\",\n",
      "        \"topic\": \"\",\n",
      "        \"replication\": 13,\n",
      "        \"email\": \"inner13@spartaaceap.com\"\n",
      "    },\n",
      "    \"14\": {\n",
      "        \"action\": \"\",\n",
      "        \"topic\": \"\",\n",
      "        \"replication\": 14,\n",
      "        \"email\": \"inner14@spartaaceap.com\"\n",
      "    },\n",
      "    \"15\": {\n",
      "        \"action\": \"\",\n",
      "        \"topic\": \"\",\n",
      "        \"replication\": 15,\n",
      "        \"email\": \"inner15@spartaaceap.com\"\n",
      "    },\n",
      "    \"16\": {\n",
      "        \"action\": \"\",\n",
      "        \"topic\": \"\",\n",
      "        \"replication\": 16,\n",
      "        \"email\": \"inner16@spartaaceap.com\"\n",
      "    },\n",
      "    \"17\": {\n",
      "        \"action\": \"\",\n",
      "        \"topic\": \"\",\n",
      "        \"replication\": 17,\n",
      "        \"email\": \"inner17@spartaaceap.com\"\n",
      "    },\n",
      "    \"18\": {\n",
      "        \"action\": \"\",\n",
      "        \"topic\": \"\",\n",
      "        \"replication\": 18,\n",
      "        \"email\": \"inner18@spartaaceap.com\"\n",
      "    },\n",
      "    \"19\": {\n",
      "        \"action\": \"\",\n",
      "        \"topic\": \"\",\n",
      "        \"replication\": 19,\n",
      "        \"email\": \"inner19@spartaaceap.com\"\n",
      "    }\n",
      "}\n"
     ]
    }
   ],
   "source": [
    "# print users in json format\n",
    "print(json.dumps(users, indent=4))"
   ]
  },
  {
   "cell_type": "code",
   "execution_count": 2,
   "metadata": {},
   "outputs": [],
   "source": [
    "import json\n",
    "import sys\n",
    "import os\n",
    "sys.path.append('/Users/hussam/Desktop/Projects/algopologist')"
   ]
  },
  {
   "cell_type": "code",
   "execution_count": 3,
   "metadata": {},
   "outputs": [
    {
     "name": "stdout",
     "output_type": "stream",
     "text": [
      "Email file not found\n",
      "Password file not found\n"
     ]
    }
   ],
   "source": [
    "from core.account_creation.GoogleWorkspace import GoogleWorkspace\n",
    "\n",
    "config = json.load(open('config.json', 'r'))\n",
    "users = config['users'].keys()\n",
    "emails = []\n",
    "for user in users:\n",
    "    emails.append(config['users'][user]['email'])\n",
    "\n",
    "GW = GoogleWorkspace()\n",
    "csv_path = os.path.join(config['path'], 'google_users.csv')\n",
    "GW.createUserCSV(emails, csv_path)"
   ]
  },
  {
   "cell_type": "code",
   "execution_count": 3,
   "metadata": {},
   "outputs": [],
   "source": [
    "import sys\n",
    "import os\n",
    "# sys.path.append(\"H:\\\\Desktop\\\\algopologist\")\n",
    "# sys.path.append(os.path.join('H:/', 'Desktop', 'spartaaceap', 'engine', 'src'))\n",
    "# sys.path.append(os.path.join('Users', 'hussam', 'Desktop', 'Projects', 'Platform behavior' ))\n",
    "sys.path.append(os.path.join('C:/', 'Users', 'hussa', 'Desktop', 'algopologist'))\n",
    "\n",
    "from core.constants import IP_DB_NAME, BASE_DIR, BASIC_PASSWORD\n",
    "from core.utils.IPManager import IPManager\n",
    "import json\n",
    "from core.browser.Selenium import BrowserFactory\n",
    "from core.utils.zookeeper import getId\n",
    "from core.experiment.Subject import Subject\n",
    "from core.account_creation.GoogleWorkspace import GoogleWorkspace\n",
    "from core.utils.util import wait, bigWait\n",
    "from core.utils.log import debug, error, logging\n",
    "from core.utils import monkey"
   ]
  },
  {
   "cell_type": "code",
   "execution_count": null,
   "metadata": {},
   "outputs": [],
   "source": [
    "BrowserFactory('uc_single')\n",
    "CLIENT_ID = '0'\n",
    "g = GoogleWorkspace()\n",
    "g.initiateUser(email)"
   ]
  },
  {
   "cell_type": "code",
   "execution_count": 2,
   "metadata": {},
   "outputs": [],
   "source": [
    "email = 'inner0@spartaaceap.com'\n",
    "pasword = 'password'"
   ]
  },
  {
   "cell_type": "code",
   "execution_count": null,
   "metadata": {},
   "outputs": [],
   "source": [
    "browser = BrowserFactory('uc_single')\n",
    "\n",
    "session = 'inner0'\n",
    "browser = BrowserFactory().getBrowser(session)\n",
    "driver = browser.getDriver()"
   ]
  },
  {
   "cell_type": "code",
   "execution_count": null,
   "metadata": {},
   "outputs": [],
   "source": [
    "from selenium.webdriver.common.by import By"
   ]
  },
  {
   "cell_type": "code",
   "execution_count": null,
   "metadata": {},
   "outputs": [],
   "source": [
    "driver.get('https://accounts.google.com/signin')\n",
    "debug('waiting for signin')\n",
    "wait(2)\n",
    "monkey.click()\n",
    "wait(1)\n",
    "\n",
    "email = driver.find_element(By.XPATH, \"//input[@id='identifierId']\")\n",
    "email.click()\n",
    "\n",
    "wait(1)\n",
    "\n",
    "monkey.type(self.email)\n",
    "wait(1)\n",
    "monkey.enter()\n",
    "wait(2)\n",
    "monkey.type(self.password)\n",
    "wait(1)\n",
    "monkey.enter()\n",
    "\n",
    "# get url of the page\n",
    "wait(2)"
   ]
  }
 ],
 "metadata": {
  "kernelspec": {
   "display_name": "Python 3",
   "language": "python",
   "name": "python3"
  },
  "language_info": {
   "codemirror_mode": {
    "name": "ipython",
    "version": 3
   },
   "file_extension": ".py",
   "mimetype": "text/x-python",
   "name": "python",
   "nbconvert_exporter": "python",
   "pygments_lexer": "ipython3",
   "version": "3.11.8"
  }
 },
 "nbformat": 4,
 "nbformat_minor": 2
}
