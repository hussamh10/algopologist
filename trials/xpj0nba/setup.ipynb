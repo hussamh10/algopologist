{
 "cells": [
  {
   "cell_type": "code",
   "execution_count": 1,
   "metadata": {},
   "outputs": [],
   "source": [
    "import json\n",
    "\n",
    "config = json.load(open('config_local.json'))"
   ]
  },
  {
   "cell_type": "code",
   "execution_count": 14,
   "metadata": {},
   "outputs": [
    {
     "data": {
      "text/plain": [
       "18"
      ]
     },
     "execution_count": 14,
     "metadata": {},
     "output_type": "execute_result"
    }
   ],
   "source": [
    "treatments = config['treatments']\n",
    "replications = config['replication']\n",
    "email = config['email_template']\n",
    "\n",
    "num_users = len(treatments) * replications\n",
    "num_users"
   ]
  },
  {
   "cell_type": "code",
   "execution_count": 15,
   "metadata": {},
   "outputs": [],
   "source": [
    "users = dict()\n",
    "for user in range(num_users):\n",
    "    users[user] = dict()\n",
    "    users[user]['action'] = treatments[user % len(treatments)]['action']\n",
    "    users[user]['topic'] = treatments[user % len(treatments)]['topic']\n",
    "    users[user]['replication'] = user // len(treatments)\n",
    "    users[user]['email'] = f\"{email}{user}@spartaaceap.com\""
   ]
  },
  {
   "cell_type": "code",
   "execution_count": 17,
   "metadata": {},
   "outputs": [
    {
     "name": "stdout",
     "output_type": "stream",
     "text": [
      "{\n",
      "    \"0\": {\n",
      "        \"action\": \"open\",\n",
      "        \"topic\": \"prolife\",\n",
      "        \"replication\": 0,\n",
      "        \"email\": \"xp1nba0@spartaaceap.com\"\n",
      "    },\n",
      "    \"1\": {\n",
      "        \"action\": \"search\",\n",
      "        \"topic\": \"prolife\",\n",
      "        \"replication\": 0,\n",
      "        \"email\": \"xp1nba1@spartaaceap.com\"\n",
      "    },\n",
      "    \"2\": {\n",
      "        \"action\": \"like\",\n",
      "        \"topic\": \"prolife\",\n",
      "        \"replication\": 0,\n",
      "        \"email\": \"xp1nba2@spartaaceap.com\"\n",
      "    },\n",
      "    \"3\": {\n",
      "        \"action\": \"follow\",\n",
      "        \"topic\": \"prolife\",\n",
      "        \"replication\": 0,\n",
      "        \"email\": \"xp1nba3@spartaaceap.com\"\n",
      "    },\n",
      "    \"4\": {\n",
      "        \"action\": \"join\",\n",
      "        \"topic\": \"prolife\",\n",
      "        \"replication\": 0,\n",
      "        \"email\": \"xp1nba4@spartaaceap.com\"\n",
      "    },\n",
      "    \"5\": {\n",
      "        \"action\": \"\",\n",
      "        \"topic\": \"\",\n",
      "        \"replication\": 0,\n",
      "        \"email\": \"xp1nba5@spartaaceap.com\"\n",
      "    },\n",
      "    \"6\": {\n",
      "        \"action\": \"open\",\n",
      "        \"topic\": \"prolife\",\n",
      "        \"replication\": 1,\n",
      "        \"email\": \"xp1nba6@spartaaceap.com\"\n",
      "    },\n",
      "    \"7\": {\n",
      "        \"action\": \"search\",\n",
      "        \"topic\": \"prolife\",\n",
      "        \"replication\": 1,\n",
      "        \"email\": \"xp1nba7@spartaaceap.com\"\n",
      "    },\n",
      "    \"8\": {\n",
      "        \"action\": \"like\",\n",
      "        \"topic\": \"prolife\",\n",
      "        \"replication\": 1,\n",
      "        \"email\": \"xp1nba8@spartaaceap.com\"\n",
      "    },\n",
      "    \"9\": {\n",
      "        \"action\": \"follow\",\n",
      "        \"topic\": \"prolife\",\n",
      "        \"replication\": 1,\n",
      "        \"email\": \"xp1nba9@spartaaceap.com\"\n",
      "    },\n",
      "    \"10\": {\n",
      "        \"action\": \"join\",\n",
      "        \"topic\": \"prolife\",\n",
      "        \"replication\": 1,\n",
      "        \"email\": \"xp1nba10@spartaaceap.com\"\n",
      "    },\n",
      "    \"11\": {\n",
      "        \"action\": \"\",\n",
      "        \"topic\": \"\",\n",
      "        \"replication\": 1,\n",
      "        \"email\": \"xp1nba11@spartaaceap.com\"\n",
      "    },\n",
      "    \"12\": {\n",
      "        \"action\": \"open\",\n",
      "        \"topic\": \"prolife\",\n",
      "        \"replication\": 2,\n",
      "        \"email\": \"xp1nba12@spartaaceap.com\"\n",
      "    },\n",
      "    \"13\": {\n",
      "        \"action\": \"search\",\n",
      "        \"topic\": \"prolife\",\n",
      "        \"replication\": 2,\n",
      "        \"email\": \"xp1nba13@spartaaceap.com\"\n",
      "    },\n",
      "    \"14\": {\n",
      "        \"action\": \"like\",\n",
      "        \"topic\": \"prolife\",\n",
      "        \"replication\": 2,\n",
      "        \"email\": \"xp1nba14@spartaaceap.com\"\n",
      "    },\n",
      "    \"15\": {\n",
      "        \"action\": \"follow\",\n",
      "        \"topic\": \"prolife\",\n",
      "        \"replication\": 2,\n",
      "        \"email\": \"xp1nba15@spartaaceap.com\"\n",
      "    },\n",
      "    \"16\": {\n",
      "        \"action\": \"join\",\n",
      "        \"topic\": \"prolife\",\n",
      "        \"replication\": 2,\n",
      "        \"email\": \"xp1nba16@spartaaceap.com\"\n",
      "    },\n",
      "    \"17\": {\n",
      "        \"action\": \"\",\n",
      "        \"topic\": \"\",\n",
      "        \"replication\": 2,\n",
      "        \"email\": \"xp1nba17@spartaaceap.com\"\n",
      "    }\n",
      "}\n"
     ]
    }
   ],
   "source": [
    "# print users in json format\n",
    "print(json.dumps(users, indent=4))"
   ]
  },
  {
   "cell_type": "code",
   "execution_count": 2,
   "metadata": {},
   "outputs": [],
   "source": [
    "import json\n",
    "import sys\n",
    "import os\n",
    "sys.path.append('/Users/hussam/Desktop/Projects/algopologist')\n"
   ]
  },
  {
   "cell_type": "code",
   "execution_count": 3,
   "metadata": {},
   "outputs": [
    {
     "name": "stdout",
     "output_type": "stream",
     "text": [
      "Email file not found\n",
      "Password file not found\n"
     ]
    }
   ],
   "source": [
    "from core.account_creation.GoogleWorkspace import GoogleWorkspace\n",
    "\n",
    "config = json.load(open('config.json', 'r'))\n",
    "users = config['users'].keys()\n",
    "emails = []\n",
    "for user in users:\n",
    "    emails.append(config['users'][user]['email'])\n",
    "\n",
    "GW = GoogleWorkspace()\n",
    "csv_path = os.path.join(config['path'], 'google_users.csv')\n",
    "GW.createUserCSV(emails, csv_path)"
   ]
  },
  {
   "cell_type": "code",
   "execution_count": null,
   "metadata": {},
   "outputs": [],
   "source": []
  }
 ],
 "metadata": {
  "kernelspec": {
   "display_name": "Python 3",
   "language": "python",
   "name": "python3"
  },
  "language_info": {
   "codemirror_mode": {
    "name": "ipython",
    "version": 3
   },
   "file_extension": ".py",
   "mimetype": "text/x-python",
   "name": "python",
   "nbconvert_exporter": "python",
   "pygments_lexer": "ipython3",
   "version": "3.11.8"
  }
 },
 "nbformat": 4,
 "nbformat_minor": 2
}
